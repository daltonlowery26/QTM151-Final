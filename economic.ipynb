{
 "cells": [
  {
   "cell_type": "code",
   "execution_count": 1,
   "id": "a8b439f5",
   "metadata": {},
   "outputs": [],
   "source": [
    "import pandas as pd\n",
    "import matplotlib.pyplot as plt\n"
   ]
  },
  {
   "cell_type": "code",
   "execution_count": 12,
   "id": "2efd32eb",
   "metadata": {},
   "outputs": [],
   "source": [
    "civil_poli_rights = pd.read_csv('data/cpr.csv')\n",
    "global_best = pd.read_csv('data/esr_hiy_globalbest.csv')\n",
    "\n",
    "col_map = {\n",
    "    \"HiY_Education_All_GBScore\": \"Education Score\",\n",
    "    \"HiY_Health_All_GBScore\": \"Health Score\",\n",
    "    \"HiY_QofL_All_GBScore\": \"Quality of Life Score\",\n",
    "    \"HiY_Work_All_GBScore\": \"Work Score\",\n",
    "    \"HiY_Food_All_GBScore\": \"Food Security Score\",\n",
    "    \"HiY_Housing_All_GBScore\": \"Housing Score\",\n",
    "    \"TotNetUpSecEn_All_GBScore\": \"Secondary Enrollment Score\",\n",
    "    \"PISAmath_All_GBScore\": \"Math Proficiency\",\n",
    "    \"PISAreading_All_GBScore\": \"Reading Proficiency\",\n",
    "    \"PISAscience_All_GBScore\": \"Science Proficiency\",\n",
    "    \"HiY_PISAAverage_All_GBScore\": \"Average PISA Score\",\n",
    "    \"FoodSecure_All_GBScore\": \"Food Secure Score\",\n",
    "    \"SeniorSurvival_All_GBScore\": \"Senior Survival Score\",\n",
    "    \"U5Survival_All_GBScore\": \"Child Survival Score\",\n",
    "    \"NotRelPoor_GBScore\": \"Not in Relative Poverty\",\n",
    "    \"NotLTUnemploy_All_GBScore\": \"Not Long-Term Unemployed\",\n",
    "    \"NotLowBirWt_GBScore\": \"Normal Birth Weight Rate\",\n",
    "    \"SafeSanitation_GBScore\": \"Safe Sanitation Score\",\n",
    "}\n",
    "\n",
    "# Rename columns in global_best using col_map\n",
    "global_best_renamed = global_best.rename(columns=col_map)\n",
    "\n",
    "# select relevant columns\n",
    "df = global_best_renamed[list(col_map.values()) + ['Country', 'Year']]\n",
    "\n",
    "gropuped_mean = df.groupby(by='Country').mean()"
   ]
  },
  {
   "cell_type": "code",
   "execution_count": null,
   "id": "f36c6e51",
   "metadata": {},
   "outputs": [
    {
     "data": {
      "text/plain": [
       "Quality of Life Score         0.972973\n",
       "Housing Score                 0.921593\n",
       "Food Secure Score             0.876126\n",
       "Food Security Score           0.876126\n",
       "Education Score               0.870777\n",
       "Science Proficiency           0.853181\n",
       "Average PISA Score            0.853181\n",
       "Work Score                    0.851351\n",
       "Math Proficiency              0.822354\n",
       "Not Long-Term Unemployed      0.816019\n",
       "Reading Proficiency           0.811937\n",
       "Not in Relative Poverty       0.796312\n",
       "Health Score                  0.652168\n",
       "Normal Birth Weight Rate      0.652168\n",
       "Safe Sanitation Score         0.607264\n",
       "Secondary Enrollment Score    0.517736\n",
       "Child Survival Score          0.192990\n",
       "Senior Survival Score         0.163288\n",
       "Country                       0.000000\n",
       "Year                          0.000000\n",
       "dtype: float64"
      ]
     },
     "execution_count": 13,
     "metadata": {},
     "output_type": "execute_result"
    }
   ],
   "source": [
    "# examine the percentage of missing data\n",
    "\n",
    "df.isnull().mean().sort_values(ascending=False)\n"
   ]
  },
  {
   "cell_type": "code",
   "execution_count": null,
   "id": "c94a60d7",
   "metadata": {},
   "outputs": [],
   "source": []
  }
 ],
 "metadata": {
  "kernelspec": {
   "display_name": "base",
   "language": "python",
   "name": "python3"
  },
  "language_info": {
   "codemirror_mode": {
    "name": "ipython",
    "version": 3
   },
   "file_extension": ".py",
   "mimetype": "text/x-python",
   "name": "python",
   "nbconvert_exporter": "python",
   "pygments_lexer": "ipython3",
   "version": "3.9.13"
  }
 },
 "nbformat": 4,
 "nbformat_minor": 5
}

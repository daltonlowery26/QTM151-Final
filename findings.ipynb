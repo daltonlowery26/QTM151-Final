{
 "cells": [
  {
   "cell_type": "markdown",
   "id": "100eb54a",
   "metadata": {},
   "source": [
    "### QTM 151 Final"
   ]
  },
  {
   "cell_type": "markdown",
   "id": "bbe9c015",
   "metadata": {},
   "source": [
    "How did the quality of life, measured in terms of political freedom, civil rights, and economic prosperity progress over the first two years of the Biden (2020-2022) and first Trump (2016-2018) administrations?"
   ]
  },
  {
   "cell_type": "markdown",
   "id": "84317491",
   "metadata": {},
   "source": [
    "General Outline \n",
    "<br>\n",
    "<small> For the project we need to provide three insights in the data. We will make one for each cata we are measuring. We have to assume that the reader knows nothing about anything. We also have to provide a description for each insight\n",
    "<br>\n",
    "<br>\n",
    "Quality of the three deliverables: 18 points (6points x 3)\n",
    "Is this insight original and interesting? 1 point\n",
    "Do presented tables and figures support the insight? 3 points\n",
    "Are presented tables and figures easy to understand / aesthetic? 1 point \n",
    "Are the codes all running without error? 1 point\n",
    "<br>\n"
   ]
  },
  {
   "cell_type": "markdown",
   "id": "742861a9",
   "metadata": {},
   "source": [
    "#### Packages and Data Import"
   ]
  },
  {
   "cell_type": "code",
   "execution_count": null,
   "id": "a52549aa",
   "metadata": {},
   "outputs": [],
   "source": [
    "# packages\n",
    "import pandas as pd\n",
    "import matplotlib.pyplot as plt\n",
    "import numpy as np\n",
    "import os"
   ]
  },
  {
   "cell_type": "code",
   "execution_count": null,
   "id": "e6ef5775",
   "metadata": {},
   "outputs": [],
   "source": [
    "# data"
   ]
  },
  {
   "cell_type": "markdown",
   "id": "8c7a61a9",
   "metadata": {},
   "source": [
    "#### Change In Political Freedom"
   ]
  },
  {
   "cell_type": "code",
   "execution_count": null,
   "id": "38994438",
   "metadata": {},
   "outputs": [],
   "source": []
  },
  {
   "cell_type": "markdown",
   "id": "238095f4",
   "metadata": {},
   "source": [
    "#### Change in Civil Rights"
   ]
  },
  {
   "cell_type": "code",
   "execution_count": null,
   "id": "f2c8c751",
   "metadata": {},
   "outputs": [],
   "source": []
  },
  {
   "cell_type": "markdown",
   "id": "5bafe892",
   "metadata": {},
   "source": [
    "#### Economic Prosperity"
   ]
  },
  {
   "cell_type": "code",
   "execution_count": null,
   "id": "6fd22b91",
   "metadata": {},
   "outputs": [],
   "source": []
  }
 ],
 "metadata": {
  "kernelspec": {
   "display_name": "base",
   "language": "python",
   "name": "python3"
  },
  "language_info": {
   "name": "python",
   "version": "3.12.7"
  }
 },
 "nbformat": 4,
 "nbformat_minor": 5
}

{
 "cells": [
  {
   "cell_type": "markdown",
   "id": "100eb54a",
   "metadata": {},
   "source": [
    "### QTM 151 Final"
   ]
  },
  {
   "cell_type": "markdown",
   "id": "bbe9c015",
   "metadata": {},
   "source": [
    "How did the quality of life, measured in terms of political freedom, civil rights, and economic prosperity progress over diffrent periods of the Biden and first Trump administrations?"
   ]
  },
  {
   "cell_type": "markdown",
   "id": "84317491",
   "metadata": {},
   "source": [
    "General Outline \n",
    "<br>\n",
    "<small> For the project we need to provide three insights in the data. We will make one for each cata we are measuring. We have to assume that the reader knows nothing about anything. We also have to provide a description for each insight\n",
    "<br>\n",
    "<br>\n",
    "Quality of the three deliverables: 18 points (6points x 3)\n",
    "Is this insight original and interesting? 1 point\n",
    "Do presented tables and figures support the insight? 3 points\n",
    "Are presented tables and figures easy to understand / aesthetic? 1 point \n",
    "Are the codes all running without error? 1 point\n",
    "<br>\n"
   ]
  },
  {
   "cell_type": "code",
   "execution_count": 1,
   "id": "a52549aa",
   "metadata": {},
   "outputs": [],
   "source": [
    "# packages\n",
    "import pandas as pd\n",
    "import matplotlib.pyplot as plt\n",
    "import numpy as np\n",
    "import os\n",
    "\n",
    "# set working directory\n",
    "os.chdir('C:/Users/dalto/OneDrive/Pictures/Documents/Projects/QTM_151_Final/data')"
   ]
  },
  {
   "cell_type": "markdown",
   "id": "8c7a61a9",
   "metadata": {},
   "source": [
    "#### Change In Political Freedom"
   ]
  },
  {
   "cell_type": "markdown",
   "id": "3ac2b414",
   "metadata": {},
   "source": [
    "Civil Rights Data"
   ]
  },
  {
   "cell_type": "markdown",
   "id": "b1506f52",
   "metadata": {},
   "source": [
    "import civil rights data"
   ]
  },
  {
   "cell_type": "code",
   "execution_count": 2,
   "id": "38994438",
   "metadata": {},
   "outputs": [
    {
     "data": {
      "application/vnd.microsoft.datawrangler.viewer.v0+json": {
       "columns": [
        {
         "name": "index",
         "rawType": "int64",
         "type": "integer"
        },
        {
         "name": "country",
         "rawType": "object",
         "type": "string"
        },
        {
         "name": "year",
         "rawType": "int64",
         "type": "integer"
        },
        {
         "name": "countryyear",
         "rawType": "object",
         "type": "string"
        },
        {
         "name": "iso3c",
         "rawType": "object",
         "type": "string"
        },
        {
         "name": "iso3n",
         "rawType": "float64",
         "type": "float"
        },
        {
         "name": "cowcode",
         "rawType": "float64",
         "type": "float"
        },
        {
         "name": "hrmicode",
         "rawType": "int64",
         "type": "integer"
        },
        {
         "name": "disap_mean",
         "rawType": "float64",
         "type": "float"
        },
        {
         "name": "disap_sd",
         "rawType": "float64",
         "type": "float"
        },
        {
         "name": "disap_lo",
         "rawType": "float64",
         "type": "float"
        },
        {
         "name": "disap_hi",
         "rawType": "float64",
         "type": "float"
        },
        {
         "name": "exkill_mean",
         "rawType": "float64",
         "type": "float"
        },
        {
         "name": "exkill_sd",
         "rawType": "float64",
         "type": "float"
        },
        {
         "name": "exkill_lo",
         "rawType": "float64",
         "type": "float"
        },
        {
         "name": "exkill_hi",
         "rawType": "float64",
         "type": "float"
        },
        {
         "name": "arrest_mean",
         "rawType": "float64",
         "type": "float"
        },
        {
         "name": "arrest_sd",
         "rawType": "float64",
         "type": "float"
        },
        {
         "name": "arrest_lo",
         "rawType": "float64",
         "type": "float"
        },
        {
         "name": "arrest_hi",
         "rawType": "float64",
         "type": "float"
        },
        {
         "name": "tort_mean",
         "rawType": "float64",
         "type": "float"
        },
        {
         "name": "tort_sd",
         "rawType": "float64",
         "type": "float"
        },
        {
         "name": "tort_lo",
         "rawType": "float64",
         "type": "float"
        },
        {
         "name": "tort_hi",
         "rawType": "float64",
         "type": "float"
        },
        {
         "name": "dpex_mean",
         "rawType": "float64",
         "type": "float"
        },
        {
         "name": "dpex_sd",
         "rawType": "float64",
         "type": "float"
        },
        {
         "name": "dpex_lo",
         "rawType": "float64",
         "type": "float"
        },
        {
         "name": "dpex_hi",
         "rawType": "float64",
         "type": "float"
        },
        {
         "name": "express_mean",
         "rawType": "float64",
         "type": "float"
        },
        {
         "name": "express_sd",
         "rawType": "float64",
         "type": "float"
        },
        {
         "name": "express_lo",
         "rawType": "float64",
         "type": "float"
        },
        {
         "name": "express_hi",
         "rawType": "float64",
         "type": "float"
        },
        {
         "name": "polpart_mean",
         "rawType": "float64",
         "type": "float"
        },
        {
         "name": "polpart_sd",
         "rawType": "float64",
         "type": "float"
        },
        {
         "name": "polpart_lo",
         "rawType": "float64",
         "type": "float"
        },
        {
         "name": "polpart_hi",
         "rawType": "float64",
         "type": "float"
        },
        {
         "name": "assem_mean",
         "rawType": "float64",
         "type": "float"
        },
        {
         "name": "assem_sd",
         "rawType": "float64",
         "type": "float"
        },
        {
         "name": "assem_lo",
         "rawType": "float64",
         "type": "float"
        },
        {
         "name": "assem_hi",
         "rawType": "float64",
         "type": "float"
        },
        {
         "name": "rel_mean",
         "rawType": "float64",
         "type": "float"
        },
        {
         "name": "rel_sd",
         "rawType": "float64",
         "type": "float"
        },
        {
         "name": "rel_lo",
         "rawType": "float64",
         "type": "float"
        },
        {
         "name": "rel_hi",
         "rawType": "float64",
         "type": "float"
        },
        {
         "name": "physint_mean",
         "rawType": "float64",
         "type": "float"
        },
        {
         "name": "physint_sd",
         "rawType": "float64",
         "type": "float"
        },
        {
         "name": "physint_lo",
         "rawType": "float64",
         "type": "float"
        },
        {
         "name": "physint_hi",
         "rawType": "float64",
         "type": "float"
        },
        {
         "name": "empower_mean",
         "rawType": "float64",
         "type": "float"
        },
        {
         "name": "empower_sd",
         "rawType": "float64",
         "type": "float"
        },
        {
         "name": "empower_lo",
         "rawType": "float64",
         "type": "float"
        },
        {
         "name": "empower_hi",
         "rawType": "float64",
         "type": "float"
        }
       ],
       "conversionMethod": "pd.DataFrame",
       "ref": "5ac7ac13-8226-4716-be3f-36574945df93",
       "rows": [
        [
         "0",
         "Angola",
         "2017",
         "AGO2017",
         "AGO",
         "24.0",
         "540.0",
         "1",
         "6.4641614",
         "0.89810622",
         "5.3145852",
         "7.6137376",
         "5.0889416",
         "0.7123915",
         "4.1770806",
         "6.0008025",
         "3.7899294",
         "0.49456775",
         "3.1568828",
         "4.422976",
         "3.4392095",
         "0.51408279",
         "2.7811835",
         "4.0972352",
         "10.0",
         "0.0",
         "10.0",
         "10.0",
         "3.4531848",
         "1.3755578",
         "1.6924709",
         "5.2138987",
         "3.0862069",
         "0.78368896",
         "2.0830851",
         "4.0893288",
         "2.7237363",
         "0.87913299",
         "1.598446",
         "3.8490264",
         null,
         null,
         null,
         null,
         "4.4018683",
         "0.79570484",
         "3.3833661",
         "5.4203706",
         "2.7355831",
         "0.7373814",
         "1.7917349",
         "3.6794312"
        ],
        [
         "1",
         "Angola",
         "2018",
         "AGO2018",
         "AGO",
         "24.0",
         "540.0",
         "1",
         "7.1740689",
         "0.4911924",
         "6.5453424",
         "7.8027954",
         "5.2830458",
         "0.31339714",
         "4.8818974",
         "5.6841941",
         "4.8502078",
         "0.36783502",
         "4.3793788",
         "5.3210368",
         "4.4587679",
         "0.37151873",
         "3.9832239",
         "4.9343119",
         "10.0",
         "0.0",
         "10.0",
         "10.0",
         "4.7582421",
         "0.44025645",
         "4.1947141",
         "5.3217702",
         "4.8589058",
         "0.508757",
         "4.2076969",
         "5.5101147",
         "4.8665619",
         "0.4062832",
         "4.3465195",
         "5.3866043",
         null,
         null,
         null,
         null,
         "5.1228848",
         "0.8127929",
         "4.08251",
         "6.1632595",
         "4.5804725",
         "0.70110404",
         "3.6830592",
         "5.4778857"
        ],
        [
         "2",
         "Angola",
         "2019",
         "AGO2019",
         "AGO",
         "24.0",
         "540.0",
         "1",
         "6.3579597",
         "0.62610495",
         "5.5565453",
         "7.1593742",
         "5.0296884",
         "0.35060617",
         "4.5809126",
         "5.4784641",
         "4.9702744",
         "0.51206434",
         "4.3148322",
         "5.6257167",
         "4.9023504",
         "0.43827674",
         "4.3413563",
         "5.4633446",
         "10.0",
         "0.0",
         "10.0",
         "10.0",
         "4.1257744",
         "0.32163653",
         "3.7140796",
         "4.5374689",
         "4.3426576",
         "0.46488318",
         "3.747607",
         "4.9377079",
         "4.7929449",
         "0.49533617",
         "4.1589146",
         "5.4269753",
         null,
         null,
         null,
         null,
         "4.4865541",
         "0.7900359",
         "3.4753082",
         "5.4977999",
         "4.2263622",
         "0.67112136",
         "3.367327",
         "5.0853977"
        ],
        [
         "3",
         "Angola",
         "2020",
         "AGO2020",
         "AGO",
         "24.0",
         "540.0",
         "1",
         "5.4535308",
         "0.79278618",
         "4.4387646",
         "6.468297",
         "3.8449578",
         "0.50491977",
         "3.1986606",
         "4.4912553",
         "4.24543",
         "0.74019867",
         "3.2979758",
         "5.1928844",
         "4.7541127",
         "0.77037019",
         "3.768039",
         "5.7401867",
         "10.0",
         "0.0",
         "10.0",
         "10.0",
         "3.3764799",
         "0.49451986",
         "2.7434945",
         "4.0094652",
         "3.2421777",
         "0.45614561",
         "2.6583114",
         "3.8260441",
         "2.9024665",
         "0.39196557",
         "2.4007506",
         "3.4041824",
         null,
         null,
         null,
         null,
         "3.4381959",
         "0.92427093",
         "2.2551291",
         "4.6212626",
         "2.7098813",
         "0.69114065",
         "1.8252213",
         "3.5945413"
        ],
        [
         "4",
         "Angola",
         "2021",
         "AGO2021",
         "AGO",
         "24.0",
         "540.0",
         "1",
         "4.9639015",
         "0.58829677",
         "4.2108817",
         "5.7169213",
         "4.1658978",
         "0.46966472",
         "3.5647271",
         "4.7670689",
         "3.8856063",
         "0.61613005",
         "3.0969598",
         "4.674253",
         "3.6006596",
         "0.52855122",
         "2.924114",
         "4.277205",
         "10.0",
         "0.0",
         "10.0",
         "10.0",
         "3.3929496",
         "0.51671779",
         "2.7315507",
         "4.0543485",
         "4.0492949",
         "0.85748935",
         "2.9517086",
         "5.1468811",
         "3.3264351",
         "0.50639576",
         "2.6782484",
         "3.9746218",
         null,
         null,
         null,
         null,
         "3.1217816",
         "0.84936386",
         "2.0345957",
         "4.2089672",
         "2.9963226",
         "0.73629516",
         "2.0538647",
         "3.9387805"
        ]
       ],
       "shape": {
        "columns": 51,
        "rows": 5
       }
      },
      "text/html": [
       "<div>\n",
       "<style scoped>\n",
       "    .dataframe tbody tr th:only-of-type {\n",
       "        vertical-align: middle;\n",
       "    }\n",
       "\n",
       "    .dataframe tbody tr th {\n",
       "        vertical-align: top;\n",
       "    }\n",
       "\n",
       "    .dataframe thead th {\n",
       "        text-align: right;\n",
       "    }\n",
       "</style>\n",
       "<table border=\"1\" class=\"dataframe\">\n",
       "  <thead>\n",
       "    <tr style=\"text-align: right;\">\n",
       "      <th></th>\n",
       "      <th>country</th>\n",
       "      <th>year</th>\n",
       "      <th>countryyear</th>\n",
       "      <th>iso3c</th>\n",
       "      <th>iso3n</th>\n",
       "      <th>cowcode</th>\n",
       "      <th>hrmicode</th>\n",
       "      <th>disap_mean</th>\n",
       "      <th>disap_sd</th>\n",
       "      <th>disap_lo</th>\n",
       "      <th>...</th>\n",
       "      <th>rel_lo</th>\n",
       "      <th>rel_hi</th>\n",
       "      <th>physint_mean</th>\n",
       "      <th>physint_sd</th>\n",
       "      <th>physint_lo</th>\n",
       "      <th>physint_hi</th>\n",
       "      <th>empower_mean</th>\n",
       "      <th>empower_sd</th>\n",
       "      <th>empower_lo</th>\n",
       "      <th>empower_hi</th>\n",
       "    </tr>\n",
       "  </thead>\n",
       "  <tbody>\n",
       "    <tr>\n",
       "      <th>0</th>\n",
       "      <td>Angola</td>\n",
       "      <td>2017</td>\n",
       "      <td>AGO2017</td>\n",
       "      <td>AGO</td>\n",
       "      <td>24.0</td>\n",
       "      <td>540.0</td>\n",
       "      <td>1</td>\n",
       "      <td>6.464161</td>\n",
       "      <td>0.898106</td>\n",
       "      <td>5.314585</td>\n",
       "      <td>...</td>\n",
       "      <td>NaN</td>\n",
       "      <td>NaN</td>\n",
       "      <td>4.401868</td>\n",
       "      <td>0.795705</td>\n",
       "      <td>3.383366</td>\n",
       "      <td>5.420371</td>\n",
       "      <td>2.735583</td>\n",
       "      <td>0.737381</td>\n",
       "      <td>1.791735</td>\n",
       "      <td>3.679431</td>\n",
       "    </tr>\n",
       "    <tr>\n",
       "      <th>1</th>\n",
       "      <td>Angola</td>\n",
       "      <td>2018</td>\n",
       "      <td>AGO2018</td>\n",
       "      <td>AGO</td>\n",
       "      <td>24.0</td>\n",
       "      <td>540.0</td>\n",
       "      <td>1</td>\n",
       "      <td>7.174069</td>\n",
       "      <td>0.491192</td>\n",
       "      <td>6.545342</td>\n",
       "      <td>...</td>\n",
       "      <td>NaN</td>\n",
       "      <td>NaN</td>\n",
       "      <td>5.122885</td>\n",
       "      <td>0.812793</td>\n",
       "      <td>4.082510</td>\n",
       "      <td>6.163259</td>\n",
       "      <td>4.580472</td>\n",
       "      <td>0.701104</td>\n",
       "      <td>3.683059</td>\n",
       "      <td>5.477886</td>\n",
       "    </tr>\n",
       "    <tr>\n",
       "      <th>2</th>\n",
       "      <td>Angola</td>\n",
       "      <td>2019</td>\n",
       "      <td>AGO2019</td>\n",
       "      <td>AGO</td>\n",
       "      <td>24.0</td>\n",
       "      <td>540.0</td>\n",
       "      <td>1</td>\n",
       "      <td>6.357960</td>\n",
       "      <td>0.626105</td>\n",
       "      <td>5.556545</td>\n",
       "      <td>...</td>\n",
       "      <td>NaN</td>\n",
       "      <td>NaN</td>\n",
       "      <td>4.486554</td>\n",
       "      <td>0.790036</td>\n",
       "      <td>3.475308</td>\n",
       "      <td>5.497800</td>\n",
       "      <td>4.226362</td>\n",
       "      <td>0.671121</td>\n",
       "      <td>3.367327</td>\n",
       "      <td>5.085398</td>\n",
       "    </tr>\n",
       "    <tr>\n",
       "      <th>3</th>\n",
       "      <td>Angola</td>\n",
       "      <td>2020</td>\n",
       "      <td>AGO2020</td>\n",
       "      <td>AGO</td>\n",
       "      <td>24.0</td>\n",
       "      <td>540.0</td>\n",
       "      <td>1</td>\n",
       "      <td>5.453531</td>\n",
       "      <td>0.792786</td>\n",
       "      <td>4.438765</td>\n",
       "      <td>...</td>\n",
       "      <td>NaN</td>\n",
       "      <td>NaN</td>\n",
       "      <td>3.438196</td>\n",
       "      <td>0.924271</td>\n",
       "      <td>2.255129</td>\n",
       "      <td>4.621263</td>\n",
       "      <td>2.709881</td>\n",
       "      <td>0.691141</td>\n",
       "      <td>1.825221</td>\n",
       "      <td>3.594541</td>\n",
       "    </tr>\n",
       "    <tr>\n",
       "      <th>4</th>\n",
       "      <td>Angola</td>\n",
       "      <td>2021</td>\n",
       "      <td>AGO2021</td>\n",
       "      <td>AGO</td>\n",
       "      <td>24.0</td>\n",
       "      <td>540.0</td>\n",
       "      <td>1</td>\n",
       "      <td>4.963902</td>\n",
       "      <td>0.588297</td>\n",
       "      <td>4.210882</td>\n",
       "      <td>...</td>\n",
       "      <td>NaN</td>\n",
       "      <td>NaN</td>\n",
       "      <td>3.121782</td>\n",
       "      <td>0.849364</td>\n",
       "      <td>2.034596</td>\n",
       "      <td>4.208967</td>\n",
       "      <td>2.996323</td>\n",
       "      <td>0.736295</td>\n",
       "      <td>2.053865</td>\n",
       "      <td>3.938781</td>\n",
       "    </tr>\n",
       "  </tbody>\n",
       "</table>\n",
       "<p>5 rows × 51 columns</p>\n",
       "</div>"
      ],
      "text/plain": [
       "  country  year countryyear iso3c  iso3n  cowcode  hrmicode  disap_mean  \\\n",
       "0  Angola  2017     AGO2017   AGO   24.0    540.0         1    6.464161   \n",
       "1  Angola  2018     AGO2018   AGO   24.0    540.0         1    7.174069   \n",
       "2  Angola  2019     AGO2019   AGO   24.0    540.0         1    6.357960   \n",
       "3  Angola  2020     AGO2020   AGO   24.0    540.0         1    5.453531   \n",
       "4  Angola  2021     AGO2021   AGO   24.0    540.0         1    4.963902   \n",
       "\n",
       "   disap_sd  disap_lo  ...  rel_lo  rel_hi  physint_mean  physint_sd  \\\n",
       "0  0.898106  5.314585  ...     NaN     NaN      4.401868    0.795705   \n",
       "1  0.491192  6.545342  ...     NaN     NaN      5.122885    0.812793   \n",
       "2  0.626105  5.556545  ...     NaN     NaN      4.486554    0.790036   \n",
       "3  0.792786  4.438765  ...     NaN     NaN      3.438196    0.924271   \n",
       "4  0.588297  4.210882  ...     NaN     NaN      3.121782    0.849364   \n",
       "\n",
       "   physint_lo  physint_hi  empower_mean  empower_sd  empower_lo  empower_hi  \n",
       "0    3.383366    5.420371      2.735583    0.737381    1.791735    3.679431  \n",
       "1    4.082510    6.163259      4.580472    0.701104    3.683059    5.477886  \n",
       "2    3.475308    5.497800      4.226362    0.671121    3.367327    5.085398  \n",
       "3    2.255129    4.621263      2.709881    0.691141    1.825221    3.594541  \n",
       "4    2.034596    4.208967      2.996323    0.736295    2.053865    3.938781  \n",
       "\n",
       "[5 rows x 51 columns]"
      ]
     },
     "execution_count": 2,
     "metadata": {},
     "output_type": "execute_result"
    }
   ],
   "source": [
    "# data\n",
    "civil_poli_rights = pd.read_csv('./cpr.csv')\n",
    "civil_poli_rights.head()"
   ]
  },
  {
   "cell_type": "markdown",
   "id": "324eabe7",
   "metadata": {},
   "source": [
    "I only want to keep the means for each stat, as we are trying to look at the average change in political freedom over time."
   ]
  },
  {
   "cell_type": "code",
   "execution_count": 3,
   "id": "11427296",
   "metadata": {},
   "outputs": [
    {
     "data": {
      "application/vnd.microsoft.datawrangler.viewer.v0+json": {
       "columns": [
        {
         "name": "index",
         "rawType": "int64",
         "type": "integer"
        },
        {
         "name": "country",
         "rawType": "object",
         "type": "string"
        },
        {
         "name": "year",
         "rawType": "int64",
         "type": "integer"
        },
        {
         "name": "disap_mean",
         "rawType": "float64",
         "type": "float"
        },
        {
         "name": "exkill_mean",
         "rawType": "float64",
         "type": "float"
        },
        {
         "name": "arrest_mean",
         "rawType": "float64",
         "type": "float"
        },
        {
         "name": "tort_mean",
         "rawType": "float64",
         "type": "float"
        },
        {
         "name": "dpex_mean",
         "rawType": "float64",
         "type": "float"
        },
        {
         "name": "express_mean",
         "rawType": "float64",
         "type": "float"
        },
        {
         "name": "polpart_mean",
         "rawType": "float64",
         "type": "float"
        },
        {
         "name": "assem_mean",
         "rawType": "float64",
         "type": "float"
        },
        {
         "name": "physint_mean",
         "rawType": "float64",
         "type": "float"
        },
        {
         "name": "empower_mean",
         "rawType": "float64",
         "type": "float"
        }
       ],
       "conversionMethod": "pd.DataFrame",
       "ref": "c5e2c738-699a-48d3-afa2-15cbc2f382be",
       "rows": [
        [
         "0",
         "Angola",
         "2017",
         "6.4641614",
         "5.0889416",
         "3.7899294",
         "3.4392095",
         "10.0",
         "3.4531848",
         "3.0862069",
         "2.7237363",
         "4.4018683",
         "2.7355831"
        ],
        [
         "1",
         "Angola",
         "2018",
         "7.1740689",
         "5.2830458",
         "4.8502078",
         "4.4587679",
         "10.0",
         "4.7582421",
         "4.8589058",
         "4.8665619",
         "5.1228848",
         "4.5804725"
        ],
        [
         "2",
         "Angola",
         "2019",
         "6.3579597",
         "5.0296884",
         "4.9702744",
         "4.9023504",
         "10.0",
         "4.1257744",
         "4.3426576",
         "4.7929449",
         "4.4865541",
         "4.2263622"
        ],
        [
         "3",
         "Angola",
         "2020",
         "5.4535308",
         "3.8449578",
         "4.24543",
         "4.7541127",
         "10.0",
         "3.3764799",
         "3.2421777",
         "2.9024665",
         "3.4381959",
         "2.7098813"
        ],
        [
         "4",
         "Angola",
         "2021",
         "4.9639015",
         "4.1658978",
         "3.8856063",
         "3.6006596",
         "10.0",
         "3.3929496",
         "4.0492949",
         "3.3264351",
         "3.1217816",
         "2.9963226"
        ]
       ],
       "shape": {
        "columns": 12,
        "rows": 5
       }
      },
      "text/html": [
       "<div>\n",
       "<style scoped>\n",
       "    .dataframe tbody tr th:only-of-type {\n",
       "        vertical-align: middle;\n",
       "    }\n",
       "\n",
       "    .dataframe tbody tr th {\n",
       "        vertical-align: top;\n",
       "    }\n",
       "\n",
       "    .dataframe thead th {\n",
       "        text-align: right;\n",
       "    }\n",
       "</style>\n",
       "<table border=\"1\" class=\"dataframe\">\n",
       "  <thead>\n",
       "    <tr style=\"text-align: right;\">\n",
       "      <th></th>\n",
       "      <th>country</th>\n",
       "      <th>year</th>\n",
       "      <th>disap_mean</th>\n",
       "      <th>exkill_mean</th>\n",
       "      <th>arrest_mean</th>\n",
       "      <th>tort_mean</th>\n",
       "      <th>dpex_mean</th>\n",
       "      <th>express_mean</th>\n",
       "      <th>polpart_mean</th>\n",
       "      <th>assem_mean</th>\n",
       "      <th>physint_mean</th>\n",
       "      <th>empower_mean</th>\n",
       "    </tr>\n",
       "  </thead>\n",
       "  <tbody>\n",
       "    <tr>\n",
       "      <th>0</th>\n",
       "      <td>Angola</td>\n",
       "      <td>2017</td>\n",
       "      <td>6.464161</td>\n",
       "      <td>5.088942</td>\n",
       "      <td>3.789929</td>\n",
       "      <td>3.439210</td>\n",
       "      <td>10.0</td>\n",
       "      <td>3.453185</td>\n",
       "      <td>3.086207</td>\n",
       "      <td>2.723736</td>\n",
       "      <td>4.401868</td>\n",
       "      <td>2.735583</td>\n",
       "    </tr>\n",
       "    <tr>\n",
       "      <th>1</th>\n",
       "      <td>Angola</td>\n",
       "      <td>2018</td>\n",
       "      <td>7.174069</td>\n",
       "      <td>5.283046</td>\n",
       "      <td>4.850208</td>\n",
       "      <td>4.458768</td>\n",
       "      <td>10.0</td>\n",
       "      <td>4.758242</td>\n",
       "      <td>4.858906</td>\n",
       "      <td>4.866562</td>\n",
       "      <td>5.122885</td>\n",
       "      <td>4.580472</td>\n",
       "    </tr>\n",
       "    <tr>\n",
       "      <th>2</th>\n",
       "      <td>Angola</td>\n",
       "      <td>2019</td>\n",
       "      <td>6.357960</td>\n",
       "      <td>5.029688</td>\n",
       "      <td>4.970274</td>\n",
       "      <td>4.902350</td>\n",
       "      <td>10.0</td>\n",
       "      <td>4.125774</td>\n",
       "      <td>4.342658</td>\n",
       "      <td>4.792945</td>\n",
       "      <td>4.486554</td>\n",
       "      <td>4.226362</td>\n",
       "    </tr>\n",
       "    <tr>\n",
       "      <th>3</th>\n",
       "      <td>Angola</td>\n",
       "      <td>2020</td>\n",
       "      <td>5.453531</td>\n",
       "      <td>3.844958</td>\n",
       "      <td>4.245430</td>\n",
       "      <td>4.754113</td>\n",
       "      <td>10.0</td>\n",
       "      <td>3.376480</td>\n",
       "      <td>3.242178</td>\n",
       "      <td>2.902467</td>\n",
       "      <td>3.438196</td>\n",
       "      <td>2.709881</td>\n",
       "    </tr>\n",
       "    <tr>\n",
       "      <th>4</th>\n",
       "      <td>Angola</td>\n",
       "      <td>2021</td>\n",
       "      <td>4.963902</td>\n",
       "      <td>4.165898</td>\n",
       "      <td>3.885606</td>\n",
       "      <td>3.600660</td>\n",
       "      <td>10.0</td>\n",
       "      <td>3.392950</td>\n",
       "      <td>4.049295</td>\n",
       "      <td>3.326435</td>\n",
       "      <td>3.121782</td>\n",
       "      <td>2.996323</td>\n",
       "    </tr>\n",
       "  </tbody>\n",
       "</table>\n",
       "</div>"
      ],
      "text/plain": [
       "  country  year  disap_mean  exkill_mean  arrest_mean  tort_mean  dpex_mean  \\\n",
       "0  Angola  2017    6.464161     5.088942     3.789929   3.439210       10.0   \n",
       "1  Angola  2018    7.174069     5.283046     4.850208   4.458768       10.0   \n",
       "2  Angola  2019    6.357960     5.029688     4.970274   4.902350       10.0   \n",
       "3  Angola  2020    5.453531     3.844958     4.245430   4.754113       10.0   \n",
       "4  Angola  2021    4.963902     4.165898     3.885606   3.600660       10.0   \n",
       "\n",
       "   express_mean  polpart_mean  assem_mean  physint_mean  empower_mean  \n",
       "0      3.453185      3.086207    2.723736      4.401868      2.735583  \n",
       "1      4.758242      4.858906    4.866562      5.122885      4.580472  \n",
       "2      4.125774      4.342658    4.792945      4.486554      4.226362  \n",
       "3      3.376480      3.242178    2.902467      3.438196      2.709881  \n",
       "4      3.392950      4.049295    3.326435      3.121782      2.996323  "
      ]
     },
     "execution_count": 3,
     "metadata": {},
     "output_type": "execute_result"
    }
   ],
   "source": [
    "columns_to_keep = ['country', 'year'] + [col for col in civil_poli_rights.columns if col.endswith('_mean')]\n",
    "civil_poli_rights = civil_poli_rights[columns_to_keep]\n",
    "civil_poli_rights = civil_poli_rights.drop(columns=['rel_mean']) # the data is corrupted for this col and did not load correctly\n",
    "civil_poli_rights.head()"
   ]
  },
  {
   "cell_type": "markdown",
   "id": "9c7ec3c4",
   "metadata": {},
   "source": [
    "drop irrelavant cols"
   ]
  },
  {
   "cell_type": "code",
   "execution_count": 4,
   "id": "28d2a14d",
   "metadata": {},
   "outputs": [],
   "source": [
    "civil_poli_rights = civil_poli_rights.drop(columns=['tort_mean', 'disap_mean', 'dpex_mean', 'physint_mean', 'arrest_mean', 'exkill_mean'])"
   ]
  },
  {
   "cell_type": "markdown",
   "id": "f6d4b9b9",
   "metadata": {},
   "source": [
    "take the means for each year to understand the changes overtime"
   ]
  },
  {
   "cell_type": "code",
   "execution_count": 5,
   "id": "bfac88a8",
   "metadata": {},
   "outputs": [],
   "source": [
    "year_means = civil_poli_rights.groupby('year').mean(numeric_only=True)"
   ]
  },
  {
   "cell_type": "markdown",
   "id": "3fd2fed7",
   "metadata": {},
   "source": [
    "rename cols so they are easy to understand"
   ]
  },
  {
   "cell_type": "code",
   "execution_count": 6,
   "id": "b475d0b9",
   "metadata": {},
   "outputs": [],
   "source": [
    "column_mapping_summary = {\n",
    "    'arrest_mean': 'Freedom from arbitrary arrest/imprisonment',\n",
    "    'assem_mean': 'Right to assembly/association',\n",
    "    'disap_mean': 'Freedom from disappearance',\n",
    "    'dpex_mean': 'Freedom from death penalty',\n",
    "    'exkill_mean': 'Freedom from extrajudicial execution',\n",
    "    'express_mean': 'Right to opinion/expression',\n",
    "    'polpart_mean': 'Right to participate in government',\n",
    "    'rel_mean': 'Freedom of religion/belief',\n",
    "    'tort_mean': 'Freedom from torture',\n",
    "    'physint_mean': 'Overall physical integrity rights',\n",
    "    'empower_mean': 'Overall empowerment rights'\n",
    "}\n",
    "\n",
    "# Rename the columns in the DataFrame using the summarized names\n",
    "year_means = year_means.rename(columns=column_mapping_summary)"
   ]
  },
  {
   "cell_type": "markdown",
   "id": "33567e9d",
   "metadata": {},
   "source": [
    "##### Plot One - Relatively Constant Politcal Freedom\n",
    "In the first two years of the trump and biden admins, we can see changing level of political freedom for nations in the world, on average. For the biden administration, indicators of political freedom are decreasing over his first two years in office. However this appears to be following an already existing trend and could potentially be influenced by various confounding variables. For the trump admin, levels of poltical freedom are increasing starting with him taking office. We see a signficant jump in right to assembly as well as right participate in goverment. While these are very promising indicators, there could be various confounding vars that would not allow us to see the full treatment effect."
   ]
  },
  {
   "cell_type": "code",
   "execution_count": 7,
   "id": "d5b0a556",
   "metadata": {},
   "outputs": [
    {
     "data": {
      "image/png": "[encoded data removed]",
      "text/plain": [
       "<Figure size 640x480 with 1 Axes>"
      ]
     },
     "metadata": {},
     "output_type": "display_data"
    }
   ],
   "source": [
    "from collections import OrderedDict\n",
    "\n",
    "ax = year_means.plot(marker='o')\n",
    "plt.title('Average Political Freedom Indicators Over Time')\n",
    "plt.xlabel('Year')\n",
    "plt.ylabel('Score')\n",
    "plt.legend(title='Indicator', bbox_to_anchor=(1.05, 1), loc='upper left')\n",
    "\n",
    "# Shade 2017-2018 (Trump start) and 2021-2022 (Biden start)\n",
    "plt.axvspan(2017, 2019, color='orange', alpha=0.2, label='Trump Start')\n",
    "plt.axvspan(2021, 2023, color='blue', alpha=0.2, label='Biden Start')\n",
    "\n",
    "# Only show one label per shaded region in the legend\n",
    "handles, labels = ax.get_legend_handles_labels()\n",
    "by_label = OrderedDict(zip(labels, handles))\n",
    "plt.legend(by_label.values(), by_label.keys(), bbox_to_anchor=(1.05, 1), loc='upper left')\n",
    "plt.show()"
   ]
  },
  {
   "cell_type": "markdown",
   "id": "06853983",
   "metadata": {},
   "source": [
    "People at Risk Data"
   ]
  },
  {
   "cell_type": "code",
   "execution_count": 8,
   "id": "421b569c",
   "metadata": {},
   "outputs": [
    {
     "data": {
      "application/vnd.microsoft.datawrangler.viewer.v0+json": {
       "columns": [
        {
         "name": "index",
         "rawType": "int64",
         "type": "integer"
        },
        {
         "name": "country",
         "rawType": "object",
         "type": "string"
        },
        {
         "name": "year",
         "rawType": "int64",
         "type": "integer"
        },
        {
         "name": "countryyear",
         "rawType": "object",
         "type": "string"
        },
        {
         "name": "iso3c",
         "rawType": "object",
         "type": "string"
        },
        {
         "name": "iso3n",
         "rawType": "float64",
         "type": "float"
        },
        {
         "name": "cowcode",
         "rawType": "float64",
         "type": "float"
        },
        {
         "name": "hrmicode",
         "rawType": "int64",
         "type": "integer"
        },
        {
         "name": "food_total_atrisk_resp",
         "rawType": "int64",
         "type": "integer"
        },
        {
         "name": "food_atrisk_count1",
         "rawType": "int64",
         "type": "integer"
        },
        {
         "name": "food_atrisk_prop1",
         "rawType": "float64",
         "type": "float"
        },
        {
         "name": "food_atrisk_count2",
         "rawType": "int64",
         "type": "integer"
        },
        {
         "name": "food_atrisk_prop2",
         "rawType": "float64",
         "type": "float"
        },
        {
         "name": "food_atrisk_count3",
         "rawType": "int64",
         "type": "integer"
        },
        {
         "name": "food_atrisk_prop3",
         "rawType": "float64",
         "type": "float"
        },
        {
         "name": "food_atrisk_count4",
         "rawType": "int64",
         "type": "integer"
        },
        {
         "name": "food_atrisk_prop4",
         "rawType": "float64",
         "type": "float"
        },
        {
         "name": "food_atrisk_count5",
         "rawType": "int64",
         "type": "integer"
        },
        {
         "name": "food_atrisk_prop5",
         "rawType": "float64",
         "type": "float"
        },
        {
         "name": "food_atrisk_count6",
         "rawType": "int64",
         "type": "integer"
        },
        {
         "name": "food_atrisk_prop6",
         "rawType": "float64",
         "type": "float"
        },
        {
         "name": "food_atrisk_count7",
         "rawType": "int64",
         "type": "integer"
        },
        {
         "name": "food_atrisk_prop7",
         "rawType": "float64",
         "type": "float"
        },
        {
         "name": "food_atrisk_count8",
         "rawType": "int64",
         "type": "integer"
        },
        {
         "name": "food_atrisk_prop8",
         "rawType": "float64",
         "type": "float"
        },
        {
         "name": "food_atrisk_count9",
         "rawType": "int64",
         "type": "integer"
        },
        {
         "name": "food_atrisk_prop9",
         "rawType": "float64",
         "type": "float"
        },
        {
         "name": "food_atrisk_count10",
         "rawType": "int64",
         "type": "integer"
        },
        {
         "name": "food_atrisk_prop10",
         "rawType": "float64",
         "type": "float"
        },
        {
         "name": "food_atrisk_count11",
         "rawType": "int64",
         "type": "integer"
        },
        {
         "name": "food_atrisk_prop11",
         "rawType": "float64",
         "type": "float"
        },
        {
         "name": "food_atrisk_count12",
         "rawType": "int64",
         "type": "integer"
        },
        {
         "name": "food_atrisk_prop12",
         "rawType": "float64",
         "type": "float"
        },
        {
         "name": "food_atrisk_count13",
         "rawType": "int64",
         "type": "integer"
        },
        {
         "name": "food_atrisk_prop13",
         "rawType": "float64",
         "type": "float"
        },
        {
         "name": "food_atrisk_count14",
         "rawType": "int64",
         "type": "integer"
        },
        {
         "name": "food_atrisk_prop14",
         "rawType": "float64",
         "type": "float"
        },
        {
         "name": "food_atrisk_count15",
         "rawType": "int64",
         "type": "integer"
        },
        {
         "name": "food_atrisk_prop15",
         "rawType": "float64",
         "type": "float"
        },
        {
         "name": "food_atrisk_count16",
         "rawType": "int64",
         "type": "integer"
        },
        {
         "name": "food_atrisk_prop16",
         "rawType": "float64",
         "type": "float"
        },
        {
         "name": "food_atrisk_count17",
         "rawType": "int64",
         "type": "integer"
        },
        {
         "name": "food_atrisk_prop17",
         "rawType": "float64",
         "type": "float"
        },
        {
         "name": "food_atrisk_count18",
         "rawType": "int64",
         "type": "integer"
        },
        {
         "name": "food_atrisk_prop18",
         "rawType": "float64",
         "type": "float"
        },
        {
         "name": "food_atrisk_count19",
         "rawType": "int64",
         "type": "integer"
        },
        {
         "name": "food_atrisk_prop19",
         "rawType": "float64",
         "type": "float"
        },
        {
         "name": "food_atrisk_count20",
         "rawType": "int64",
         "type": "integer"
        },
        {
         "name": "food_atrisk_prop20",
         "rawType": "float64",
         "type": "float"
        },
        {
         "name": "food_atrisk_count21",
         "rawType": "int64",
         "type": "integer"
        },
        {
         "name": "food_atrisk_prop21",
         "rawType": "float64",
         "type": "float"
        },
        {
         "name": "food_atrisk_count22",
         "rawType": "int64",
         "type": "integer"
        },
        {
         "name": "food_atrisk_prop22",
         "rawType": "float64",
         "type": "float"
        },
        {
         "name": "food_atrisk_count23",
         "rawType": "int64",
         "type": "integer"
        },
        {
         "name": "food_atrisk_prop23",
         "rawType": "float64",
         "type": "float"
        },
        {
         "name": "food_atrisk_count24",
         "rawType": "int64",
         "type": "integer"
        },
        {
         "name": "food_atrisk_prop24",
         "rawType": "float64",
         "type": "float"
        },
        {
         "name": "food_atrisk_count25",
         "rawType": "int64",
         "type": "integer"
        },
        {
         "name": "food_atrisk_prop25",
         "rawType": "float64",
         "type": "float"
        },
        {
         "name": "food_atrisk_count26",
         "rawType": "int64",
         "type": "integer"
        },
        {
         "name": "food_atrisk_prop26",
         "rawType": "float64",
         "type": "float"
        },
        {
         "name": "food_atrisk_count27",
         "rawType": "int64",
         "type": "integer"
        },
        {
         "name": "food_atrisk_prop27",
         "rawType": "float64",
         "type": "float"
        },
        {
         "name": "food_atrisk_count28",
         "rawType": "int64",
         "type": "integer"
        },
        {
         "name": "food_atrisk_prop28",
         "rawType": "float64",
         "type": "float"
        },
        {
         "name": "food_atrisk_count29",
         "rawType": "int64",
         "type": "integer"
        },
        {
         "name": "food_atrisk_prop29",
         "rawType": "float64",
         "type": "float"
        },
        {
         "name": "food_atrisk_count30",
         "rawType": "int64",
         "type": "integer"
        },
        {
         "name": "food_atrisk_prop30",
         "rawType": "float64",
         "type": "float"
        },
        {
         "name": "food_atrisk_count31",
         "rawType": "int64",
         "type": "integer"
        },
        {
         "name": "food_atrisk_prop31",
         "rawType": "float64",
         "type": "float"
        },
        {
         "name": "food_atrisk_count32",
         "rawType": "float64",
         "type": "float"
        },
        {
         "name": "food_atrisk_prop32",
         "rawType": "float64",
         "type": "float"
        },
        {
         "name": "food_atrisk_count33",
         "rawType": "float64",
         "type": "float"
        },
        {
         "name": "food_atrisk_prop33",
         "rawType": "float64",
         "type": "float"
        },
        {
         "name": "food_atrisk_count34",
         "rawType": "float64",
         "type": "float"
        },
        {
         "name": "food_atrisk_prop34",
         "rawType": "float64",
         "type": "float"
        },
        {
         "name": "food_atrisk_count35",
         "rawType": "float64",
         "type": "float"
        },
        {
         "name": "food_atrisk_prop35",
         "rawType": "float64",
         "type": "float"
        },
        {
         "name": "food_atrisk_count36",
         "rawType": "float64",
         "type": "float"
        },
        {
         "name": "food_atrisk_prop36",
         "rawType": "float64",
         "type": "float"
        },
        {
         "name": "food_atrisk_count37",
         "rawType": "float64",
         "type": "float"
        },
        {
         "name": "food_atrisk_prop37",
         "rawType": "float64",
         "type": "float"
        },
        {
         "name": "food_atrisk_count38",
         "rawType": "float64",
         "type": "float"
        },
        {
         "name": "food_atrisk_prop38",
         "rawType": "float64",
         "type": "float"
        },
        {
         "name": "food_atrisk_count39",
         "rawType": "float64",
         "type": "float"
        },
        {
         "name": "food_atrisk_prop39",
         "rawType": "float64",
         "type": "float"
        },
        {
         "name": "food_atrisk_count40",
         "rawType": "float64",
         "type": "float"
        },
        {
         "name": "food_atrisk_prop40",
         "rawType": "float64",
         "type": "float"
        },
        {
         "name": "food_atrisk_count41",
         "rawType": "float64",
         "type": "float"
        },
        {
         "name": "food_atrisk_prop41",
         "rawType": "float64",
         "type": "float"
        },
        {
         "name": "educ_total_atrisk_resp",
         "rawType": "int64",
         "type": "integer"
        },
        {
         "name": "educ_atrisk_count1",
         "rawType": "int64",
         "type": "integer"
        },
        {
         "name": "educ_atrisk_prop1",
         "rawType": "float64",
         "type": "float"
        },
        {
         "name": "educ_atrisk_count2",
         "rawType": "int64",
         "type": "integer"
        },
        {
         "name": "educ_atrisk_prop2",
         "rawType": "float64",
         "type": "float"
        },
        {
         "name": "educ_atrisk_count3",
         "rawType": "int64",
         "type": "integer"
        },
        {
         "name": "educ_atrisk_prop3",
         "rawType": "float64",
         "type": "float"
        },
        {
         "name": "educ_atrisk_count4",
         "rawType": "int64",
         "type": "integer"
        },
        {
         "name": "educ_atrisk_prop4",
         "rawType": "float64",
         "type": "float"
        },
        {
         "name": "educ_atrisk_count5",
         "rawType": "int64",
         "type": "integer"
        },
        {
         "name": "educ_atrisk_prop5",
         "rawType": "float64",
         "type": "float"
        },
        {
         "name": "educ_atrisk_count6",
         "rawType": "int64",
         "type": "integer"
        },
        {
         "name": "educ_atrisk_prop6",
         "rawType": "float64",
         "type": "float"
        },
        {
         "name": "educ_atrisk_count7",
         "rawType": "int64",
         "type": "integer"
        },
        {
         "name": "educ_atrisk_prop7",
         "rawType": "float64",
         "type": "float"
        },
        {
         "name": "educ_atrisk_count8",
         "rawType": "int64",
         "type": "integer"
        },
        {
         "name": "educ_atrisk_prop8",
         "rawType": "float64",
         "type": "float"
        },
        {
         "name": "educ_atrisk_count9",
         "rawType": "int64",
         "type": "integer"
        },
        {
         "name": "educ_atrisk_prop9",
         "rawType": "float64",
         "type": "float"
        },
        {
         "name": "educ_atrisk_count10",
         "rawType": "int64",
         "type": "integer"
        },
        {
         "name": "educ_atrisk_prop10",
         "rawType": "float64",
         "type": "float"
        },
        {
         "name": "educ_atrisk_count11",
         "rawType": "int64",
         "type": "integer"
        },
        {
         "name": "educ_atrisk_prop11",
         "rawType": "float64",
         "type": "float"
        },
        {
         "name": "educ_atrisk_count12",
         "rawType": "int64",
         "type": "integer"
        },
        {
         "name": "educ_atrisk_prop12",
         "rawType": "float64",
         "type": "float"
        },
        {
         "name": "educ_atrisk_count13",
         "rawType": "int64",
         "type": "integer"
        },
        {
         "name": "educ_atrisk_prop13",
         "rawType": "float64",
         "type": "float"
        },
        {
         "name": "educ_atrisk_count14",
         "rawType": "int64",
         "type": "integer"
        },
        {
         "name": "educ_atrisk_prop14",
         "rawType": "float64",
         "type": "float"
        },
        {
         "name": "educ_atrisk_count15",
         "rawType": "int64",
         "type": "integer"
        },
        {
         "name": "educ_atrisk_prop15",
         "rawType": "float64",
         "type": "float"
        },
        {
         "name": "educ_atrisk_count16",
         "rawType": "int64",
         "type": "integer"
        },
        {
         "name": "educ_atrisk_prop16",
         "rawType": "float64",
         "type": "float"
        },
        {
         "name": "educ_atrisk_count17",
         "rawType": "int64",
         "type": "integer"
        },
        {
         "name": "educ_atrisk_prop17",
         "rawType": "float64",
         "type": "float"
        },
        {
         "name": "educ_atrisk_count18",
         "rawType": "int64",
         "type": "integer"
        },
        {
         "name": "educ_atrisk_prop18",
         "rawType": "float64",
         "type": "float"
        },
        {
         "name": "educ_atrisk_count19",
         "rawType": "int64",
         "type": "integer"
        },
        {
         "name": "educ_atrisk_prop19",
         "rawType": "float64",
         "type": "float"
        },
        {
         "name": "educ_atrisk_count20",
         "rawType": "int64",
         "type": "integer"
        },
        {
         "name": "educ_atrisk_prop20",
         "rawType": "float64",
         "type": "float"
        },
        {
         "name": "educ_atrisk_count21",
         "rawType": "int64",
         "type": "integer"
        },
        {
         "name": "educ_atrisk_prop21",
         "rawType": "float64",
         "type": "float"
        },
        {
         "name": "educ_atrisk_count22",
         "rawType": "int64",
         "type": "integer"
        },
        {
         "name": "educ_atrisk_prop22",
         "rawType": "float64",
         "type": "float"
        },
        {
         "name": "educ_atrisk_count23",
         "rawType": "int64",
         "type": "integer"
        },
        {
         "name": "educ_atrisk_prop23",
         "rawType": "float64",
         "type": "float"
        },
        {
         "name": "educ_atrisk_count24",
         "rawType": "int64",
         "type": "integer"
        },
        {
         "name": "educ_atrisk_prop24",
         "rawType": "float64",
         "type": "float"
        },
        {
         "name": "educ_atrisk_count25",
         "rawType": "int64",
         "type": "integer"
        },
        {
         "name": "educ_atrisk_prop25",
         "rawType": "float64",
         "type": "float"
        },
        {
         "name": "educ_atrisk_count26",
         "rawType": "int64",
         "type": "integer"
        },
        {
         "name": "educ_atrisk_prop26",
         "rawType": "float64",
         "type": "float"
        },
        {
         "name": "educ_atrisk_count27",
         "rawType": "int64",
         "type": "integer"
        },
        {
         "name": "educ_atrisk_prop27",
         "rawType": "float64",
         "type": "float"
        },
        {
         "name": "educ_atrisk_count28",
         "rawType": "int64",
         "type": "integer"
        },
        {
         "name": "educ_atrisk_prop28",
         "rawType": "float64",
         "type": "float"
        },
        {
         "name": "educ_atrisk_count29",
         "rawType": "int64",
         "type": "integer"
        },
        {
         "name": "educ_atrisk_prop29",
         "rawType": "float64",
         "type": "float"
        },
        {
         "name": "educ_atrisk_count30",
         "rawType": "int64",
         "type": "integer"
        },
        {
         "name": "educ_atrisk_prop30",
         "rawType": "float64",
         "type": "float"
        },
        {
         "name": "educ_atrisk_count31",
         "rawType": "int64",
         "type": "integer"
        },
        {
         "name": "educ_atrisk_prop31",
         "rawType": "float64",
         "type": "float"
        },
        {
         "name": "educ_atrisk_count32",
         "rawType": "float64",
         "type": "float"
        },
        {
         "name": "educ_atrisk_prop32",
         "rawType": "float64",
         "type": "float"
        },
        {
         "name": "educ_atrisk_count33",
         "rawType": "float64",
         "type": "float"
        },
        {
         "name": "educ_atrisk_prop33",
         "rawType": "float64",
         "type": "float"
        },
        {
         "name": "educ_atrisk_count34",
         "rawType": "float64",
         "type": "float"
        },
        {
         "name": "educ_atrisk_prop34",
         "rawType": "float64",
         "type": "float"
        },
        {
         "name": "educ_atrisk_count35",
         "rawType": "float64",
         "type": "float"
        },
        {
         "name": "educ_atrisk_prop35",
         "rawType": "float64",
         "type": "float"
        },
        {
         "name": "educ_atrisk_count36",
         "rawType": "float64",
         "type": "float"
        },
        {
         "name": "educ_atrisk_prop36",
         "rawType": "float64",
         "type": "float"
        },
        {
         "name": "educ_atrisk_count37",
         "rawType": "float64",
         "type": "float"
        },
        {
         "name": "educ_atrisk_prop37",
         "rawType": "float64",
         "type": "float"
        },
        {
         "name": "educ_atrisk_count38",
         "rawType": "float64",
         "type": "float"
        },
        {
         "name": "educ_atrisk_prop38",
         "rawType": "float64",
         "type": "float"
        },
        {
         "name": "educ_atrisk_count39",
         "rawType": "float64",
         "type": "float"
        },
        {
         "name": "educ_atrisk_prop39",
         "rawType": "float64",
         "type": "float"
        },
        {
         "name": "educ_atrisk_count40",
         "rawType": "float64",
         "type": "float"
        },
        {
         "name": "educ_atrisk_prop40",
         "rawType": "float64",
         "type": "float"
        },
        {
         "name": "educ_atrisk_count41",
         "rawType": "float64",
         "type": "float"
        },
        {
         "name": "educ_atrisk_prop41",
         "rawType": "float64",
         "type": "float"
        },
        {
         "name": "health_total_atrisk_resp",
         "rawType": "int64",
         "type": "integer"
        },
        {
         "name": "health_atrisk_count1",
         "rawType": "int64",
         "type": "integer"
        },
        {
         "name": "health_atrisk_prop1",
         "rawType": "float64",
         "type": "float"
        },
        {
         "name": "health_atrisk_count2",
         "rawType": "int64",
         "type": "integer"
        },
        {
         "name": "health_atrisk_prop2",
         "rawType": "float64",
         "type": "float"
        },
        {
         "name": "health_atrisk_count3",
         "rawType": "int64",
         "type": "integer"
        },
        {
         "name": "health_atrisk_prop3",
         "rawType": "float64",
         "type": "float"
        },
        {
         "name": "health_atrisk_count4",
         "rawType": "int64",
         "type": "integer"
        },
        {
         "name": "health_atrisk_prop4",
         "rawType": "float64",
         "type": "float"
        },
        {
         "name": "health_atrisk_count5",
         "rawType": "int64",
         "type": "integer"
        },
        {
         "name": "health_atrisk_prop5",
         "rawType": "float64",
         "type": "float"
        },
        {
         "name": "health_atrisk_count6",
         "rawType": "int64",
         "type": "integer"
        },
        {
         "name": "health_atrisk_prop6",
         "rawType": "float64",
         "type": "float"
        },
        {
         "name": "health_atrisk_count7",
         "rawType": "int64",
         "type": "integer"
        },
        {
         "name": "health_atrisk_prop7",
         "rawType": "float64",
         "type": "float"
        },
        {
         "name": "health_atrisk_count8",
         "rawType": "int64",
         "type": "integer"
        },
        {
         "name": "health_atrisk_prop8",
         "rawType": "float64",
         "type": "float"
        },
        {
         "name": "health_atrisk_count9",
         "rawType": "int64",
         "type": "integer"
        },
        {
         "name": "health_atrisk_prop9",
         "rawType": "float64",
         "type": "float"
        },
        {
         "name": "health_atrisk_count10",
         "rawType": "int64",
         "type": "integer"
        },
        {
         "name": "health_atrisk_prop10",
         "rawType": "float64",
         "type": "float"
        },
        {
         "name": "health_atrisk_count11",
         "rawType": "int64",
         "type": "integer"
        },
        {
         "name": "health_atrisk_prop11",
         "rawType": "float64",
         "type": "float"
        },
        {
         "name": "health_atrisk_count12",
         "rawType": "int64",
         "type": "integer"
        },
        {
         "name": "health_atrisk_prop12",
         "rawType": "float64",
         "type": "float"
        },
        {
         "name": "health_atrisk_count13",
         "rawType": "int64",
         "type": "integer"
        },
        {
         "name": "health_atrisk_prop13",
         "rawType": "float64",
         "type": "float"
        },
        {
         "name": "health_atrisk_count14",
         "rawType": "int64",
         "type": "integer"
        },
        {
         "name": "health_atrisk_prop14",
         "rawType": "float64",
         "type": "float"
        },
        {
         "name": "health_atrisk_count15",
         "rawType": "int64",
         "type": "integer"
        },
        {
         "name": "health_atrisk_prop15",
         "rawType": "float64",
         "type": "float"
        },
        {
         "name": "health_atrisk_count16",
         "rawType": "int64",
         "type": "integer"
        },
        {
         "name": "health_atrisk_prop16",
         "rawType": "float64",
         "type": "float"
        },
        {
         "name": "health_atrisk_count17",
         "rawType": "int64",
         "type": "integer"
        },
        {
         "name": "health_atrisk_prop17",
         "rawType": "float64",
         "type": "float"
        },
        {
         "name": "health_atrisk_count18",
         "rawType": "int64",
         "type": "integer"
        },
        {
         "name": "health_atrisk_prop18",
         "rawType": "float64",
         "type": "float"
        },
        {
         "name": "health_atrisk_count19",
         "rawType": "int64",
         "type": "integer"
        },
        {
         "name": "health_atrisk_prop19",
         "rawType": "float64",
         "type": "float"
        },
        {
         "name": "health_atrisk_count20",
         "rawType": "int64",
         "type": "integer"
        },
        {
         "name": "health_atrisk_prop20",
         "rawType": "float64",
         "type": "float"
        },
        {
         "name": "health_atrisk_count21",
         "rawType": "int64",
         "type": "integer"
        },
        {
         "name": "health_atrisk_prop21",
         "rawType": "float64",
         "type": "float"
        },
        {
         "name": "health_atrisk_count22",
         "rawType": "int64",
         "type": "integer"
        },
        {
         "name": "health_atrisk_prop22",
         "rawType": "float64",
         "type": "float"
        },
        {
         "name": "health_atrisk_count23",
         "rawType": "int64",
         "type": "integer"
        },
        {
         "name": "health_atrisk_prop23",
         "rawType": "float64",
         "type": "float"
        },
        {
         "name": "health_atrisk_count24",
         "rawType": "int64",
         "type": "integer"
        },
        {
         "name": "health_atrisk_prop24",
         "rawType": "float64",
         "type": "float"
        },
        {
         "name": "health_atrisk_count25",
         "rawType": "int64",
         "type": "integer"
        },
        {
         "name": "health_atrisk_prop25",
         "rawType": "float64",
         "type": "float"
        },
        {
         "name": "health_atrisk_count26",
         "rawType": "int64",
         "type": "integer"
        },
        {
         "name": "health_atrisk_prop26",
         "rawType": "float64",
         "type": "float"
        },
        {
         "name": "health_atrisk_count27",
         "rawType": "int64",
         "type": "integer"
        },
        {
         "name": "health_atrisk_prop27",
         "rawType": "float64",
         "type": "float"
        },
        {
         "name": "health_atrisk_count28",
         "rawType": "int64",
         "type": "integer"
        },
        {
         "name": "health_atrisk_prop28",
         "rawType": "float64",
         "type": "float"
        },
        {
         "name": "health_atrisk_count29",
         "rawType": "int64",
         "type": "integer"
        },
        {
         "name": "health_atrisk_prop29",
         "rawType": "float64",
         "type": "float"
        },
        {
         "name": "health_atrisk_count30",
         "rawType": "int64",
         "type": "integer"
        },
        {
         "name": "health_atrisk_prop30",
         "rawType": "float64",
         "type": "float"
        },
        {
         "name": "health_atrisk_count31",
         "rawType": "int64",
         "type": "integer"
        },
        {
         "name": "health_atrisk_prop31",
         "rawType": "float64",
         "type": "float"
        },
        {
         "name": "health_atrisk_count32",
         "rawType": "float64",
         "type": "float"
        },
        {
         "name": "health_atrisk_prop32",
         "rawType": "float64",
         "type": "float"
        },
        {
         "name": "health_atrisk_count33",
         "rawType": "float64",
         "type": "float"
        },
        {
         "name": "health_atrisk_prop33",
         "rawType": "float64",
         "type": "float"
        },
        {
         "name": "health_atrisk_count34",
         "rawType": "float64",
         "type": "float"
        },
        {
         "name": "health_atrisk_prop34",
         "rawType": "float64",
         "type": "float"
        },
        {
         "name": "health_atrisk_count35",
         "rawType": "float64",
         "type": "float"
        },
        {
         "name": "health_atrisk_prop35",
         "rawType": "float64",
         "type": "float"
        },
        {
         "name": "health_atrisk_count36",
         "rawType": "float64",
         "type": "float"
        },
        {
         "name": "health_atrisk_prop36",
         "rawType": "float64",
         "type": "float"
        },
        {
         "name": "health_atrisk_count37",
         "rawType": "float64",
         "type": "float"
        },
        {
         "name": "health_atrisk_prop37",
         "rawType": "float64",
         "type": "float"
        },
        {
         "name": "health_atrisk_count38",
         "rawType": "float64",
         "type": "float"
        },
        {
         "name": "health_atrisk_prop38",
         "rawType": "float64",
         "type": "float"
        },
        {
         "name": "health_atrisk_count39",
         "rawType": "float64",
         "type": "float"
        },
        {
         "name": "health_atrisk_prop39",
         "rawType": "float64",
         "type": "float"
        },
        {
         "name": "health_atrisk_count40",
         "rawType": "float64",
         "type": "float"
        },
        {
         "name": "health_atrisk_prop40",
         "rawType": "float64",
         "type": "float"
        },
        {
         "name": "health_atrisk_count41",
         "rawType": "float64",
         "type": "float"
        },
        {
         "name": "health_atrisk_prop41",
         "rawType": "float64",
         "type": "float"
        },
        {
         "name": "house_total_atrisk_resp",
         "rawType": "int64",
         "type": "integer"
        },
        {
         "name": "house_atrisk_count1",
         "rawType": "int64",
         "type": "integer"
        },
        {
         "name": "house_atrisk_prop1",
         "rawType": "float64",
         "type": "float"
        },
        {
         "name": "house_atrisk_count2",
         "rawType": "int64",
         "type": "integer"
        },
        {
         "name": "house_atrisk_prop2",
         "rawType": "float64",
         "type": "float"
        },
        {
         "name": "house_atrisk_count3",
         "rawType": "int64",
         "type": "integer"
        },
        {
         "name": "house_atrisk_prop3",
         "rawType": "float64",
         "type": "float"
        },
        {
         "name": "house_atrisk_count4",
         "rawType": "int64",
         "type": "integer"
        },
        {
         "name": "house_atrisk_prop4",
         "rawType": "float64",
         "type": "float"
        },
        {
         "name": "house_atrisk_count5",
         "rawType": "int64",
         "type": "integer"
        },
        {
         "name": "house_atrisk_prop5",
         "rawType": "float64",
         "type": "float"
        },
        {
         "name": "house_atrisk_count6",
         "rawType": "int64",
         "type": "integer"
        },
        {
         "name": "house_atrisk_prop6",
         "rawType": "float64",
         "type": "float"
        },
        {
         "name": "house_atrisk_count7",
         "rawType": "int64",
         "type": "integer"
        },
        {
         "name": "house_atrisk_prop7",
         "rawType": "float64",
         "type": "float"
        },
        {
         "name": "house_atrisk_count8",
         "rawType": "int64",
         "type": "integer"
        },
        {
         "name": "house_atrisk_prop8",
         "rawType": "float64",
         "type": "float"
        },
        {
         "name": "house_atrisk_count9",
         "rawType": "int64",
         "type": "integer"
        },
        {
         "name": "house_atrisk_prop9",
         "rawType": "float64",
         "type": "float"
        },
        {
         "name": "house_atrisk_count10",
         "rawType": "int64",
         "type": "integer"
        },
        {
         "name": "house_atrisk_prop10",
         "rawType": "float64",
         "type": "float"
        },
        {
         "name": "house_atrisk_count11",
         "rawType": "int64",
         "type": "integer"
        },
        {
         "name": "house_atrisk_prop11",
         "rawType": "float64",
         "type": "float"
        },
        {
         "name": "house_atrisk_count12",
         "rawType": "int64",
         "type": "integer"
        },
        {
         "name": "house_atrisk_prop12",
         "rawType": "float64",
         "type": "float"
        },
        {
         "name": "house_atrisk_count13",
         "rawType": "int64",
         "type": "integer"
        },
        {
         "name": "house_atrisk_prop13",
         "rawType": "float64",
         "type": "float"
        },
        {
         "name": "house_atrisk_count14",
         "rawType": "int64",
         "type": "integer"
        },
        {
         "name": "house_atrisk_prop14",
         "rawType": "float64",
         "type": "float"
        },
        {
         "name": "house_atrisk_count15",
         "rawType": "int64",
         "type": "integer"
        },
        {
         "name": "house_atrisk_prop15",
         "rawType": "float64",
         "type": "float"
        },
        {
         "name": "house_atrisk_count16",
         "rawType": "int64",
         "type": "integer"
        },
        {
         "name": "house_atrisk_prop16",
         "rawType": "float64",
         "type": "float"
        },
        {
         "name": "house_atrisk_count17",
         "rawType": "int64",
         "type": "integer"
        },
        {
         "name": "house_atrisk_prop17",
         "rawType": "float64",
         "type": "float"
        },
        {
         "name": "house_atrisk_count18",
         "rawType": "int64",
         "type": "integer"
        },
        {
         "name": "house_atrisk_prop18",
         "rawType": "float64",
         "type": "float"
        },
        {
         "name": "house_atrisk_count19",
         "rawType": "int64",
         "type": "integer"
        },
        {
         "name": "house_atrisk_prop19",
         "rawType": "float64",
         "type": "float"
        },
        {
         "name": "house_atrisk_count20",
         "rawType": "int64",
         "type": "integer"
        },
        {
         "name": "house_atrisk_prop20",
         "rawType": "float64",
         "type": "float"
        },
        {
         "name": "house_atrisk_count21",
         "rawType": "int64",
         "type": "integer"
        },
        {
         "name": "house_atrisk_prop21",
         "rawType": "float64",
         "type": "float"
        },
        {
         "name": "house_atrisk_count22",
         "rawType": "int64",
         "type": "integer"
        },
        {
         "name": "house_atrisk_prop22",
         "rawType": "float64",
         "type": "float"
        },
        {
         "name": "house_atrisk_count23",
         "rawType": "int64",
         "type": "integer"
        },
        {
         "name": "house_atrisk_prop23",
         "rawType": "float64",
         "type": "float"
        },
        {
         "name": "house_atrisk_count24",
         "rawType": "int64",
         "type": "integer"
        },
        {
         "name": "house_atrisk_prop24",
         "rawType": "float64",
         "type": "float"
        },
        {
         "name": "house_atrisk_count25",
         "rawType": "int64",
         "type": "integer"
        },
        {
         "name": "house_atrisk_prop25",
         "rawType": "float64",
         "type": "float"
        },
        {
         "name": "house_atrisk_count26",
         "rawType": "int64",
         "type": "integer"
        },
        {
         "name": "house_atrisk_prop26",
         "rawType": "float64",
         "type": "float"
        },
        {
         "name": "house_atrisk_count27",
         "rawType": "int64",
         "type": "integer"
        },
        {
         "name": "house_atrisk_prop27",
         "rawType": "float64",
         "type": "float"
        },
        {
         "name": "house_atrisk_count28",
         "rawType": "int64",
         "type": "integer"
        },
        {
         "name": "house_atrisk_prop28",
         "rawType": "float64",
         "type": "float"
        },
        {
         "name": "house_atrisk_count29",
         "rawType": "int64",
         "type": "integer"
        },
        {
         "name": "house_atrisk_prop29",
         "rawType": "float64",
         "type": "float"
        },
        {
         "name": "house_atrisk_count30",
         "rawType": "int64",
         "type": "integer"
        },
        {
         "name": "house_atrisk_prop30",
         "rawType": "float64",
         "type": "float"
        },
        {
         "name": "house_atrisk_count31",
         "rawType": "int64",
         "type": "integer"
        },
        {
         "name": "house_atrisk_prop31",
         "rawType": "float64",
         "type": "float"
        },
        {
         "name": "house_atrisk_count32",
         "rawType": "float64",
         "type": "float"
        },
        {
         "name": "house_atrisk_prop32",
         "rawType": "float64",
         "type": "float"
        },
        {
         "name": "house_atrisk_count33",
         "rawType": "float64",
         "type": "float"
        },
        {
         "name": "house_atrisk_prop33",
         "rawType": "float64",
         "type": "float"
        },
        {
         "name": "house_atrisk_count34",
         "rawType": "float64",
         "type": "float"
        },
        {
         "name": "house_atrisk_prop34",
         "rawType": "float64",
         "type": "float"
        },
        {
         "name": "house_atrisk_count35",
         "rawType": "float64",
         "type": "float"
        },
        {
         "name": "house_atrisk_prop35",
         "rawType": "float64",
         "type": "float"
        },
        {
         "name": "house_atrisk_count36",
         "rawType": "float64",
         "type": "float"
        },
        {
         "name": "house_atrisk_prop36",
         "rawType": "float64",
         "type": "float"
        },
        {
         "name": "house_atrisk_count37",
         "rawType": "float64",
         "type": "float"
        },
        {
         "name": "house_atrisk_prop37",
         "rawType": "float64",
         "type": "float"
        },
        {
         "name": "house_atrisk_count38",
         "rawType": "float64",
         "type": "float"
        },
        {
         "name": "house_atrisk_prop38",
         "rawType": "float64",
         "type": "float"
        },
        {
         "name": "house_atrisk_count39",
         "rawType": "float64",
         "type": "float"
        },
        {
         "name": "house_atrisk_prop39",
         "rawType": "float64",
         "type": "float"
        },
        {
         "name": "house_atrisk_count40",
         "rawType": "float64",
         "type": "float"
        },
        {
         "name": "house_atrisk_prop40",
         "rawType": "float64",
         "type": "float"
        },
        {
         "name": "house_atrisk_count41",
         "rawType": "float64",
         "type": "float"
        },
        {
         "name": "house_atrisk_prop41",
         "rawType": "float64",
         "type": "float"
        },
        {
         "name": "work_total_atrisk_resp",
         "rawType": "float64",
         "type": "float"
        },
        {
         "name": "work_atrisk_count1",
         "rawType": "float64",
         "type": "float"
        },
        {
         "name": "work_atrisk_prop1",
         "rawType": "float64",
         "type": "float"
        },
        {
         "name": "work_atrisk_count2",
         "rawType": "float64",
         "type": "float"
        },
        {
         "name": "work_atrisk_prop2",
         "rawType": "float64",
         "type": "float"
        },
        {
         "name": "work_atrisk_count3",
         "rawType": "float64",
         "type": "float"
        },
        {
         "name": "work_atrisk_prop3",
         "rawType": "float64",
         "type": "float"
        },
        {
         "name": "work_atrisk_count4",
         "rawType": "float64",
         "type": "float"
        },
        {
         "name": "work_atrisk_prop4",
         "rawType": "float64",
         "type": "float"
        },
        {
         "name": "work_atrisk_count5",
         "rawType": "float64",
         "type": "float"
        },
        {
         "name": "work_atrisk_prop5",
         "rawType": "float64",
         "type": "float"
        },
        {
         "name": "work_atrisk_count6",
         "rawType": "float64",
         "type": "float"
        },
        {
         "name": "work_atrisk_prop6",
         "rawType": "float64",
         "type": "float"
        },
        {
         "name": "work_atrisk_count7",
         "rawType": "float64",
         "type": "float"
        },
        {
         "name": "work_atrisk_prop7",
         "rawType": "float64",
         "type": "float"
        },
        {
         "name": "work_atrisk_count8",
         "rawType": "float64",
         "type": "float"
        },
        {
         "name": "work_atrisk_prop8",
         "rawType": "float64",
         "type": "float"
        },
        {
         "name": "work_atrisk_count9",
         "rawType": "float64",
         "type": "float"
        },
        {
         "name": "work_atrisk_prop9",
         "rawType": "float64",
         "type": "float"
        },
        {
         "name": "work_atrisk_count10",
         "rawType": "float64",
         "type": "float"
        },
        {
         "name": "work_atrisk_prop10",
         "rawType": "float64",
         "type": "float"
        },
        {
         "name": "work_atrisk_count11",
         "rawType": "float64",
         "type": "float"
        },
        {
         "name": "work_atrisk_prop11",
         "rawType": "float64",
         "type": "float"
        },
        {
         "name": "work_atrisk_count12",
         "rawType": "float64",
         "type": "float"
        },
        {
         "name": "work_atrisk_prop12",
         "rawType": "float64",
         "type": "float"
        },
        {
         "name": "work_atrisk_count13",
         "rawType": "float64",
         "type": "float"
        },
        {
         "name": "work_atrisk_prop13",
         "rawType": "float64",
         "type": "float"
        },
        {
         "name": "work_atrisk_count14",
         "rawType": "float64",
         "type": "float"
        },
        {
         "name": "work_atrisk_prop14",
         "rawType": "float64",
         "type": "float"
        },
        {
         "name": "work_atrisk_count15",
         "rawType": "float64",
         "type": "float"
        },
        {
         "name": "work_atrisk_prop15",
         "rawType": "float64",
         "type": "float"
        },
        {
         "name": "work_atrisk_count16",
         "rawType": "float64",
         "type": "float"
        },
        {
         "name": "work_atrisk_prop16",
         "rawType": "float64",
         "type": "float"
        },
        {
         "name": "work_atrisk_count17",
         "rawType": "float64",
         "type": "float"
        },
        {
         "name": "work_atrisk_prop17",
         "rawType": "float64",
         "type": "float"
        },
        {
         "name": "work_atrisk_count18",
         "rawType": "float64",
         "type": "float"
        },
        {
         "name": "work_atrisk_prop18",
         "rawType": "float64",
         "type": "float"
        },
        {
         "name": "work_atrisk_count19",
         "rawType": "float64",
         "type": "float"
        },
        {
         "name": "work_atrisk_prop19",
         "rawType": "float64",
         "type": "float"
        },
        {
         "name": "work_atrisk_count20",
         "rawType": "float64",
         "type": "float"
        },
        {
         "name": "work_atrisk_prop20",
         "rawType": "float64",
         "type": "float"
        },
        {
         "name": "work_atrisk_count21",
         "rawType": "float64",
         "type": "float"
        },
        {
         "name": "work_atrisk_prop21",
         "rawType": "float64",
         "type": "float"
        },
        {
         "name": "work_atrisk_count22",
         "rawType": "float64",
         "type": "float"
        },
        {
         "name": "work_atrisk_prop22",
         "rawType": "float64",
         "type": "float"
        },
        {
         "name": "work_atrisk_count23",
         "rawType": "float64",
         "type": "float"
        },
        {
         "name": "work_atrisk_prop23",
         "rawType": "float64",
         "type": "float"
        },
        {
         "name": "work_atrisk_count24",
         "rawType": "float64",
         "type": "float"
        },
        {
         "name": "work_atrisk_prop24",
         "rawType": "float64",
         "type": "float"
        },
        {
         "name": "work_atrisk_count25",
         "rawType": "float64",
         "type": "float"
        },
        {
         "name": "work_atrisk_prop25",
         "rawType": "float64",
         "type": "float"
        },
        {
         "name": "work_atrisk_count26",
         "rawType": "float64",
         "type": "float"
        },
        {
         "name": "work_atrisk_prop26",
         "rawType": "float64",
         "type": "float"
        },
        {
         "name": "work_atrisk_count27",
         "rawType": "float64",
         "type": "float"
        },
        {
         "name": "work_atrisk_prop27",
         "rawType": "float64",
         "type": "float"
        },
        {
         "name": "work_atrisk_count28",
         "rawType": "float64",
         "type": "float"
        },
        {
         "name": "work_atrisk_prop28",
         "rawType": "float64",
         "type": "float"
        },
        {
         "name": "work_atrisk_count29",
         "rawType": "float64",
         "type": "float"
        },
        {
         "name": "work_atrisk_prop29",
         "rawType": "float64",
         "type": "float"
        },
        {
         "name": "work_atrisk_count30",
         "rawType": "float64",
         "type": "float"
        },
        {
         "name": "work_atrisk_prop30",
         "rawType": "float64",
         "type": "float"
        },
        {
         "name": "work_atrisk_count31",
         "rawType": "float64",
         "type": "float"
        },
        {
         "name": "work_atrisk_prop31",
         "rawType": "float64",
         "type": "float"
        },
        {
         "name": "work_atrisk_count32",
         "rawType": "float64",
         "type": "float"
        },
        {
         "name": "work_atrisk_prop32",
         "rawType": "float64",
         "type": "float"
        },
        {
         "name": "work_atrisk_count33",
         "rawType": "float64",
         "type": "float"
        },
        {
         "name": "work_atrisk_prop33",
         "rawType": "float64",
         "type": "float"
        },
        {
         "name": "work_atrisk_count34",
         "rawType": "float64",
         "type": "float"
        },
        {
         "name": "work_atrisk_prop34",
         "rawType": "float64",
         "type": "float"
        },
        {
         "name": "work_atrisk_count35",
         "rawType": "float64",
         "type": "float"
        },
        {
         "name": "work_atrisk_prop35",
         "rawType": "float64",
         "type": "float"
        },
        {
         "name": "work_atrisk_count36",
         "rawType": "float64",
         "type": "float"
        },
        {
         "name": "work_atrisk_prop36",
         "rawType": "float64",
         "type": "float"
        },
        {
         "name": "work_atrisk_count37",
         "rawType": "float64",
         "type": "float"
        },
        {
         "name": "work_atrisk_prop37",
         "rawType": "float64",
         "type": "float"
        },
        {
         "name": "work_atrisk_count38",
         "rawType": "float64",
         "type": "float"
        },
        {
         "name": "work_atrisk_prop38",
         "rawType": "float64",
         "type": "float"
        },
        {
         "name": "work_atrisk_count39",
         "rawType": "float64",
         "type": "float"
        },
        {
         "name": "work_atrisk_prop39",
         "rawType": "float64",
         "type": "float"
        },
        {
         "name": "work_atrisk_count40",
         "rawType": "float64",
         "type": "float"
        },
        {
         "name": "work_atrisk_prop40",
         "rawType": "float64",
         "type": "float"
        },
        {
         "name": "work_atrisk_count41",
         "rawType": "float64",
         "type": "float"
        },
        {
         "name": "work_atrisk_prop41",
         "rawType": "float64",
         "type": "float"
        },
        {
         "name": "tort_total_atrisk_resp",
         "rawType": "float64",
         "type": "float"
        },
        {
         "name": "tort_atrisk_count1",
         "rawType": "float64",
         "type": "float"
        },
        {
         "name": "tort_atrisk_prop1",
         "rawType": "float64",
         "type": "float"
        },
        {
         "name": "tort_atrisk_count2",
         "rawType": "float64",
         "type": "float"
        },
        {
         "name": "tort_atrisk_prop2",
         "rawType": "float64",
         "type": "float"
        },
        {
         "name": "tort_atrisk_count3",
         "rawType": "float64",
         "type": "float"
        },
        {
         "name": "tort_atrisk_prop3",
         "rawType": "float64",
         "type": "float"
        },
        {
         "name": "tort_atrisk_count4",
         "rawType": "float64",
         "type": "float"
        },
        {
         "name": "tort_atrisk_prop4",
         "rawType": "float64",
         "type": "float"
        },
        {
         "name": "tort_atrisk_count5",
         "rawType": "float64",
         "type": "float"
        },
        {
         "name": "tort_atrisk_prop5",
         "rawType": "float64",
         "type": "float"
        },
        {
         "name": "tort_atrisk_count6",
         "rawType": "float64",
         "type": "float"
        },
        {
         "name": "tort_atrisk_prop6",
         "rawType": "float64",
         "type": "float"
        },
        {
         "name": "tort_atrisk_count7",
         "rawType": "float64",
         "type": "float"
        },
        {
         "name": "tort_atrisk_prop7",
         "rawType": "float64",
         "type": "float"
        },
        {
         "name": "tort_atrisk_count8",
         "rawType": "float64",
         "type": "float"
        },
        {
         "name": "tort_atrisk_prop8",
         "rawType": "float64",
         "type": "float"
        },
        {
         "name": "tort_atrisk_count9",
         "rawType": "float64",
         "type": "float"
        },
        {
         "name": "tort_atrisk_prop9",
         "rawType": "float64",
         "type": "float"
        },
        {
         "name": "tort_atrisk_count10",
         "rawType": "float64",
         "type": "float"
        },
        {
         "name": "tort_atrisk_prop10",
         "rawType": "float64",
         "type": "float"
        },
        {
         "name": "tort_atrisk_count11",
         "rawType": "float64",
         "type": "float"
        },
        {
         "name": "tort_atrisk_prop11",
         "rawType": "float64",
         "type": "float"
        },
        {
         "name": "tort_atrisk_count12",
         "rawType": "float64",
         "type": "float"
        },
        {
         "name": "tort_atrisk_prop12",
         "rawType": "float64",
         "type": "float"
        },
        {
         "name": "tort_atrisk_count13",
         "rawType": "float64",
         "type": "float"
        },
        {
         "name": "tort_atrisk_prop13",
         "rawType": "float64",
         "type": "float"
        },
        {
         "name": "tort_atrisk_count14",
         "rawType": "float64",
         "type": "float"
        },
        {
         "name": "tort_atrisk_prop14",
         "rawType": "float64",
         "type": "float"
        },
        {
         "name": "tort_atrisk_count15",
         "rawType": "float64",
         "type": "float"
        },
        {
         "name": "tort_atrisk_prop15",
         "rawType": "float64",
         "type": "float"
        },
        {
         "name": "tort_atrisk_count16",
         "rawType": "float64",
         "type": "float"
        },
        {
         "name": "tort_atrisk_prop16",
         "rawType": "float64",
         "type": "float"
        },
        {
         "name": "tort_atrisk_count17",
         "rawType": "float64",
         "type": "float"
        },
        {
         "name": "tort_atrisk_prop17",
         "rawType": "float64",
         "type": "float"
        },
        {
         "name": "tort_atrisk_count18",
         "rawType": "float64",
         "type": "float"
        },
        {
         "name": "tort_atrisk_prop18",
         "rawType": "float64",
         "type": "float"
        },
        {
         "name": "tort_atrisk_count19",
         "rawType": "float64",
         "type": "float"
        },
        {
         "name": "tort_atrisk_prop19",
         "rawType": "float64",
         "type": "float"
        },
        {
         "name": "tort_atrisk_count20",
         "rawType": "float64",
         "type": "float"
        },
        {
         "name": "tort_atrisk_prop20",
         "rawType": "float64",
         "type": "float"
        },
        {
         "name": "tort_atrisk_count21",
         "rawType": "float64",
         "type": "float"
        },
        {
         "name": "tort_atrisk_prop21",
         "rawType": "float64",
         "type": "float"
        },
        {
         "name": "tort_atrisk_count22",
         "rawType": "float64",
         "type": "float"
        },
        {
         "name": "tort_atrisk_prop22",
         "rawType": "float64",
         "type": "float"
        },
        {
         "name": "tort_atrisk_count23",
         "rawType": "float64",
         "type": "float"
        },
        {
         "name": "tort_atrisk_prop23",
         "rawType": "float64",
         "type": "float"
        },
        {
         "name": "tort_atrisk_count24",
         "rawType": "float64",
         "type": "float"
        },
        {
         "name": "tort_atrisk_prop24",
         "rawType": "float64",
         "type": "float"
        },
        {
         "name": "tort_atrisk_count25",
         "rawType": "float64",
         "type": "float"
        },
        {
         "name": "tort_atrisk_prop25",
         "rawType": "float64",
         "type": "float"
        },
        {
         "name": "tort_atrisk_count26",
         "rawType": "float64",
         "type": "float"
        },
        {
         "name": "tort_atrisk_prop26",
         "rawType": "float64",
         "type": "float"
        },
        {
         "name": "tort_atrisk_count27",
         "rawType": "float64",
         "type": "float"
        },
        {
         "name": "tort_atrisk_prop27",
         "rawType": "float64",
         "type": "float"
        },
        {
         "name": "tort_atrisk_count28",
         "rawType": "float64",
         "type": "float"
        },
        {
         "name": "tort_atrisk_prop28",
         "rawType": "float64",
         "type": "float"
        },
        {
         "name": "tort_atrisk_count29",
         "rawType": "float64",
         "type": "float"
        },
        {
         "name": "tort_atrisk_prop29",
         "rawType": "float64",
         "type": "float"
        },
        {
         "name": "tort_atrisk_count30",
         "rawType": "float64",
         "type": "float"
        },
        {
         "name": "tort_atrisk_prop30",
         "rawType": "float64",
         "type": "float"
        },
        {
         "name": "tort_atrisk_count31",
         "rawType": "float64",
         "type": "float"
        },
        {
         "name": "tort_atrisk_prop31",
         "rawType": "float64",
         "type": "float"
        },
        {
         "name": "tort_atrisk_count32",
         "rawType": "float64",
         "type": "float"
        },
        {
         "name": "tort_atrisk_prop32",
         "rawType": "float64",
         "type": "float"
        },
        {
         "name": "tort_atrisk_count33",
         "rawType": "float64",
         "type": "float"
        },
        {
         "name": "tort_atrisk_prop33",
         "rawType": "float64",
         "type": "float"
        },
        {
         "name": "tort_atrisk_count34",
         "rawType": "float64",
         "type": "float"
        },
        {
         "name": "tort_atrisk_prop34",
         "rawType": "float64",
         "type": "float"
        },
        {
         "name": "tort_atrisk_count35",
         "rawType": "float64",
         "type": "float"
        },
        {
         "name": "tort_atrisk_prop35",
         "rawType": "float64",
         "type": "float"
        },
        {
         "name": "tort_atrisk_count36",
         "rawType": "float64",
         "type": "float"
        },
        {
         "name": "tort_atrisk_prop36",
         "rawType": "float64",
         "type": "float"
        },
        {
         "name": "tort_atrisk_count37",
         "rawType": "float64",
         "type": "float"
        },
        {
         "name": "tort_atrisk_prop37",
         "rawType": "float64",
         "type": "float"
        },
        {
         "name": "tort_atrisk_count38",
         "rawType": "float64",
         "type": "float"
        },
        {
         "name": "tort_atrisk_prop38",
         "rawType": "float64",
         "type": "float"
        },
        {
         "name": "tort_atrisk_count39",
         "rawType": "float64",
         "type": "float"
        },
        {
         "name": "tort_atrisk_prop39",
         "rawType": "float64",
         "type": "float"
        },
        {
         "name": "tort_atrisk_count40",
         "rawType": "float64",
         "type": "float"
        },
        {
         "name": "tort_atrisk_prop40",
         "rawType": "float64",
         "type": "float"
        },
        {
         "name": "tort_atrisk_count41",
         "rawType": "float64",
         "type": "float"
        },
        {
         "name": "tort_atrisk_prop41",
         "rawType": "float64",
         "type": "float"
        },
        {
         "name": "arrest_total_atrisk_resp",
         "rawType": "float64",
         "type": "float"
        },
        {
         "name": "arrest_atrisk_count1",
         "rawType": "float64",
         "type": "float"
        },
        {
         "name": "arrest_atrisk_prop1",
         "rawType": "float64",
         "type": "float"
        },
        {
         "name": "arrest_atrisk_count2",
         "rawType": "float64",
         "type": "float"
        },
        {
         "name": "arrest_atrisk_prop2",
         "rawType": "float64",
         "type": "float"
        },
        {
         "name": "arrest_atrisk_count3",
         "rawType": "float64",
         "type": "float"
        },
        {
         "name": "arrest_atrisk_prop3",
         "rawType": "float64",
         "type": "float"
        },
        {
         "name": "arrest_atrisk_count4",
         "rawType": "float64",
         "type": "float"
        },
        {
         "name": "arrest_atrisk_prop4",
         "rawType": "float64",
         "type": "float"
        },
        {
         "name": "arrest_atrisk_count5",
         "rawType": "float64",
         "type": "float"
        },
        {
         "name": "arrest_atrisk_prop5",
         "rawType": "float64",
         "type": "float"
        },
        {
         "name": "arrest_atrisk_count6",
         "rawType": "float64",
         "type": "float"
        },
        {
         "name": "arrest_atrisk_prop6",
         "rawType": "float64",
         "type": "float"
        },
        {
         "name": "arrest_atrisk_count7",
         "rawType": "float64",
         "type": "float"
        },
        {
         "name": "arrest_atrisk_prop7",
         "rawType": "float64",
         "type": "float"
        },
        {
         "name": "arrest_atrisk_count8",
         "rawType": "float64",
         "type": "float"
        },
        {
         "name": "arrest_atrisk_prop8",
         "rawType": "float64",
         "type": "float"
        },
        {
         "name": "arrest_atrisk_count9",
         "rawType": "float64",
         "type": "float"
        },
        {
         "name": "arrest_atrisk_prop9",
         "rawType": "float64",
         "type": "float"
        },
        {
         "name": "arrest_atrisk_count10",
         "rawType": "float64",
         "type": "float"
        },
        {
         "name": "arrest_atrisk_prop10",
         "rawType": "float64",
         "type": "float"
        },
        {
         "name": "arrest_atrisk_count11",
         "rawType": "float64",
         "type": "float"
        },
        {
         "name": "arrest_atrisk_prop11",
         "rawType": "float64",
         "type": "float"
        },
        {
         "name": "arrest_atrisk_count12",
         "rawType": "float64",
         "type": "float"
        },
        {
         "name": "arrest_atrisk_prop12",
         "rawType": "float64",
         "type": "float"
        },
        {
         "name": "arrest_atrisk_count13",
         "rawType": "float64",
         "type": "float"
        },
        {
         "name": "arrest_atrisk_prop13",
         "rawType": "float64",
         "type": "float"
        },
        {
         "name": "arrest_atrisk_count14",
         "rawType": "float64",
         "type": "float"
        },
        {
         "name": "arrest_atrisk_prop14",
         "rawType": "float64",
         "type": "float"
        },
        {
         "name": "arrest_atrisk_count15",
         "rawType": "float64",
         "type": "float"
        },
        {
         "name": "arrest_atrisk_prop15",
         "rawType": "float64",
         "type": "float"
        },
        {
         "name": "arrest_atrisk_count16",
         "rawType": "float64",
         "type": "float"
        },
        {
         "name": "arrest_atrisk_prop16",
         "rawType": "float64",
         "type": "float"
        },
        {
         "name": "arrest_atrisk_count17",
         "rawType": "float64",
         "type": "float"
        },
        {
         "name": "arrest_atrisk_prop17",
         "rawType": "float64",
         "type": "float"
        },
        {
         "name": "arrest_atrisk_count18",
         "rawType": "float64",
         "type": "float"
        },
        {
         "name": "arrest_atrisk_prop18",
         "rawType": "float64",
         "type": "float"
        },
        {
         "name": "arrest_atrisk_count19",
         "rawType": "float64",
         "type": "float"
        },
        {
         "name": "arrest_atrisk_prop19",
         "rawType": "float64",
         "type": "float"
        },
        {
         "name": "arrest_atrisk_count20",
         "rawType": "float64",
         "type": "float"
        },
        {
         "name": "arrest_atrisk_prop20",
         "rawType": "float64",
         "type": "float"
        },
        {
         "name": "arrest_atrisk_count21",
         "rawType": "float64",
         "type": "float"
        },
        {
         "name": "arrest_atrisk_prop21",
         "rawType": "float64",
         "type": "float"
        },
        {
         "name": "arrest_atrisk_count22",
         "rawType": "float64",
         "type": "float"
        },
        {
         "name": "arrest_atrisk_prop22",
         "rawType": "float64",
         "type": "float"
        },
        {
         "name": "arrest_atrisk_count23",
         "rawType": "float64",
         "type": "float"
        },
        {
         "name": "arrest_atrisk_prop23",
         "rawType": "float64",
         "type": "float"
        },
        {
         "name": "arrest_atrisk_count24",
         "rawType": "float64",
         "type": "float"
        },
        {
         "name": "arrest_atrisk_prop24",
         "rawType": "float64",
         "type": "float"
        },
        {
         "name": "arrest_atrisk_count25",
         "rawType": "float64",
         "type": "float"
        },
        {
         "name": "arrest_atrisk_prop25",
         "rawType": "float64",
         "type": "float"
        },
        {
         "name": "arrest_atrisk_count26",
         "rawType": "float64",
         "type": "float"
        },
        {
         "name": "arrest_atrisk_prop26",
         "rawType": "float64",
         "type": "float"
        },
        {
         "name": "arrest_atrisk_count27",
         "rawType": "float64",
         "type": "float"
        },
        {
         "name": "arrest_atrisk_prop27",
         "rawType": "float64",
         "type": "float"
        },
        {
         "name": "arrest_atrisk_count28",
         "rawType": "float64",
         "type": "float"
        },
        {
         "name": "arrest_atrisk_prop28",
         "rawType": "float64",
         "type": "float"
        },
        {
         "name": "arrest_atrisk_count29",
         "rawType": "float64",
         "type": "float"
        },
        {
         "name": "arrest_atrisk_prop29",
         "rawType": "float64",
         "type": "float"
        },
        {
         "name": "arrest_atrisk_count30",
         "rawType": "float64",
         "type": "float"
        },
        {
         "name": "arrest_atrisk_prop30",
         "rawType": "float64",
         "type": "float"
        },
        {
         "name": "arrest_atrisk_count31",
         "rawType": "float64",
         "type": "float"
        },
        {
         "name": "arrest_atrisk_prop31",
         "rawType": "float64",
         "type": "float"
        },
        {
         "name": "arrest_atrisk_count32",
         "rawType": "float64",
         "type": "float"
        },
        {
         "name": "arrest_atrisk_prop32",
         "rawType": "float64",
         "type": "float"
        },
        {
         "name": "arrest_atrisk_count33",
         "rawType": "float64",
         "type": "float"
        },
        {
         "name": "arrest_atrisk_prop33",
         "rawType": "float64",
         "type": "float"
        },
        {
         "name": "arrest_atrisk_count34",
         "rawType": "float64",
         "type": "float"
        },
        {
         "name": "arrest_atrisk_prop34",
         "rawType": "float64",
         "type": "float"
        },
        {
         "name": "arrest_atrisk_count35",
         "rawType": "float64",
         "type": "float"
        },
        {
         "name": "arrest_atrisk_prop35",
         "rawType": "float64",
         "type": "float"
        },
        {
         "name": "arrest_atrisk_count36",
         "rawType": "float64",
         "type": "float"
        },
        {
         "name": "arrest_atrisk_prop36",
         "rawType": "float64",
         "type": "float"
        },
        {
         "name": "arrest_atrisk_count37",
         "rawType": "float64",
         "type": "float"
        },
        {
         "name": "arrest_atrisk_prop37",
         "rawType": "float64",
         "type": "float"
        },
        {
         "name": "arrest_atrisk_count38",
         "rawType": "float64",
         "type": "float"
        },
        {
         "name": "arrest_atrisk_prop38",
         "rawType": "float64",
         "type": "float"
        },
        {
         "name": "arrest_atrisk_count39",
         "rawType": "float64",
         "type": "float"
        },
        {
         "name": "arrest_atrisk_prop39",
         "rawType": "float64",
         "type": "float"
        },
        {
         "name": "arrest_atrisk_count40",
         "rawType": "float64",
         "type": "float"
        },
        {
         "name": "arrest_atrisk_prop40",
         "rawType": "float64",
         "type": "float"
        },
        {
         "name": "arrest_atrisk_count41",
         "rawType": "float64",
         "type": "float"
        },
        {
         "name": "arrest_atrisk_prop41",
         "rawType": "float64",
         "type": "float"
        },
        {
         "name": "exkill_total_atrisk_resp",
         "rawType": "float64",
         "type": "float"
        },
        {
         "name": "exkill_atrisk_count1",
         "rawType": "float64",
         "type": "float"
        },
        {
         "name": "exkill_atrisk_prop1",
         "rawType": "float64",
         "type": "float"
        },
        {
         "name": "exkill_atrisk_count2",
         "rawType": "float64",
         "type": "float"
        },
        {
         "name": "exkill_atrisk_prop2",
         "rawType": "float64",
         "type": "float"
        },
        {
         "name": "exkill_atrisk_count3",
         "rawType": "float64",
         "type": "float"
        },
        {
         "name": "exkill_atrisk_prop3",
         "rawType": "float64",
         "type": "float"
        },
        {
         "name": "exkill_atrisk_count4",
         "rawType": "float64",
         "type": "float"
        },
        {
         "name": "exkill_atrisk_prop4",
         "rawType": "float64",
         "type": "float"
        },
        {
         "name": "exkill_atrisk_count5",
         "rawType": "float64",
         "type": "float"
        },
        {
         "name": "exkill_atrisk_prop5",
         "rawType": "float64",
         "type": "float"
        },
        {
         "name": "exkill_atrisk_count6",
         "rawType": "float64",
         "type": "float"
        },
        {
         "name": "exkill_atrisk_prop6",
         "rawType": "float64",
         "type": "float"
        },
        {
         "name": "exkill_atrisk_count7",
         "rawType": "float64",
         "type": "float"
        },
        {
         "name": "exkill_atrisk_prop7",
         "rawType": "float64",
         "type": "float"
        },
        {
         "name": "exkill_atrisk_count8",
         "rawType": "float64",
         "type": "float"
        },
        {
         "name": "exkill_atrisk_prop8",
         "rawType": "float64",
         "type": "float"
        },
        {
         "name": "exkill_atrisk_count9",
         "rawType": "float64",
         "type": "float"
        },
        {
         "name": "exkill_atrisk_prop9",
         "rawType": "float64",
         "type": "float"
        },
        {
         "name": "exkill_atrisk_count10",
         "rawType": "float64",
         "type": "float"
        },
        {
         "name": "exkill_atrisk_prop10",
         "rawType": "float64",
         "type": "float"
        },
        {
         "name": "exkill_atrisk_count11",
         "rawType": "float64",
         "type": "float"
        },
        {
         "name": "exkill_atrisk_prop11",
         "rawType": "float64",
         "type": "float"
        },
        {
         "name": "exkill_atrisk_count12",
         "rawType": "float64",
         "type": "float"
        },
        {
         "name": "exkill_atrisk_prop12",
         "rawType": "float64",
         "type": "float"
        },
        {
         "name": "exkill_atrisk_count13",
         "rawType": "float64",
         "type": "float"
        },
        {
         "name": "exkill_atrisk_prop13",
         "rawType": "float64",
         "type": "float"
        },
        {
         "name": "exkill_atrisk_count14",
         "rawType": "float64",
         "type": "float"
        },
        {
         "name": "exkill_atrisk_prop14",
         "rawType": "float64",
         "type": "float"
        },
        {
         "name": "exkill_atrisk_count15",
         "rawType": "float64",
         "type": "float"
        },
        {
         "name": "exkill_atrisk_prop15",
         "rawType": "float64",
         "type": "float"
        },
        {
         "name": "exkill_atrisk_count16",
         "rawType": "float64",
         "type": "float"
        },
        {
         "name": "exkill_atrisk_prop16",
         "rawType": "float64",
         "type": "float"
        },
        {
         "name": "exkill_atrisk_count17",
         "rawType": "float64",
         "type": "float"
        },
        {
         "name": "exkill_atrisk_prop17",
         "rawType": "float64",
         "type": "float"
        },
        {
         "name": "exkill_atrisk_count18",
         "rawType": "float64",
         "type": "float"
        },
        {
         "name": "exkill_atrisk_prop18",
         "rawType": "float64",
         "type": "float"
        },
        {
         "name": "exkill_atrisk_count19",
         "rawType": "float64",
         "type": "float"
        },
        {
         "name": "exkill_atrisk_prop19",
         "rawType": "float64",
         "type": "float"
        },
        {
         "name": "exkill_atrisk_count20",
         "rawType": "float64",
         "type": "float"
        },
        {
         "name": "exkill_atrisk_prop20",
         "rawType": "float64",
         "type": "float"
        },
        {
         "name": "exkill_atrisk_count21",
         "rawType": "float64",
         "type": "float"
        },
        {
         "name": "exkill_atrisk_prop21",
         "rawType": "float64",
         "type": "float"
        },
        {
         "name": "exkill_atrisk_count22",
         "rawType": "float64",
         "type": "float"
        },
        {
         "name": "exkill_atrisk_prop22",
         "rawType": "float64",
         "type": "float"
        },
        {
         "name": "exkill_atrisk_count23",
         "rawType": "float64",
         "type": "float"
        },
        {
         "name": "exkill_atrisk_prop23",
         "rawType": "float64",
         "type": "float"
        },
        {
         "name": "exkill_atrisk_count24",
         "rawType": "float64",
         "type": "float"
        },
        {
         "name": "exkill_atrisk_prop24",
         "rawType": "float64",
         "type": "float"
        },
        {
         "name": "exkill_atrisk_count25",
         "rawType": "float64",
         "type": "float"
        },
        {
         "name": "exkill_atrisk_prop25",
         "rawType": "float64",
         "type": "float"
        },
        {
         "name": "exkill_atrisk_count26",
         "rawType": "float64",
         "type": "float"
        },
        {
         "name": "exkill_atrisk_prop26",
         "rawType": "float64",
         "type": "float"
        },
        {
         "name": "exkill_atrisk_count27",
         "rawType": "float64",
         "type": "float"
        },
        {
         "name": "exkill_atrisk_prop27",
         "rawType": "float64",
         "type": "float"
        },
        {
         "name": "exkill_atrisk_count28",
         "rawType": "float64",
         "type": "float"
        },
        {
         "name": "exkill_atrisk_prop28",
         "rawType": "float64",
         "type": "float"
        },
        {
         "name": "exkill_atrisk_count29",
         "rawType": "float64",
         "type": "float"
        },
        {
         "name": "exkill_atrisk_prop29",
         "rawType": "float64",
         "type": "float"
        },
        {
         "name": "exkill_atrisk_count30",
         "rawType": "float64",
         "type": "float"
        },
        {
         "name": "exkill_atrisk_prop30",
         "rawType": "float64",
         "type": "float"
        },
        {
         "name": "exkill_atrisk_count31",
         "rawType": "float64",
         "type": "float"
        },
        {
         "name": "exkill_atrisk_prop31",
         "rawType": "float64",
         "type": "float"
        },
        {
         "name": "exkill_atrisk_count32",
         "rawType": "float64",
         "type": "float"
        },
        {
         "name": "exkill_atrisk_prop32",
         "rawType": "float64",
         "type": "float"
        },
        {
         "name": "exkill_atrisk_count33",
         "rawType": "float64",
         "type": "float"
        },
        {
         "name": "exkill_atrisk_prop33",
         "rawType": "float64",
         "type": "float"
        },
        {
         "name": "exkill_atrisk_count34",
         "rawType": "float64",
         "type": "float"
        },
        {
         "name": "exkill_atrisk_prop34",
         "rawType": "float64",
         "type": "float"
        },
        {
         "name": "exkill_atrisk_count35",
         "rawType": "float64",
         "type": "float"
        },
        {
         "name": "exkill_atrisk_prop35",
         "rawType": "float64",
         "type": "float"
        },
        {
         "name": "exkill_atrisk_count36",
         "rawType": "float64",
         "type": "float"
        },
        {
         "name": "exkill_atrisk_prop36",
         "rawType": "float64",
         "type": "float"
        },
        {
         "name": "exkill_atrisk_count37",
         "rawType": "float64",
         "type": "float"
        },
        {
         "name": "exkill_atrisk_prop37",
         "rawType": "float64",
         "type": "float"
        },
        {
         "name": "exkill_atrisk_count38",
         "rawType": "float64",
         "type": "float"
        },
        {
         "name": "exkill_atrisk_prop38",
         "rawType": "float64",
         "type": "float"
        },
        {
         "name": "exkill_atrisk_count39",
         "rawType": "float64",
         "type": "float"
        },
        {
         "name": "exkill_atrisk_prop39",
         "rawType": "float64",
         "type": "float"
        },
        {
         "name": "exkill_atrisk_count40",
         "rawType": "float64",
         "type": "float"
        },
        {
         "name": "exkill_atrisk_prop40",
         "rawType": "float64",
         "type": "float"
        },
        {
         "name": "exkill_atrisk_count41",
         "rawType": "float64",
         "type": "float"
        },
        {
         "name": "exkill_atrisk_prop41",
         "rawType": "float64",
         "type": "float"
        },
        {
         "name": "dpex_total_atrisk_resp",
         "rawType": "int64",
         "type": "integer"
        },
        {
         "name": "dpex_atrisk_count1",
         "rawType": "int64",
         "type": "integer"
        },
        {
         "name": "dpex_atrisk_prop1",
         "rawType": "float64",
         "type": "float"
        },
        {
         "name": "dpex_atrisk_count2",
         "rawType": "int64",
         "type": "integer"
        },
        {
         "name": "dpex_atrisk_prop2",
         "rawType": "float64",
         "type": "float"
        },
        {
         "name": "dpex_atrisk_count3",
         "rawType": "int64",
         "type": "integer"
        },
        {
         "name": "dpex_atrisk_prop3",
         "rawType": "float64",
         "type": "float"
        },
        {
         "name": "dpex_atrisk_count4",
         "rawType": "int64",
         "type": "integer"
        },
        {
         "name": "dpex_atrisk_prop4",
         "rawType": "float64",
         "type": "float"
        },
        {
         "name": "dpex_atrisk_count5",
         "rawType": "int64",
         "type": "integer"
        },
        {
         "name": "dpex_atrisk_prop5",
         "rawType": "float64",
         "type": "float"
        },
        {
         "name": "dpex_atrisk_count6",
         "rawType": "int64",
         "type": "integer"
        },
        {
         "name": "dpex_atrisk_prop6",
         "rawType": "float64",
         "type": "float"
        },
        {
         "name": "dpex_atrisk_count7",
         "rawType": "int64",
         "type": "integer"
        },
        {
         "name": "dpex_atrisk_prop7",
         "rawType": "float64",
         "type": "float"
        },
        {
         "name": "dpex_atrisk_count8",
         "rawType": "int64",
         "type": "integer"
        },
        {
         "name": "dpex_atrisk_prop8",
         "rawType": "float64",
         "type": "float"
        },
        {
         "name": "dpex_atrisk_count9",
         "rawType": "int64",
         "type": "integer"
        },
        {
         "name": "dpex_atrisk_prop9",
         "rawType": "float64",
         "type": "float"
        },
        {
         "name": "dpex_atrisk_count10",
         "rawType": "int64",
         "type": "integer"
        },
        {
         "name": "dpex_atrisk_prop10",
         "rawType": "float64",
         "type": "float"
        },
        {
         "name": "dpex_atrisk_count11",
         "rawType": "int64",
         "type": "integer"
        },
        {
         "name": "dpex_atrisk_prop11",
         "rawType": "float64",
         "type": "float"
        },
        {
         "name": "dpex_atrisk_count12",
         "rawType": "int64",
         "type": "integer"
        },
        {
         "name": "dpex_atrisk_prop12",
         "rawType": "float64",
         "type": "float"
        },
        {
         "name": "dpex_atrisk_count13",
         "rawType": "int64",
         "type": "integer"
        },
        {
         "name": "dpex_atrisk_prop13",
         "rawType": "float64",
         "type": "float"
        },
        {
         "name": "dpex_atrisk_count14",
         "rawType": "int64",
         "type": "integer"
        },
        {
         "name": "dpex_atrisk_prop14",
         "rawType": "float64",
         "type": "float"
        },
        {
         "name": "dpex_atrisk_count15",
         "rawType": "int64",
         "type": "integer"
        },
        {
         "name": "dpex_atrisk_prop15",
         "rawType": "float64",
         "type": "float"
        },
        {
         "name": "dpex_atrisk_count16",
         "rawType": "int64",
         "type": "integer"
        },
        {
         "name": "dpex_atrisk_prop16",
         "rawType": "float64",
         "type": "float"
        },
        {
         "name": "dpex_atrisk_count17",
         "rawType": "int64",
         "type": "integer"
        },
        {
         "name": "dpex_atrisk_prop17",
         "rawType": "float64",
         "type": "float"
        },
        {
         "name": "dpex_atrisk_count18",
         "rawType": "int64",
         "type": "integer"
        },
        {
         "name": "dpex_atrisk_prop18",
         "rawType": "float64",
         "type": "float"
        },
        {
         "name": "dpex_atrisk_count19",
         "rawType": "int64",
         "type": "integer"
        },
        {
         "name": "dpex_atrisk_prop19",
         "rawType": "float64",
         "type": "float"
        },
        {
         "name": "dpex_atrisk_count20",
         "rawType": "int64",
         "type": "integer"
        },
        {
         "name": "dpex_atrisk_prop20",
         "rawType": "float64",
         "type": "float"
        },
        {
         "name": "dpex_atrisk_count21",
         "rawType": "int64",
         "type": "integer"
        },
        {
         "name": "dpex_atrisk_prop21",
         "rawType": "float64",
         "type": "float"
        },
        {
         "name": "dpex_atrisk_count22",
         "rawType": "int64",
         "type": "integer"
        },
        {
         "name": "dpex_atrisk_prop22",
         "rawType": "float64",
         "type": "float"
        },
        {
         "name": "dpex_atrisk_count23",
         "rawType": "int64",
         "type": "integer"
        },
        {
         "name": "dpex_atrisk_prop23",
         "rawType": "float64",
         "type": "float"
        },
        {
         "name": "dpex_atrisk_count24",
         "rawType": "int64",
         "type": "integer"
        },
        {
         "name": "dpex_atrisk_prop24",
         "rawType": "float64",
         "type": "float"
        },
        {
         "name": "dpex_atrisk_count25",
         "rawType": "int64",
         "type": "integer"
        },
        {
         "name": "dpex_atrisk_prop25",
         "rawType": "float64",
         "type": "float"
        },
        {
         "name": "dpex_atrisk_count26",
         "rawType": "int64",
         "type": "integer"
        },
        {
         "name": "dpex_atrisk_prop26",
         "rawType": "float64",
         "type": "float"
        },
        {
         "name": "dpex_atrisk_count27",
         "rawType": "int64",
         "type": "integer"
        },
        {
         "name": "dpex_atrisk_prop27",
         "rawType": "float64",
         "type": "float"
        },
        {
         "name": "dpex_atrisk_count28",
         "rawType": "int64",
         "type": "integer"
        },
        {
         "name": "dpex_atrisk_prop28",
         "rawType": "float64",
         "type": "float"
        },
        {
         "name": "dpex_atrisk_count29",
         "rawType": "int64",
         "type": "integer"
        },
        {
         "name": "dpex_atrisk_prop29",
         "rawType": "float64",
         "type": "float"
        },
        {
         "name": "dpex_atrisk_count30",
         "rawType": "int64",
         "type": "integer"
        },
        {
         "name": "dpex_atrisk_prop30",
         "rawType": "float64",
         "type": "float"
        },
        {
         "name": "dpex_atrisk_count31",
         "rawType": "int64",
         "type": "integer"
        },
        {
         "name": "dpex_atrisk_prop31",
         "rawType": "float64",
         "type": "float"
        },
        {
         "name": "dpex_atrisk_count32",
         "rawType": "float64",
         "type": "float"
        },
        {
         "name": "dpex_atrisk_prop32",
         "rawType": "float64",
         "type": "float"
        },
        {
         "name": "dpex_atrisk_count33",
         "rawType": "float64",
         "type": "float"
        },
        {
         "name": "dpex_atrisk_prop33",
         "rawType": "float64",
         "type": "float"
        },
        {
         "name": "dpex_atrisk_count34",
         "rawType": "float64",
         "type": "float"
        },
        {
         "name": "dpex_atrisk_prop34",
         "rawType": "float64",
         "type": "float"
        },
        {
         "name": "dpex_atrisk_count35",
         "rawType": "float64",
         "type": "float"
        },
        {
         "name": "dpex_atrisk_prop35",
         "rawType": "float64",
         "type": "float"
        },
        {
         "name": "dpex_atrisk_count36",
         "rawType": "float64",
         "type": "float"
        },
        {
         "name": "dpex_atrisk_prop36",
         "rawType": "float64",
         "type": "float"
        },
        {
         "name": "dpex_atrisk_count37",
         "rawType": "float64",
         "type": "float"
        },
        {
         "name": "dpex_atrisk_prop37",
         "rawType": "float64",
         "type": "float"
        },
        {
         "name": "dpex_atrisk_count38",
         "rawType": "float64",
         "type": "float"
        },
        {
         "name": "dpex_atrisk_prop38",
         "rawType": "float64",
         "type": "float"
        },
        {
         "name": "dpex_atrisk_count39",
         "rawType": "float64",
         "type": "float"
        },
        {
         "name": "dpex_atrisk_prop39",
         "rawType": "float64",
         "type": "float"
        },
        {
         "name": "dpex_atrisk_count40",
         "rawType": "float64",
         "type": "float"
        },
        {
         "name": "dpex_atrisk_prop40",
         "rawType": "float64",
         "type": "float"
        },
        {
         "name": "dpex_atrisk_count41",
         "rawType": "float64",
         "type": "float"
        },
        {
         "name": "dpex_atrisk_prop41",
         "rawType": "float64",
         "type": "float"
        },
        {
         "name": "disap_total_atrisk_resp",
         "rawType": "float64",
         "type": "float"
        },
        {
         "name": "disap_atrisk_count1",
         "rawType": "float64",
         "type": "float"
        },
        {
         "name": "disap_atrisk_prop1",
         "rawType": "float64",
         "type": "float"
        },
        {
         "name": "disap_atrisk_count2",
         "rawType": "float64",
         "type": "float"
        },
        {
         "name": "disap_atrisk_prop2",
         "rawType": "float64",
         "type": "float"
        },
        {
         "name": "disap_atrisk_count3",
         "rawType": "float64",
         "type": "float"
        },
        {
         "name": "disap_atrisk_prop3",
         "rawType": "float64",
         "type": "float"
        },
        {
         "name": "disap_atrisk_count4",
         "rawType": "float64",
         "type": "float"
        },
        {
         "name": "disap_atrisk_prop4",
         "rawType": "float64",
         "type": "float"
        },
        {
         "name": "disap_atrisk_count5",
         "rawType": "float64",
         "type": "float"
        },
        {
         "name": "disap_atrisk_prop5",
         "rawType": "float64",
         "type": "float"
        },
        {
         "name": "disap_atrisk_count6",
         "rawType": "float64",
         "type": "float"
        },
        {
         "name": "disap_atrisk_prop6",
         "rawType": "float64",
         "type": "float"
        },
        {
         "name": "disap_atrisk_count7",
         "rawType": "float64",
         "type": "float"
        },
        {
         "name": "disap_atrisk_prop7",
         "rawType": "float64",
         "type": "float"
        },
        {
         "name": "disap_atrisk_count8",
         "rawType": "float64",
         "type": "float"
        },
        {
         "name": "disap_atrisk_prop8",
         "rawType": "float64",
         "type": "float"
        },
        {
         "name": "disap_atrisk_count9",
         "rawType": "float64",
         "type": "float"
        },
        {
         "name": "disap_atrisk_prop9",
         "rawType": "float64",
         "type": "float"
        },
        {
         "name": "disap_atrisk_count10",
         "rawType": "float64",
         "type": "float"
        },
        {
         "name": "disap_atrisk_prop10",
         "rawType": "float64",
         "type": "float"
        },
        {
         "name": "disap_atrisk_count11",
         "rawType": "float64",
         "type": "float"
        },
        {
         "name": "disap_atrisk_prop11",
         "rawType": "float64",
         "type": "float"
        },
        {
         "name": "disap_atrisk_count12",
         "rawType": "float64",
         "type": "float"
        },
        {
         "name": "disap_atrisk_prop12",
         "rawType": "float64",
         "type": "float"
        },
        {
         "name": "disap_atrisk_count13",
         "rawType": "float64",
         "type": "float"
        },
        {
         "name": "disap_atrisk_prop13",
         "rawType": "float64",
         "type": "float"
        },
        {
         "name": "disap_atrisk_count14",
         "rawType": "float64",
         "type": "float"
        },
        {
         "name": "disap_atrisk_prop14",
         "rawType": "float64",
         "type": "float"
        },
        {
         "name": "disap_atrisk_count15",
         "rawType": "float64",
         "type": "float"
        },
        {
         "name": "disap_atrisk_prop15",
         "rawType": "float64",
         "type": "float"
        },
        {
         "name": "disap_atrisk_count16",
         "rawType": "float64",
         "type": "float"
        },
        {
         "name": "disap_atrisk_prop16",
         "rawType": "float64",
         "type": "float"
        },
        {
         "name": "disap_atrisk_count17",
         "rawType": "float64",
         "type": "float"
        },
        {
         "name": "disap_atrisk_prop17",
         "rawType": "float64",
         "type": "float"
        },
        {
         "name": "disap_atrisk_count18",
         "rawType": "float64",
         "type": "float"
        },
        {
         "name": "disap_atrisk_prop18",
         "rawType": "float64",
         "type": "float"
        },
        {
         "name": "disap_atrisk_count19",
         "rawType": "float64",
         "type": "float"
        },
        {
         "name": "disap_atrisk_prop19",
         "rawType": "float64",
         "type": "float"
        },
        {
         "name": "disap_atrisk_count20",
         "rawType": "float64",
         "type": "float"
        },
        {
         "name": "disap_atrisk_prop20",
         "rawType": "float64",
         "type": "float"
        },
        {
         "name": "disap_atrisk_count21",
         "rawType": "float64",
         "type": "float"
        },
        {
         "name": "disap_atrisk_prop21",
         "rawType": "float64",
         "type": "float"
        },
        {
         "name": "disap_atrisk_count22",
         "rawType": "float64",
         "type": "float"
        },
        {
         "name": "disap_atrisk_prop22",
         "rawType": "float64",
         "type": "float"
        },
        {
         "name": "disap_atrisk_count23",
         "rawType": "float64",
         "type": "float"
        },
        {
         "name": "disap_atrisk_prop23",
         "rawType": "float64",
         "type": "float"
        },
        {
         "name": "disap_atrisk_count24",
         "rawType": "float64",
         "type": "float"
        },
        {
         "name": "disap_atrisk_prop24",
         "rawType": "float64",
         "type": "float"
        },
        {
         "name": "disap_atrisk_count25",
         "rawType": "float64",
         "type": "float"
        },
        {
         "name": "disap_atrisk_prop25",
         "rawType": "float64",
         "type": "float"
        },
        {
         "name": "disap_atrisk_count26",
         "rawType": "float64",
         "type": "float"
        },
        {
         "name": "disap_atrisk_prop26",
         "rawType": "float64",
         "type": "float"
        },
        {
         "name": "disap_atrisk_count27",
         "rawType": "float64",
         "type": "float"
        },
        {
         "name": "disap_atrisk_prop27",
         "rawType": "float64",
         "type": "float"
        },
        {
         "name": "disap_atrisk_count28",
         "rawType": "float64",
         "type": "float"
        },
        {
         "name": "disap_atrisk_prop28",
         "rawType": "float64",
         "type": "float"
        },
        {
         "name": "disap_atrisk_count29",
         "rawType": "float64",
         "type": "float"
        },
        {
         "name": "disap_atrisk_prop29",
         "rawType": "float64",
         "type": "float"
        },
        {
         "name": "disap_atrisk_count30",
         "rawType": "float64",
         "type": "float"
        },
        {
         "name": "disap_atrisk_prop30",
         "rawType": "float64",
         "type": "float"
        },
        {
         "name": "disap_atrisk_count31",
         "rawType": "float64",
         "type": "float"
        },
        {
         "name": "disap_atrisk_prop31",
         "rawType": "float64",
         "type": "float"
        },
        {
         "name": "disap_atrisk_count32",
         "rawType": "float64",
         "type": "float"
        },
        {
         "name": "disap_atrisk_prop32",
         "rawType": "float64",
         "type": "float"
        },
        {
         "name": "disap_atrisk_count33",
         "rawType": "float64",
         "type": "float"
        },
        {
         "name": "disap_atrisk_prop33",
         "rawType": "float64",
         "type": "float"
        },
        {
         "name": "disap_atrisk_count34",
         "rawType": "float64",
         "type": "float"
        },
        {
         "name": "disap_atrisk_prop34",
         "rawType": "float64",
         "type": "float"
        },
        {
         "name": "disap_atrisk_count35",
         "rawType": "float64",
         "type": "float"
        },
        {
         "name": "disap_atrisk_prop35",
         "rawType": "float64",
         "type": "float"
        },
        {
         "name": "disap_atrisk_count36",
         "rawType": "float64",
         "type": "float"
        },
        {
         "name": "disap_atrisk_prop36",
         "rawType": "float64",
         "type": "float"
        },
        {
         "name": "disap_atrisk_count37",
         "rawType": "float64",
         "type": "float"
        },
        {
         "name": "disap_atrisk_prop37",
         "rawType": "float64",
         "type": "float"
        },
        {
         "name": "disap_atrisk_count38",
         "rawType": "float64",
         "type": "float"
        },
        {
         "name": "disap_atrisk_prop38",
         "rawType": "float64",
         "type": "float"
        },
        {
         "name": "disap_atrisk_count39",
         "rawType": "float64",
         "type": "float"
        },
        {
         "name": "disap_atrisk_prop39",
         "rawType": "float64",
         "type": "float"
        },
        {
         "name": "disap_atrisk_count40",
         "rawType": "float64",
         "type": "float"
        },
        {
         "name": "disap_atrisk_prop40",
         "rawType": "float64",
         "type": "float"
        },
        {
         "name": "disap_atrisk_count41",
         "rawType": "float64",
         "type": "float"
        },
        {
         "name": "disap_atrisk_prop41",
         "rawType": "float64",
         "type": "float"
        },
        {
         "name": "express_total_atrisk_resp",
         "rawType": "float64",
         "type": "float"
        },
        {
         "name": "express_atrisk_count1",
         "rawType": "float64",
         "type": "float"
        },
        {
         "name": "express_atrisk_prop1",
         "rawType": "float64",
         "type": "float"
        },
        {
         "name": "express_atrisk_count2",
         "rawType": "float64",
         "type": "float"
        },
        {
         "name": "express_atrisk_prop2",
         "rawType": "float64",
         "type": "float"
        },
        {
         "name": "express_atrisk_count3",
         "rawType": "float64",
         "type": "float"
        },
        {
         "name": "express_atrisk_prop3",
         "rawType": "float64",
         "type": "float"
        },
        {
         "name": "express_atrisk_count4",
         "rawType": "float64",
         "type": "float"
        },
        {
         "name": "express_atrisk_prop4",
         "rawType": "float64",
         "type": "float"
        },
        {
         "name": "express_atrisk_count5",
         "rawType": "float64",
         "type": "float"
        },
        {
         "name": "express_atrisk_prop5",
         "rawType": "float64",
         "type": "float"
        },
        {
         "name": "express_atrisk_count6",
         "rawType": "float64",
         "type": "float"
        },
        {
         "name": "express_atrisk_prop6",
         "rawType": "float64",
         "type": "float"
        },
        {
         "name": "express_atrisk_count7",
         "rawType": "float64",
         "type": "float"
        },
        {
         "name": "express_atrisk_prop7",
         "rawType": "float64",
         "type": "float"
        },
        {
         "name": "express_atrisk_count8",
         "rawType": "float64",
         "type": "float"
        },
        {
         "name": "express_atrisk_prop8",
         "rawType": "float64",
         "type": "float"
        },
        {
         "name": "express_atrisk_count9",
         "rawType": "float64",
         "type": "float"
        },
        {
         "name": "express_atrisk_prop9",
         "rawType": "float64",
         "type": "float"
        },
        {
         "name": "express_atrisk_count10",
         "rawType": "float64",
         "type": "float"
        },
        {
         "name": "express_atrisk_prop10",
         "rawType": "float64",
         "type": "float"
        },
        {
         "name": "express_atrisk_count11",
         "rawType": "float64",
         "type": "float"
        },
        {
         "name": "express_atrisk_prop11",
         "rawType": "float64",
         "type": "float"
        },
        {
         "name": "express_atrisk_count12",
         "rawType": "float64",
         "type": "float"
        },
        {
         "name": "express_atrisk_prop12",
         "rawType": "float64",
         "type": "float"
        },
        {
         "name": "express_atrisk_count13",
         "rawType": "float64",
         "type": "float"
        },
        {
         "name": "express_atrisk_prop13",
         "rawType": "float64",
         "type": "float"
        },
        {
         "name": "express_atrisk_count14",
         "rawType": "float64",
         "type": "float"
        },
        {
         "name": "express_atrisk_prop14",
         "rawType": "float64",
         "type": "float"
        },
        {
         "name": "express_atrisk_count15",
         "rawType": "float64",
         "type": "float"
        },
        {
         "name": "express_atrisk_prop15",
         "rawType": "float64",
         "type": "float"
        },
        {
         "name": "express_atrisk_count16",
         "rawType": "float64",
         "type": "float"
        },
        {
         "name": "express_atrisk_prop16",
         "rawType": "float64",
         "type": "float"
        },
        {
         "name": "express_atrisk_count17",
         "rawType": "float64",
         "type": "float"
        },
        {
         "name": "express_atrisk_prop17",
         "rawType": "float64",
         "type": "float"
        },
        {
         "name": "express_atrisk_count18",
         "rawType": "float64",
         "type": "float"
        },
        {
         "name": "express_atrisk_prop18",
         "rawType": "float64",
         "type": "float"
        },
        {
         "name": "express_atrisk_count19",
         "rawType": "float64",
         "type": "float"
        },
        {
         "name": "express_atrisk_prop19",
         "rawType": "float64",
         "type": "float"
        },
        {
         "name": "express_atrisk_count20",
         "rawType": "float64",
         "type": "float"
        },
        {
         "name": "express_atrisk_prop20",
         "rawType": "float64",
         "type": "float"
        },
        {
         "name": "express_atrisk_count21",
         "rawType": "float64",
         "type": "float"
        },
        {
         "name": "express_atrisk_prop21",
         "rawType": "float64",
         "type": "float"
        },
        {
         "name": "express_atrisk_count22",
         "rawType": "float64",
         "type": "float"
        },
        {
         "name": "express_atrisk_prop22",
         "rawType": "float64",
         "type": "float"
        },
        {
         "name": "express_atrisk_count23",
         "rawType": "float64",
         "type": "float"
        },
        {
         "name": "express_atrisk_prop23",
         "rawType": "float64",
         "type": "float"
        },
        {
         "name": "express_atrisk_count24",
         "rawType": "float64",
         "type": "float"
        },
        {
         "name": "express_atrisk_prop24",
         "rawType": "float64",
         "type": "float"
        },
        {
         "name": "express_atrisk_count25",
         "rawType": "float64",
         "type": "float"
        },
        {
         "name": "express_atrisk_prop25",
         "rawType": "float64",
         "type": "float"
        },
        {
         "name": "express_atrisk_count26",
         "rawType": "float64",
         "type": "float"
        },
        {
         "name": "express_atrisk_prop26",
         "rawType": "float64",
         "type": "float"
        },
        {
         "name": "express_atrisk_count27",
         "rawType": "float64",
         "type": "float"
        },
        {
         "name": "express_atrisk_prop27",
         "rawType": "float64",
         "type": "float"
        },
        {
         "name": "express_atrisk_count28",
         "rawType": "float64",
         "type": "float"
        },
        {
         "name": "express_atrisk_prop28",
         "rawType": "float64",
         "type": "float"
        },
        {
         "name": "express_atrisk_count29",
         "rawType": "float64",
         "type": "float"
        },
        {
         "name": "express_atrisk_prop29",
         "rawType": "float64",
         "type": "float"
        },
        {
         "name": "express_atrisk_count30",
         "rawType": "float64",
         "type": "float"
        },
        {
         "name": "express_atrisk_prop30",
         "rawType": "float64",
         "type": "float"
        },
        {
         "name": "express_atrisk_count31",
         "rawType": "float64",
         "type": "float"
        },
        {
         "name": "express_atrisk_prop31",
         "rawType": "float64",
         "type": "float"
        },
        {
         "name": "express_atrisk_count32",
         "rawType": "float64",
         "type": "float"
        },
        {
         "name": "express_atrisk_prop32",
         "rawType": "float64",
         "type": "float"
        },
        {
         "name": "express_atrisk_count33",
         "rawType": "float64",
         "type": "float"
        },
        {
         "name": "express_atrisk_prop33",
         "rawType": "float64",
         "type": "float"
        },
        {
         "name": "express_atrisk_count34",
         "rawType": "float64",
         "type": "float"
        },
        {
         "name": "express_atrisk_prop34",
         "rawType": "float64",
         "type": "float"
        },
        {
         "name": "express_atrisk_count35",
         "rawType": "float64",
         "type": "float"
        },
        {
         "name": "express_atrisk_prop35",
         "rawType": "float64",
         "type": "float"
        },
        {
         "name": "express_atrisk_count36",
         "rawType": "float64",
         "type": "float"
        },
        {
         "name": "express_atrisk_prop36",
         "rawType": "float64",
         "type": "float"
        },
        {
         "name": "express_atrisk_count37",
         "rawType": "float64",
         "type": "float"
        },
        {
         "name": "express_atrisk_prop37",
         "rawType": "float64",
         "type": "float"
        },
        {
         "name": "express_atrisk_count38",
         "rawType": "float64",
         "type": "float"
        },
        {
         "name": "express_atrisk_prop38",
         "rawType": "float64",
         "type": "float"
        },
        {
         "name": "express_atrisk_count39",
         "rawType": "float64",
         "type": "float"
        },
        {
         "name": "express_atrisk_prop39",
         "rawType": "float64",
         "type": "float"
        },
        {
         "name": "express_atrisk_count40",
         "rawType": "float64",
         "type": "float"
        },
        {
         "name": "express_atrisk_prop40",
         "rawType": "float64",
         "type": "float"
        },
        {
         "name": "express_atrisk_count41",
         "rawType": "float64",
         "type": "float"
        },
        {
         "name": "express_atrisk_prop41",
         "rawType": "float64",
         "type": "float"
        },
        {
         "name": "assem_total_atrisk_resp",
         "rawType": "float64",
         "type": "float"
        },
        {
         "name": "assem_atrisk_count1",
         "rawType": "float64",
         "type": "float"
        },
        {
         "name": "assem_atrisk_prop1",
         "rawType": "float64",
         "type": "float"
        },
        {
         "name": "assem_atrisk_count2",
         "rawType": "float64",
         "type": "float"
        },
        {
         "name": "assem_atrisk_prop2",
         "rawType": "float64",
         "type": "float"
        },
        {
         "name": "assem_atrisk_count3",
         "rawType": "float64",
         "type": "float"
        },
        {
         "name": "assem_atrisk_prop3",
         "rawType": "float64",
         "type": "float"
        },
        {
         "name": "assem_atrisk_count4",
         "rawType": "float64",
         "type": "float"
        },
        {
         "name": "assem_atrisk_prop4",
         "rawType": "float64",
         "type": "float"
        },
        {
         "name": "assem_atrisk_count5",
         "rawType": "float64",
         "type": "float"
        },
        {
         "name": "assem_atrisk_prop5",
         "rawType": "float64",
         "type": "float"
        },
        {
         "name": "assem_atrisk_count6",
         "rawType": "float64",
         "type": "float"
        },
        {
         "name": "assem_atrisk_prop6",
         "rawType": "float64",
         "type": "float"
        },
        {
         "name": "assem_atrisk_count7",
         "rawType": "float64",
         "type": "float"
        },
        {
         "name": "assem_atrisk_prop7",
         "rawType": "float64",
         "type": "float"
        },
        {
         "name": "assem_atrisk_count8",
         "rawType": "float64",
         "type": "float"
        },
        {
         "name": "assem_atrisk_prop8",
         "rawType": "float64",
         "type": "float"
        },
        {
         "name": "assem_atrisk_count9",
         "rawType": "float64",
         "type": "float"
        },
        {
         "name": "assem_atrisk_prop9",
         "rawType": "float64",
         "type": "float"
        },
        {
         "name": "assem_atrisk_count10",
         "rawType": "float64",
         "type": "float"
        },
        {
         "name": "assem_atrisk_prop10",
         "rawType": "float64",
         "type": "float"
        },
        {
         "name": "assem_atrisk_count11",
         "rawType": "float64",
         "type": "float"
        },
        {
         "name": "assem_atrisk_prop11",
         "rawType": "float64",
         "type": "float"
        },
        {
         "name": "assem_atrisk_count12",
         "rawType": "float64",
         "type": "float"
        },
        {
         "name": "assem_atrisk_prop12",
         "rawType": "float64",
         "type": "float"
        },
        {
         "name": "assem_atrisk_count13",
         "rawType": "float64",
         "type": "float"
        },
        {
         "name": "assem_atrisk_prop13",
         "rawType": "float64",
         "type": "float"
        },
        {
         "name": "assem_atrisk_count14",
         "rawType": "float64",
         "type": "float"
        },
        {
         "name": "assem_atrisk_prop14",
         "rawType": "float64",
         "type": "float"
        },
        {
         "name": "assem_atrisk_count15",
         "rawType": "float64",
         "type": "float"
        },
        {
         "name": "assem_atrisk_prop15",
         "rawType": "float64",
         "type": "float"
        },
        {
         "name": "assem_atrisk_count16",
         "rawType": "float64",
         "type": "float"
        },
        {
         "name": "assem_atrisk_prop16",
         "rawType": "float64",
         "type": "float"
        },
        {
         "name": "assem_atrisk_count17",
         "rawType": "float64",
         "type": "float"
        },
        {
         "name": "assem_atrisk_prop17",
         "rawType": "float64",
         "type": "float"
        },
        {
         "name": "assem_atrisk_count18",
         "rawType": "float64",
         "type": "float"
        },
        {
         "name": "assem_atrisk_prop18",
         "rawType": "float64",
         "type": "float"
        },
        {
         "name": "assem_atrisk_count19",
         "rawType": "float64",
         "type": "float"
        },
        {
         "name": "assem_atrisk_prop19",
         "rawType": "float64",
         "type": "float"
        },
        {
         "name": "assem_atrisk_count20",
         "rawType": "float64",
         "type": "float"
        },
        {
         "name": "assem_atrisk_prop20",
         "rawType": "float64",
         "type": "float"
        },
        {
         "name": "assem_atrisk_count21",
         "rawType": "float64",
         "type": "float"
        },
        {
         "name": "assem_atrisk_prop21",
         "rawType": "float64",
         "type": "float"
        },
        {
         "name": "assem_atrisk_count22",
         "rawType": "float64",
         "type": "float"
        },
        {
         "name": "assem_atrisk_prop22",
         "rawType": "float64",
         "type": "float"
        },
        {
         "name": "assem_atrisk_count23",
         "rawType": "float64",
         "type": "float"
        },
        {
         "name": "assem_atrisk_prop23",
         "rawType": "float64",
         "type": "float"
        },
        {
         "name": "assem_atrisk_count24",
         "rawType": "float64",
         "type": "float"
        },
        {
         "name": "assem_atrisk_prop24",
         "rawType": "float64",
         "type": "float"
        },
        {
         "name": "assem_atrisk_count25",
         "rawType": "float64",
         "type": "float"
        },
        {
         "name": "assem_atrisk_prop25",
         "rawType": "float64",
         "type": "float"
        },
        {
         "name": "assem_atrisk_count26",
         "rawType": "float64",
         "type": "float"
        },
        {
         "name": "assem_atrisk_prop26",
         "rawType": "float64",
         "type": "float"
        },
        {
         "name": "assem_atrisk_count27",
         "rawType": "float64",
         "type": "float"
        },
        {
         "name": "assem_atrisk_prop27",
         "rawType": "float64",
         "type": "float"
        },
        {
         "name": "assem_atrisk_count28",
         "rawType": "float64",
         "type": "float"
        },
        {
         "name": "assem_atrisk_prop28",
         "rawType": "float64",
         "type": "float"
        },
        {
         "name": "assem_atrisk_count29",
         "rawType": "float64",
         "type": "float"
        },
        {
         "name": "assem_atrisk_prop29",
         "rawType": "float64",
         "type": "float"
        },
        {
         "name": "assem_atrisk_count30",
         "rawType": "float64",
         "type": "float"
        },
        {
         "name": "assem_atrisk_prop30",
         "rawType": "float64",
         "type": "float"
        },
        {
         "name": "assem_atrisk_count31",
         "rawType": "float64",
         "type": "float"
        },
        {
         "name": "assem_atrisk_prop31",
         "rawType": "float64",
         "type": "float"
        },
        {
         "name": "assem_atrisk_count32",
         "rawType": "float64",
         "type": "float"
        },
        {
         "name": "assem_atrisk_prop32",
         "rawType": "float64",
         "type": "float"
        },
        {
         "name": "assem_atrisk_count33",
         "rawType": "float64",
         "type": "float"
        },
        {
         "name": "assem_atrisk_prop33",
         "rawType": "float64",
         "type": "float"
        },
        {
         "name": "assem_atrisk_count34",
         "rawType": "float64",
         "type": "float"
        },
        {
         "name": "assem_atrisk_prop34",
         "rawType": "float64",
         "type": "float"
        },
        {
         "name": "assem_atrisk_count35",
         "rawType": "float64",
         "type": "float"
        },
        {
         "name": "assem_atrisk_prop35",
         "rawType": "float64",
         "type": "float"
        },
        {
         "name": "assem_atrisk_count36",
         "rawType": "float64",
         "type": "float"
        },
        {
         "name": "assem_atrisk_prop36",
         "rawType": "float64",
         "type": "float"
        },
        {
         "name": "assem_atrisk_count37",
         "rawType": "float64",
         "type": "float"
        },
        {
         "name": "assem_atrisk_prop37",
         "rawType": "float64",
         "type": "float"
        },
        {
         "name": "assem_atrisk_count38",
         "rawType": "float64",
         "type": "float"
        },
        {
         "name": "assem_atrisk_prop38",
         "rawType": "float64",
         "type": "float"
        },
        {
         "name": "assem_atrisk_count39",
         "rawType": "float64",
         "type": "float"
        },
        {
         "name": "assem_atrisk_prop39",
         "rawType": "float64",
         "type": "float"
        },
        {
         "name": "assem_atrisk_count40",
         "rawType": "float64",
         "type": "float"
        },
        {
         "name": "assem_atrisk_prop40",
         "rawType": "float64",
         "type": "float"
        },
        {
         "name": "assem_atrisk_count41",
         "rawType": "float64",
         "type": "float"
        },
        {
         "name": "assem_atrisk_prop41",
         "rawType": "float64",
         "type": "float"
        },
        {
         "name": "polpart_total_atrisk_resp",
         "rawType": "float64",
         "type": "float"
        },
        {
         "name": "polpart_atrisk_count1",
         "rawType": "float64",
         "type": "float"
        },
        {
         "name": "polpart_atrisk_prop1",
         "rawType": "float64",
         "type": "float"
        },
        {
         "name": "polpart_atrisk_count2",
         "rawType": "float64",
         "type": "float"
        },
        {
         "name": "polpart_atrisk_prop2",
         "rawType": "float64",
         "type": "float"
        },
        {
         "name": "polpart_atrisk_count3",
         "rawType": "float64",
         "type": "float"
        },
        {
         "name": "polpart_atrisk_prop3",
         "rawType": "float64",
         "type": "float"
        },
        {
         "name": "polpart_atrisk_count4",
         "rawType": "float64",
         "type": "float"
        },
        {
         "name": "polpart_atrisk_prop4",
         "rawType": "float64",
         "type": "float"
        },
        {
         "name": "polpart_atrisk_count5",
         "rawType": "float64",
         "type": "float"
        },
        {
         "name": "polpart_atrisk_prop5",
         "rawType": "float64",
         "type": "float"
        },
        {
         "name": "polpart_atrisk_count6",
         "rawType": "float64",
         "type": "float"
        },
        {
         "name": "polpart_atrisk_prop6",
         "rawType": "float64",
         "type": "float"
        },
        {
         "name": "polpart_atrisk_count7",
         "rawType": "float64",
         "type": "float"
        },
        {
         "name": "polpart_atrisk_prop7",
         "rawType": "float64",
         "type": "float"
        },
        {
         "name": "polpart_atrisk_count8",
         "rawType": "float64",
         "type": "float"
        },
        {
         "name": "polpart_atrisk_prop8",
         "rawType": "float64",
         "type": "float"
        },
        {
         "name": "polpart_atrisk_count9",
         "rawType": "float64",
         "type": "float"
        },
        {
         "name": "polpart_atrisk_prop9",
         "rawType": "float64",
         "type": "float"
        },
        {
         "name": "polpart_atrisk_count10",
         "rawType": "float64",
         "type": "float"
        },
        {
         "name": "polpart_atrisk_prop10",
         "rawType": "float64",
         "type": "float"
        },
        {
         "name": "polpart_atrisk_count11",
         "rawType": "float64",
         "type": "float"
        },
        {
         "name": "polpart_atrisk_prop11",
         "rawType": "float64",
         "type": "float"
        },
        {
         "name": "polpart_atrisk_count12",
         "rawType": "float64",
         "type": "float"
        },
        {
         "name": "polpart_atrisk_prop12",
         "rawType": "float64",
         "type": "float"
        },
        {
         "name": "polpart_atrisk_count13",
         "rawType": "float64",
         "type": "float"
        },
        {
         "name": "polpart_atrisk_prop13",
         "rawType": "float64",
         "type": "float"
        },
        {
         "name": "polpart_atrisk_count14",
         "rawType": "float64",
         "type": "float"
        },
        {
         "name": "polpart_atrisk_prop14",
         "rawType": "float64",
         "type": "float"
        },
        {
         "name": "polpart_atrisk_count15",
         "rawType": "float64",
         "type": "float"
        },
        {
         "name": "polpart_atrisk_prop15",
         "rawType": "float64",
         "type": "float"
        },
        {
         "name": "polpart_atrisk_count16",
         "rawType": "float64",
         "type": "float"
        },
        {
         "name": "polpart_atrisk_prop16",
         "rawType": "float64",
         "type": "float"
        },
        {
         "name": "polpart_atrisk_count17",
         "rawType": "float64",
         "type": "float"
        },
        {
         "name": "polpart_atrisk_prop17",
         "rawType": "float64",
         "type": "float"
        },
        {
         "name": "polpart_atrisk_count18",
         "rawType": "float64",
         "type": "float"
        },
        {
         "name": "polpart_atrisk_prop18",
         "rawType": "float64",
         "type": "float"
        },
        {
         "name": "polpart_atrisk_count19",
         "rawType": "float64",
         "type": "float"
        },
        {
         "name": "polpart_atrisk_prop19",
         "rawType": "float64",
         "type": "float"
        },
        {
         "name": "polpart_atrisk_count20",
         "rawType": "float64",
         "type": "float"
        },
        {
         "name": "polpart_atrisk_prop20",
         "rawType": "float64",
         "type": "float"
        },
        {
         "name": "polpart_atrisk_count21",
         "rawType": "float64",
         "type": "float"
        },
        {
         "name": "polpart_atrisk_prop21",
         "rawType": "float64",
         "type": "float"
        },
        {
         "name": "polpart_atrisk_count22",
         "rawType": "float64",
         "type": "float"
        },
        {
         "name": "polpart_atrisk_prop22",
         "rawType": "float64",
         "type": "float"
        },
        {
         "name": "polpart_atrisk_count23",
         "rawType": "float64",
         "type": "float"
        },
        {
         "name": "polpart_atrisk_prop23",
         "rawType": "float64",
         "type": "float"
        },
        {
         "name": "polpart_atrisk_count24",
         "rawType": "float64",
         "type": "float"
        },
        {
         "name": "polpart_atrisk_prop24",
         "rawType": "float64",
         "type": "float"
        },
        {
         "name": "polpart_atrisk_count25",
         "rawType": "float64",
         "type": "float"
        },
        {
         "name": "polpart_atrisk_prop25",
         "rawType": "float64",
         "type": "float"
        },
        {
         "name": "polpart_atrisk_count26",
         "rawType": "float64",
         "type": "float"
        },
        {
         "name": "polpart_atrisk_prop26",
         "rawType": "float64",
         "type": "float"
        },
        {
         "name": "polpart_atrisk_count27",
         "rawType": "float64",
         "type": "float"
        },
        {
         "name": "polpart_atrisk_prop27",
         "rawType": "float64",
         "type": "float"
        },
        {
         "name": "polpart_atrisk_count28",
         "rawType": "float64",
         "type": "float"
        },
        {
         "name": "polpart_atrisk_prop28",
         "rawType": "float64",
         "type": "float"
        },
        {
         "name": "polpart_atrisk_count29",
         "rawType": "float64",
         "type": "float"
        },
        {
         "name": "polpart_atrisk_prop29",
         "rawType": "float64",
         "type": "float"
        },
        {
         "name": "polpart_atrisk_count30",
         "rawType": "float64",
         "type": "float"
        },
        {
         "name": "polpart_atrisk_prop30",
         "rawType": "float64",
         "type": "float"
        },
        {
         "name": "polpart_atrisk_count31",
         "rawType": "float64",
         "type": "float"
        },
        {
         "name": "polpart_atrisk_prop31",
         "rawType": "float64",
         "type": "float"
        },
        {
         "name": "polpart_atrisk_count32",
         "rawType": "float64",
         "type": "float"
        },
        {
         "name": "polpart_atrisk_prop32",
         "rawType": "float64",
         "type": "float"
        },
        {
         "name": "polpart_atrisk_count33",
         "rawType": "float64",
         "type": "float"
        },
        {
         "name": "polpart_atrisk_prop33",
         "rawType": "float64",
         "type": "float"
        },
        {
         "name": "polpart_atrisk_count34",
         "rawType": "float64",
         "type": "float"
        },
        {
         "name": "polpart_atrisk_prop34",
         "rawType": "float64",
         "type": "float"
        },
        {
         "name": "polpart_atrisk_count35",
         "rawType": "float64",
         "type": "float"
        },
        {
         "name": "polpart_atrisk_prop35",
         "rawType": "float64",
         "type": "float"
        },
        {
         "name": "polpart_atrisk_count36",
         "rawType": "float64",
         "type": "float"
        },
        {
         "name": "polpart_atrisk_prop36",
         "rawType": "float64",
         "type": "float"
        },
        {
         "name": "polpart_atrisk_count37",
         "rawType": "float64",
         "type": "float"
        },
        {
         "name": "polpart_atrisk_prop37",
         "rawType": "float64",
         "type": "float"
        },
        {
         "name": "polpart_atrisk_count38",
         "rawType": "float64",
         "type": "float"
        },
        {
         "name": "polpart_atrisk_prop38",
         "rawType": "float64",
         "type": "float"
        },
        {
         "name": "polpart_atrisk_count39",
         "rawType": "float64",
         "type": "float"
        },
        {
         "name": "polpart_atrisk_prop39",
         "rawType": "float64",
         "type": "float"
        },
        {
         "name": "polpart_atrisk_count40",
         "rawType": "float64",
         "type": "float"
        },
        {
         "name": "polpart_atrisk_prop40",
         "rawType": "float64",
         "type": "float"
        },
        {
         "name": "polpart_atrisk_count41",
         "rawType": "float64",
         "type": "float"
        },
        {
         "name": "polpart_atrisk_prop41",
         "rawType": "float64",
         "type": "float"
        },
        {
         "name": "relig_total_atrisk_resp",
         "rawType": "float64",
         "type": "float"
        },
        {
         "name": "relig_atrisk_count1",
         "rawType": "float64",
         "type": "float"
        },
        {
         "name": "relig_atrisk_prop1",
         "rawType": "float64",
         "type": "float"
        },
        {
         "name": "relig_atrisk_count2",
         "rawType": "float64",
         "type": "float"
        },
        {
         "name": "relig_atrisk_prop2",
         "rawType": "float64",
         "type": "float"
        },
        {
         "name": "relig_atrisk_count3",
         "rawType": "float64",
         "type": "float"
        },
        {
         "name": "relig_atrisk_prop3",
         "rawType": "float64",
         "type": "float"
        },
        {
         "name": "relig_atrisk_count4",
         "rawType": "float64",
         "type": "float"
        },
        {
         "name": "relig_atrisk_prop4",
         "rawType": "float64",
         "type": "float"
        },
        {
         "name": "relig_atrisk_count5",
         "rawType": "float64",
         "type": "float"
        },
        {
         "name": "relig_atrisk_prop5",
         "rawType": "float64",
         "type": "float"
        },
        {
         "name": "relig_atrisk_count6",
         "rawType": "float64",
         "type": "float"
        },
        {
         "name": "relig_atrisk_prop6",
         "rawType": "float64",
         "type": "float"
        },
        {
         "name": "relig_atrisk_count7",
         "rawType": "float64",
         "type": "float"
        },
        {
         "name": "relig_atrisk_prop7",
         "rawType": "float64",
         "type": "float"
        },
        {
         "name": "relig_atrisk_count8",
         "rawType": "float64",
         "type": "float"
        },
        {
         "name": "relig_atrisk_prop8",
         "rawType": "float64",
         "type": "float"
        },
        {
         "name": "relig_atrisk_count9",
         "rawType": "float64",
         "type": "float"
        },
        {
         "name": "relig_atrisk_prop9",
         "rawType": "float64",
         "type": "float"
        },
        {
         "name": "relig_atrisk_count10",
         "rawType": "float64",
         "type": "float"
        },
        {
         "name": "relig_atrisk_prop10",
         "rawType": "float64",
         "type": "float"
        },
        {
         "name": "relig_atrisk_count11",
         "rawType": "float64",
         "type": "float"
        },
        {
         "name": "relig_atrisk_prop11",
         "rawType": "float64",
         "type": "float"
        },
        {
         "name": "relig_atrisk_count12",
         "rawType": "float64",
         "type": "float"
        },
        {
         "name": "relig_atrisk_prop12",
         "rawType": "float64",
         "type": "float"
        },
        {
         "name": "relig_atrisk_count13",
         "rawType": "float64",
         "type": "float"
        },
        {
         "name": "relig_atrisk_prop13",
         "rawType": "float64",
         "type": "float"
        },
        {
         "name": "relig_atrisk_count14",
         "rawType": "float64",
         "type": "float"
        },
        {
         "name": "relig_atrisk_prop14",
         "rawType": "float64",
         "type": "float"
        },
        {
         "name": "relig_atrisk_count15",
         "rawType": "float64",
         "type": "float"
        },
        {
         "name": "relig_atrisk_prop15",
         "rawType": "float64",
         "type": "float"
        },
        {
         "name": "relig_atrisk_count16",
         "rawType": "float64",
         "type": "float"
        },
        {
         "name": "relig_atrisk_prop16",
         "rawType": "float64",
         "type": "float"
        },
        {
         "name": "relig_atrisk_count17",
         "rawType": "float64",
         "type": "float"
        },
        {
         "name": "relig_atrisk_prop17",
         "rawType": "float64",
         "type": "float"
        },
        {
         "name": "relig_atrisk_count18",
         "rawType": "float64",
         "type": "float"
        },
        {
         "name": "relig_atrisk_prop18",
         "rawType": "float64",
         "type": "float"
        },
        {
         "name": "relig_atrisk_count19",
         "rawType": "float64",
         "type": "float"
        },
        {
         "name": "relig_atrisk_prop19",
         "rawType": "float64",
         "type": "float"
        },
        {
         "name": "relig_atrisk_count20",
         "rawType": "float64",
         "type": "float"
        },
        {
         "name": "relig_atrisk_prop20",
         "rawType": "float64",
         "type": "float"
        },
        {
         "name": "relig_atrisk_count21",
         "rawType": "float64",
         "type": "float"
        },
        {
         "name": "relig_atrisk_prop21",
         "rawType": "float64",
         "type": "float"
        },
        {
         "name": "relig_atrisk_count22",
         "rawType": "float64",
         "type": "float"
        },
        {
         "name": "relig_atrisk_prop22",
         "rawType": "float64",
         "type": "float"
        },
        {
         "name": "relig_atrisk_count23",
         "rawType": "float64",
         "type": "float"
        },
        {
         "name": "relig_atrisk_prop23",
         "rawType": "float64",
         "type": "float"
        },
        {
         "name": "relig_atrisk_count24",
         "rawType": "float64",
         "type": "float"
        },
        {
         "name": "relig_atrisk_prop24",
         "rawType": "float64",
         "type": "float"
        },
        {
         "name": "relig_atrisk_count25",
         "rawType": "float64",
         "type": "float"
        },
        {
         "name": "relig_atrisk_prop25",
         "rawType": "float64",
         "type": "float"
        },
        {
         "name": "relig_atrisk_count26",
         "rawType": "float64",
         "type": "float"
        },
        {
         "name": "relig_atrisk_prop26",
         "rawType": "float64",
         "type": "float"
        },
        {
         "name": "relig_atrisk_count27",
         "rawType": "float64",
         "type": "float"
        },
        {
         "name": "relig_atrisk_prop27",
         "rawType": "float64",
         "type": "float"
        },
        {
         "name": "relig_atrisk_count28",
         "rawType": "float64",
         "type": "float"
        },
        {
         "name": "relig_atrisk_prop28",
         "rawType": "float64",
         "type": "float"
        },
        {
         "name": "relig_atrisk_count29",
         "rawType": "float64",
         "type": "float"
        },
        {
         "name": "relig_atrisk_prop29",
         "rawType": "float64",
         "type": "float"
        },
        {
         "name": "relig_atrisk_count30",
         "rawType": "float64",
         "type": "float"
        },
        {
         "name": "relig_atrisk_prop30",
         "rawType": "float64",
         "type": "float"
        },
        {
         "name": "relig_atrisk_count31",
         "rawType": "float64",
         "type": "float"
        },
        {
         "name": "relig_atrisk_prop31",
         "rawType": "float64",
         "type": "float"
        },
        {
         "name": "relig_atrisk_count32",
         "rawType": "float64",
         "type": "float"
        },
        {
         "name": "relig_atrisk_prop32",
         "rawType": "float64",
         "type": "float"
        },
        {
         "name": "relig_atrisk_count33",
         "rawType": "float64",
         "type": "float"
        },
        {
         "name": "relig_atrisk_prop33",
         "rawType": "float64",
         "type": "float"
        },
        {
         "name": "relig_atrisk_count34",
         "rawType": "float64",
         "type": "float"
        },
        {
         "name": "relig_atrisk_prop34",
         "rawType": "float64",
         "type": "float"
        },
        {
         "name": "relig_atrisk_count35",
         "rawType": "float64",
         "type": "float"
        },
        {
         "name": "relig_atrisk_prop35",
         "rawType": "float64",
         "type": "float"
        },
        {
         "name": "relig_atrisk_count36",
         "rawType": "float64",
         "type": "float"
        },
        {
         "name": "relig_atrisk_prop36",
         "rawType": "float64",
         "type": "float"
        },
        {
         "name": "relig_atrisk_count37",
         "rawType": "float64",
         "type": "float"
        },
        {
         "name": "relig_atrisk_prop37",
         "rawType": "float64",
         "type": "float"
        },
        {
         "name": "relig_atrisk_count38",
         "rawType": "float64",
         "type": "float"
        },
        {
         "name": "relig_atrisk_prop38",
         "rawType": "float64",
         "type": "float"
        },
        {
         "name": "relig_atrisk_count39",
         "rawType": "float64",
         "type": "float"
        },
        {
         "name": "relig_atrisk_prop39",
         "rawType": "float64",
         "type": "float"
        },
        {
         "name": "relig_atrisk_count40",
         "rawType": "float64",
         "type": "float"
        },
        {
         "name": "relig_atrisk_prop40",
         "rawType": "float64",
         "type": "float"
        },
        {
         "name": "relig_atrisk_count41",
         "rawType": "float64",
         "type": "float"
        },
        {
         "name": "relig_atrisk_prop41",
         "rawType": "float64",
         "type": "float"
        },
        {
         "name": "job_total_atrisk_resp",
         "rawType": "float64",
         "type": "float"
        },
        {
         "name": "job_atrisk_count1",
         "rawType": "float64",
         "type": "float"
        },
        {
         "name": "job_atrisk_prop1",
         "rawType": "float64",
         "type": "float"
        },
        {
         "name": "job_atrisk_count2",
         "rawType": "float64",
         "type": "float"
        },
        {
         "name": "job_atrisk_prop2",
         "rawType": "float64",
         "type": "float"
        },
        {
         "name": "job_atrisk_count3",
         "rawType": "float64",
         "type": "float"
        },
        {
         "name": "job_atrisk_prop3",
         "rawType": "float64",
         "type": "float"
        },
        {
         "name": "job_atrisk_count4",
         "rawType": "float64",
         "type": "float"
        },
        {
         "name": "job_atrisk_prop4",
         "rawType": "float64",
         "type": "float"
        },
        {
         "name": "job_atrisk_count5",
         "rawType": "float64",
         "type": "float"
        },
        {
         "name": "job_atrisk_prop5",
         "rawType": "float64",
         "type": "float"
        },
        {
         "name": "job_atrisk_count6",
         "rawType": "float64",
         "type": "float"
        },
        {
         "name": "job_atrisk_prop6",
         "rawType": "float64",
         "type": "float"
        },
        {
         "name": "job_atrisk_count7",
         "rawType": "float64",
         "type": "float"
        },
        {
         "name": "job_atrisk_prop7",
         "rawType": "float64",
         "type": "float"
        },
        {
         "name": "job_atrisk_count8",
         "rawType": "float64",
         "type": "float"
        },
        {
         "name": "job_atrisk_prop8",
         "rawType": "float64",
         "type": "float"
        },
        {
         "name": "job_atrisk_count9",
         "rawType": "float64",
         "type": "float"
        },
        {
         "name": "job_atrisk_prop9",
         "rawType": "float64",
         "type": "float"
        },
        {
         "name": "job_atrisk_count10",
         "rawType": "float64",
         "type": "float"
        },
        {
         "name": "job_atrisk_prop10",
         "rawType": "float64",
         "type": "float"
        },
        {
         "name": "job_atrisk_count11",
         "rawType": "float64",
         "type": "float"
        },
        {
         "name": "job_atrisk_prop11",
         "rawType": "float64",
         "type": "float"
        },
        {
         "name": "job_atrisk_count12",
         "rawType": "float64",
         "type": "float"
        },
        {
         "name": "job_atrisk_prop12",
         "rawType": "float64",
         "type": "float"
        },
        {
         "name": "job_atrisk_count13",
         "rawType": "float64",
         "type": "float"
        },
        {
         "name": "job_atrisk_prop13",
         "rawType": "float64",
         "type": "float"
        },
        {
         "name": "job_atrisk_count14",
         "rawType": "float64",
         "type": "float"
        },
        {
         "name": "job_atrisk_prop14",
         "rawType": "float64",
         "type": "float"
        },
        {
         "name": "job_atrisk_count15",
         "rawType": "float64",
         "type": "float"
        },
        {
         "name": "job_atrisk_prop15",
         "rawType": "float64",
         "type": "float"
        },
        {
         "name": "job_atrisk_count16",
         "rawType": "float64",
         "type": "float"
        },
        {
         "name": "job_atrisk_prop16",
         "rawType": "float64",
         "type": "float"
        },
        {
         "name": "job_atrisk_count17",
         "rawType": "float64",
         "type": "float"
        },
        {
         "name": "job_atrisk_prop17",
         "rawType": "float64",
         "type": "float"
        },
        {
         "name": "job_atrisk_count18",
         "rawType": "float64",
         "type": "float"
        },
        {
         "name": "job_atrisk_prop18",
         "rawType": "float64",
         "type": "float"
        },
        {
         "name": "job_atrisk_count19",
         "rawType": "float64",
         "type": "float"
        },
        {
         "name": "job_atrisk_prop19",
         "rawType": "float64",
         "type": "float"
        },
        {
         "name": "job_atrisk_count20",
         "rawType": "float64",
         "type": "float"
        },
        {
         "name": "job_atrisk_prop20",
         "rawType": "float64",
         "type": "float"
        },
        {
         "name": "job_atrisk_count21",
         "rawType": "float64",
         "type": "float"
        },
        {
         "name": "job_atrisk_prop21",
         "rawType": "float64",
         "type": "float"
        },
        {
         "name": "job_atrisk_count22",
         "rawType": "float64",
         "type": "float"
        },
        {
         "name": "job_atrisk_prop22",
         "rawType": "float64",
         "type": "float"
        },
        {
         "name": "job_atrisk_count23",
         "rawType": "float64",
         "type": "float"
        },
        {
         "name": "job_atrisk_prop23",
         "rawType": "float64",
         "type": "float"
        },
        {
         "name": "job_atrisk_count24",
         "rawType": "float64",
         "type": "float"
        },
        {
         "name": "job_atrisk_prop24",
         "rawType": "float64",
         "type": "float"
        },
        {
         "name": "job_atrisk_count25",
         "rawType": "float64",
         "type": "float"
        },
        {
         "name": "job_atrisk_prop25",
         "rawType": "float64",
         "type": "float"
        },
        {
         "name": "job_atrisk_count26",
         "rawType": "float64",
         "type": "float"
        },
        {
         "name": "job_atrisk_prop26",
         "rawType": "float64",
         "type": "float"
        },
        {
         "name": "job_atrisk_count27",
         "rawType": "float64",
         "type": "float"
        },
        {
         "name": "job_atrisk_prop27",
         "rawType": "float64",
         "type": "float"
        },
        {
         "name": "job_atrisk_count28",
         "rawType": "float64",
         "type": "float"
        },
        {
         "name": "job_atrisk_prop28",
         "rawType": "float64",
         "type": "float"
        },
        {
         "name": "job_atrisk_count29",
         "rawType": "float64",
         "type": "float"
        },
        {
         "name": "job_atrisk_prop29",
         "rawType": "float64",
         "type": "float"
        },
        {
         "name": "job_atrisk_count30",
         "rawType": "float64",
         "type": "float"
        },
        {
         "name": "job_atrisk_prop30",
         "rawType": "float64",
         "type": "float"
        },
        {
         "name": "job_atrisk_count31",
         "rawType": "float64",
         "type": "float"
        },
        {
         "name": "job_atrisk_prop31",
         "rawType": "float64",
         "type": "float"
        },
        {
         "name": "jobcond_total_atrisk_resp",
         "rawType": "float64",
         "type": "float"
        },
        {
         "name": "jobcond_atrisk_count1",
         "rawType": "float64",
         "type": "float"
        },
        {
         "name": "jobcond_atrisk_prop1",
         "rawType": "float64",
         "type": "float"
        },
        {
         "name": "jobcond_atrisk_count2",
         "rawType": "float64",
         "type": "float"
        },
        {
         "name": "jobcond_atrisk_prop2",
         "rawType": "float64",
         "type": "float"
        },
        {
         "name": "jobcond_atrisk_count3",
         "rawType": "float64",
         "type": "float"
        },
        {
         "name": "jobcond_atrisk_prop3",
         "rawType": "float64",
         "type": "float"
        },
        {
         "name": "jobcond_atrisk_count4",
         "rawType": "float64",
         "type": "float"
        },
        {
         "name": "jobcond_atrisk_prop4",
         "rawType": "float64",
         "type": "float"
        },
        {
         "name": "jobcond_atrisk_count5",
         "rawType": "float64",
         "type": "float"
        },
        {
         "name": "jobcond_atrisk_prop5",
         "rawType": "float64",
         "type": "float"
        },
        {
         "name": "jobcond_atrisk_count6",
         "rawType": "float64",
         "type": "float"
        },
        {
         "name": "jobcond_atrisk_prop6",
         "rawType": "float64",
         "type": "float"
        },
        {
         "name": "jobcond_atrisk_count7",
         "rawType": "float64",
         "type": "float"
        },
        {
         "name": "jobcond_atrisk_prop7",
         "rawType": "float64",
         "type": "float"
        },
        {
         "name": "jobcond_atrisk_count8",
         "rawType": "float64",
         "type": "float"
        },
        {
         "name": "jobcond_atrisk_prop8",
         "rawType": "float64",
         "type": "float"
        },
        {
         "name": "jobcond_atrisk_count9",
         "rawType": "float64",
         "type": "float"
        },
        {
         "name": "jobcond_atrisk_prop9",
         "rawType": "float64",
         "type": "float"
        },
        {
         "name": "jobcond_atrisk_count10",
         "rawType": "float64",
         "type": "float"
        },
        {
         "name": "jobcond_atrisk_prop10",
         "rawType": "float64",
         "type": "float"
        },
        {
         "name": "jobcond_atrisk_count11",
         "rawType": "float64",
         "type": "float"
        },
        {
         "name": "jobcond_atrisk_prop11",
         "rawType": "float64",
         "type": "float"
        },
        {
         "name": "jobcond_atrisk_count12",
         "rawType": "float64",
         "type": "float"
        },
        {
         "name": "jobcond_atrisk_prop12",
         "rawType": "float64",
         "type": "float"
        },
        {
         "name": "jobcond_atrisk_count13",
         "rawType": "float64",
         "type": "float"
        },
        {
         "name": "jobcond_atrisk_prop13",
         "rawType": "float64",
         "type": "float"
        },
        {
         "name": "jobcond_atrisk_count14",
         "rawType": "float64",
         "type": "float"
        },
        {
         "name": "jobcond_atrisk_prop14",
         "rawType": "float64",
         "type": "float"
        },
        {
         "name": "jobcond_atrisk_count15",
         "rawType": "float64",
         "type": "float"
        },
        {
         "name": "jobcond_atrisk_prop15",
         "rawType": "float64",
         "type": "float"
        },
        {
         "name": "jobcond_atrisk_count16",
         "rawType": "float64",
         "type": "float"
        },
        {
         "name": "jobcond_atrisk_prop16",
         "rawType": "float64",
         "type": "float"
        },
        {
         "name": "jobcond_atrisk_count17",
         "rawType": "float64",
         "type": "float"
        },
        {
         "name": "jobcond_atrisk_prop17",
         "rawType": "float64",
         "type": "float"
        },
        {
         "name": "jobcond_atrisk_count18",
         "rawType": "float64",
         "type": "float"
        },
        {
         "name": "jobcond_atrisk_prop18",
         "rawType": "float64",
         "type": "float"
        },
        {
         "name": "jobcond_atrisk_count19",
         "rawType": "float64",
         "type": "float"
        },
        {
         "name": "jobcond_atrisk_prop19",
         "rawType": "float64",
         "type": "float"
        },
        {
         "name": "jobcond_atrisk_count20",
         "rawType": "float64",
         "type": "float"
        },
        {
         "name": "jobcond_atrisk_prop20",
         "rawType": "float64",
         "type": "float"
        },
        {
         "name": "jobcond_atrisk_count21",
         "rawType": "float64",
         "type": "float"
        },
        {
         "name": "jobcond_atrisk_prop21",
         "rawType": "float64",
         "type": "float"
        },
        {
         "name": "jobcond_atrisk_count22",
         "rawType": "float64",
         "type": "float"
        },
        {
         "name": "jobcond_atrisk_prop22",
         "rawType": "float64",
         "type": "float"
        },
        {
         "name": "jobcond_atrisk_count23",
         "rawType": "float64",
         "type": "float"
        },
        {
         "name": "jobcond_atrisk_prop23",
         "rawType": "float64",
         "type": "float"
        },
        {
         "name": "jobcond_atrisk_count24",
         "rawType": "float64",
         "type": "float"
        },
        {
         "name": "jobcond_atrisk_prop24",
         "rawType": "float64",
         "type": "float"
        },
        {
         "name": "jobcond_atrisk_count25",
         "rawType": "float64",
         "type": "float"
        },
        {
         "name": "jobcond_atrisk_prop25",
         "rawType": "float64",
         "type": "float"
        },
        {
         "name": "jobcond_atrisk_count26",
         "rawType": "float64",
         "type": "float"
        },
        {
         "name": "jobcond_atrisk_prop26",
         "rawType": "float64",
         "type": "float"
        },
        {
         "name": "jobcond_atrisk_count27",
         "rawType": "float64",
         "type": "float"
        },
        {
         "name": "jobcond_atrisk_prop27",
         "rawType": "float64",
         "type": "float"
        },
        {
         "name": "jobcond_atrisk_count28",
         "rawType": "float64",
         "type": "float"
        },
        {
         "name": "jobcond_atrisk_prop28",
         "rawType": "float64",
         "type": "float"
        },
        {
         "name": "jobcond_atrisk_count29",
         "rawType": "float64",
         "type": "float"
        },
        {
         "name": "jobcond_atrisk_prop29",
         "rawType": "float64",
         "type": "float"
        },
        {
         "name": "jobcond_atrisk_count30",
         "rawType": "float64",
         "type": "float"
        },
        {
         "name": "jobcond_atrisk_prop30",
         "rawType": "float64",
         "type": "float"
        },
        {
         "name": "jobcond_atrisk_count31",
         "rawType": "float64",
         "type": "float"
        },
        {
         "name": "jobcond_atrisk_prop31",
         "rawType": "float64",
         "type": "float"
        },
        {
         "name": "union_total_atrisk_resp",
         "rawType": "float64",
         "type": "float"
        },
        {
         "name": "union_atrisk_count1",
         "rawType": "float64",
         "type": "float"
        },
        {
         "name": "union_atrisk_prop1",
         "rawType": "float64",
         "type": "float"
        },
        {
         "name": "union_atrisk_count2",
         "rawType": "float64",
         "type": "float"
        },
        {
         "name": "union_atrisk_prop2",
         "rawType": "float64",
         "type": "float"
        },
        {
         "name": "union_atrisk_count3",
         "rawType": "float64",
         "type": "float"
        },
        {
         "name": "union_atrisk_prop3",
         "rawType": "float64",
         "type": "float"
        },
        {
         "name": "union_atrisk_count4",
         "rawType": "float64",
         "type": "float"
        },
        {
         "name": "union_atrisk_prop4",
         "rawType": "float64",
         "type": "float"
        },
        {
         "name": "union_atrisk_count5",
         "rawType": "float64",
         "type": "float"
        },
        {
         "name": "union_atrisk_prop5",
         "rawType": "float64",
         "type": "float"
        },
        {
         "name": "union_atrisk_count6",
         "rawType": "float64",
         "type": "float"
        },
        {
         "name": "union_atrisk_prop6",
         "rawType": "float64",
         "type": "float"
        },
        {
         "name": "union_atrisk_count7",
         "rawType": "float64",
         "type": "float"
        },
        {
         "name": "union_atrisk_prop7",
         "rawType": "float64",
         "type": "float"
        },
        {
         "name": "union_atrisk_count8",
         "rawType": "float64",
         "type": "float"
        },
        {
         "name": "union_atrisk_prop8",
         "rawType": "float64",
         "type": "float"
        },
        {
         "name": "union_atrisk_count9",
         "rawType": "float64",
         "type": "float"
        },
        {
         "name": "union_atrisk_prop9",
         "rawType": "float64",
         "type": "float"
        },
        {
         "name": "union_atrisk_count10",
         "rawType": "float64",
         "type": "float"
        },
        {
         "name": "union_atrisk_prop10",
         "rawType": "float64",
         "type": "float"
        },
        {
         "name": "union_atrisk_count11",
         "rawType": "float64",
         "type": "float"
        },
        {
         "name": "union_atrisk_prop11",
         "rawType": "float64",
         "type": "float"
        },
        {
         "name": "union_atrisk_count12",
         "rawType": "float64",
         "type": "float"
        },
        {
         "name": "union_atrisk_prop12",
         "rawType": "float64",
         "type": "float"
        },
        {
         "name": "union_atrisk_count13",
         "rawType": "float64",
         "type": "float"
        },
        {
         "name": "union_atrisk_prop13",
         "rawType": "float64",
         "type": "float"
        },
        {
         "name": "union_atrisk_count14",
         "rawType": "float64",
         "type": "float"
        },
        {
         "name": "union_atrisk_prop14",
         "rawType": "float64",
         "type": "float"
        },
        {
         "name": "union_atrisk_count15",
         "rawType": "float64",
         "type": "float"
        },
        {
         "name": "union_atrisk_prop15",
         "rawType": "float64",
         "type": "float"
        },
        {
         "name": "union_atrisk_count16",
         "rawType": "float64",
         "type": "float"
        },
        {
         "name": "union_atrisk_prop16",
         "rawType": "float64",
         "type": "float"
        },
        {
         "name": "union_atrisk_count17",
         "rawType": "float64",
         "type": "float"
        },
        {
         "name": "union_atrisk_prop17",
         "rawType": "float64",
         "type": "float"
        },
        {
         "name": "union_atrisk_count18",
         "rawType": "float64",
         "type": "float"
        },
        {
         "name": "union_atrisk_prop18",
         "rawType": "float64",
         "type": "float"
        },
        {
         "name": "union_atrisk_count19",
         "rawType": "float64",
         "type": "float"
        },
        {
         "name": "union_atrisk_prop19",
         "rawType": "float64",
         "type": "float"
        },
        {
         "name": "union_atrisk_count20",
         "rawType": "float64",
         "type": "float"
        },
        {
         "name": "union_atrisk_prop20",
         "rawType": "float64",
         "type": "float"
        },
        {
         "name": "union_atrisk_count21",
         "rawType": "float64",
         "type": "float"
        },
        {
         "name": "union_atrisk_prop21",
         "rawType": "float64",
         "type": "float"
        },
        {
         "name": "union_atrisk_count22",
         "rawType": "float64",
         "type": "float"
        },
        {
         "name": "union_atrisk_prop22",
         "rawType": "float64",
         "type": "float"
        },
        {
         "name": "union_atrisk_count23",
         "rawType": "float64",
         "type": "float"
        },
        {
         "name": "union_atrisk_prop23",
         "rawType": "float64",
         "type": "float"
        },
        {
         "name": "union_atrisk_count24",
         "rawType": "float64",
         "type": "float"
        },
        {
         "name": "union_atrisk_prop24",
         "rawType": "float64",
         "type": "float"
        },
        {
         "name": "union_atrisk_count25",
         "rawType": "float64",
         "type": "float"
        },
        {
         "name": "union_atrisk_prop25",
         "rawType": "float64",
         "type": "float"
        },
        {
         "name": "union_atrisk_count26",
         "rawType": "float64",
         "type": "float"
        },
        {
         "name": "union_atrisk_prop26",
         "rawType": "float64",
         "type": "float"
        },
        {
         "name": "union_atrisk_count27",
         "rawType": "float64",
         "type": "float"
        },
        {
         "name": "union_atrisk_prop27",
         "rawType": "float64",
         "type": "float"
        },
        {
         "name": "union_atrisk_count28",
         "rawType": "float64",
         "type": "float"
        },
        {
         "name": "union_atrisk_prop28",
         "rawType": "float64",
         "type": "float"
        },
        {
         "name": "union_atrisk_count29",
         "rawType": "float64",
         "type": "float"
        },
        {
         "name": "union_atrisk_prop29",
         "rawType": "float64",
         "type": "float"
        },
        {
         "name": "union_atrisk_count30",
         "rawType": "float64",
         "type": "float"
        },
        {
         "name": "union_atrisk_prop30",
         "rawType": "float64",
         "type": "float"
        },
        {
         "name": "union_atrisk_count31",
         "rawType": "float64",
         "type": "float"
        },
        {
         "name": "union_atrisk_prop31",
         "rawType": "float64",
         "type": "float"
        }
       ],
       "conversionMethod": "pd.DataFrame",
       "ref": "e2443c8b-d111-465d-be29-5fe7a7f02c31",
       "rows": [
        [
         "0",
         "Angola",
         "2018",
         "AGO2018",
         "AGO",
         "24.0",
         "540.0",
         "1",
         "11",
         "3",
         "0.27272728",
         "7",
         "0.63636363",
         "6",
         "0.54545456",
         "0",
         "0.0",
         "2",
         "0.18181819",
         "1",
         "0.090909094",
         "1",
         "0.090909094",
         "4",
         "0.36363637",
         "1",
         "0.090909094",
         "5",
         "0.45454547",
         "0",
         "0.0",
         "8",
         "0.72727275",
         "7",
         "0.63636363",
         "4",
         "0.36363637",
         "4",
         "0.36363637",
         "1",
         "0.090909094",
         "1",
         "0.090909094",
         "2",
         "0.18181819",
         "1",
         "0.090909094",
         "2",
         "0.18181819",
         "1",
         "0.090909094",
         "1",
         "0.090909094",
         "7",
         "0.63636363",
         "4",
         "0.36363637",
         "6",
         "0.54545456",
         "9",
         "0.81818181",
         "7",
         "0.63636363",
         "5",
         "0.45454547",
         "3",
         "0.27272728",
         "2",
         "0.18181819",
         "0",
         "0.0",
         null,
         null,
         null,
         null,
         null,
         null,
         null,
         null,
         null,
         null,
         null,
         null,
         null,
         null,
         null,
         null,
         null,
         null,
         null,
         null,
         "11",
         "3",
         "0.27272728",
         "5",
         "0.45454547",
         "2",
         "0.18181819",
         "1",
         "0.090909094",
         "2",
         "0.18181819",
         "2",
         "0.18181819",
         "1",
         "0.090909094",
         "3",
         "0.27272728",
         "1",
         "0.090909094",
         "7",
         "0.63636363",
         "0",
         "0.0",
         "8",
         "0.72727275",
         "3",
         "0.27272728",
         "5",
         "0.45454547",
         "3",
         "0.27272728",
         "2",
         "0.18181819",
         "0",
         "0.0",
         "3",
         "0.27272728",
         "2",
         "0.18181819",
         "3",
         "0.27272728",
         "2",
         "0.18181819",
         "2",
         "0.18181819",
         "5",
         "0.45454547",
         "4",
         "0.36363637",
         "3",
         "0.27272728",
         "7",
         "0.63636363",
         "3",
         "0.27272728",
         "4",
         "0.36363637",
         "0",
         "0.0",
         "0",
         "0.0",
         "0",
         "0.0",
         null,
         null,
         null,
         null,
         null,
         null,
         null,
         null,
         null,
         null,
         null,
         null,
         null,
         null,
         null,
         null,
         null,
         null,
         null,
         null,
         "11",
         "6",
         "0.54545456",
         "3",
         "0.27272728",
         "3",
         "0.27272728",
         "2",
         "0.18181819",
         "2",
         "0.18181819",
         "2",
         "0.18181819",
         "2",
         "0.18181819",
         "2",
         "0.18181819",
         "1",
         "0.090909094",
         "6",
         "0.54545456",
         "2",
         "0.18181819",
         "6",
         "0.54545456",
         "6",
         "0.54545456",
         "5",
         "0.45454547",
         "4",
         "0.36363637",
         "2",
         "0.18181819",
         "1",
         "0.090909094",
         "3",
         "0.27272728",
         "2",
         "0.18181819",
         "3",
         "0.27272728",
         "2",
         "0.18181819",
         "2",
         "0.18181819",
         "6",
         "0.54545456",
         "4",
         "0.36363637",
         "4",
         "0.36363637",
         "8",
         "0.72727275",
         "5",
         "0.45454547",
         "6",
         "0.54545456",
         "1",
         "0.090909094",
         "1",
         "0.090909094",
         "1",
         "0.090909094",
         null,
         null,
         null,
         null,
         null,
         null,
         null,
         null,
         null,
         null,
         null,
         null,
         null,
         null,
         null,
         null,
         null,
         null,
         null,
         null,
         "11",
         "2",
         "0.18181819",
         "5",
         "0.45454547",
         "3",
         "0.27272728",
         "1",
         "0.090909094",
         "1",
         "0.090909094",
         "1",
         "0.090909094",
         "1",
         "0.090909094",
         "4",
         "0.36363637",
         "1",
         "0.090909094",
         "4",
         "0.36363637",
         "0",
         "0.0",
         "5",
         "0.45454547",
         "8",
         "0.72727275",
         "7",
         "0.63636363",
         "3",
         "0.27272728",
         "2",
         "0.18181819",
         "1",
         "0.090909094",
         "2",
         "0.18181819",
         "2",
         "0.18181819",
         "3",
         "0.27272728",
         "2",
         "0.18181819",
         "2",
         "0.18181819",
         "4",
         "0.36363637",
         "5",
         "0.45454547",
         "4",
         "0.36363637",
         "9",
         "0.81818181",
         "7",
         "0.63636363",
         "7",
         "0.63636363",
         "2",
         "0.18181819",
         "1",
         "0.090909094",
         "1",
         "0.090909094",
         null,
         null,
         null,
         null,
         null,
         null,
         null,
         null,
         null,
         null,
         null,
         null,
         null,
         null,
         null,
         null,
         null,
         null,
         null,
         null,
         null,
         null,
         null,
         null,
         null,
         null,
         null,
         null,
         null,
         null,
         null,
         null,
         null,
         null,
         null,
         null,
         null,
         null,
         null,
         null,
         null,
         null,
         null,
         null,
         null,
         null,
         null,
         null,
         null,
         null,
         null,
         null,
         null,
         null,
         null,
         null,
         null,
         null,
         null,
         null,
         null,
         null,
         null,
         null,
         null,
         null,
         null,
         null,
         null,
         null,
         null,
         null,
         null,
         null,
         null,
         null,
         null,
         null,
         null,
         null,
         null,
         null,
         null,
         null,
         null,
         null,
         null,
         null,
         null,
         null,
         null,
         null,
         null,
         null,
         null,
         null,
         null,
         null,
         null,
         null,
         null,
         null,
         null,
         "13.0",
         "0.0",
         "0.0",
         "0.0",
         "0.0",
         "0.0",
         "0.0",
         "0.0",
         "0.0",
         "1.0",
         "0.07692308",
         "6.0",
         "0.46153846",
         "6.0",
         "0.46153846",
         "4.0",
         "0.30769232",
         "1.0",
         "0.07692308",
         "6.0",
         "0.46153846",
         "1.0",
         "0.07692308",
         "2.0",
         "0.15384616",
         "1.0",
         "0.07692308",
         "2.0",
         "0.15384616",
         "1.0",
         "0.07692308",
         "6.0",
         "0.46153846",
         "7.0",
         "0.53846157",
         "7.0",
         "0.53846157",
         "4.0",
         "0.30769232",
         "7.0",
         "0.53846157",
         "1.0",
         "0.07692308",
         "4.0",
         "0.30769232",
         "9.0",
         "0.69230771",
         "8.0",
         "0.61538464",
         "8.0",
         "0.61538464",
         "9.0",
         "0.69230771",
         "4.0",
         "0.30769232",
         "5.0",
         "0.38461539",
         "5.0",
         "0.38461539",
         "3.0",
         "0.23076923",
         "0.0",
         "0.0",
         null,
         null,
         null,
         null,
         null,
         null,
         null,
         null,
         null,
         null,
         null,
         null,
         null,
         null,
         null,
         null,
         null,
         null,
         null,
         null,
         "12.0",
         "0.0",
         "0.0",
         "0.0",
         "0.0",
         "0.0",
         "0.0",
         "0.0",
         "0.0",
         "0.0",
         "0.0",
         "5.0",
         "0.41666666",
         "3.0",
         "0.25",
         "3.0",
         "0.25",
         "1.0",
         "0.083333336",
         "6.0",
         "0.5",
         "1.0",
         "0.083333336",
         "0.0",
         "0.0",
         "0.0",
         "0.0",
         "0.0",
         "0.0",
         "0.0",
         "0.0",
         "6.0",
         "0.5",
         "5.0",
         "0.41666666",
         "7.0",
         "0.58333331",
         "2.0",
         "0.16666667",
         "9.0",
         "0.75",
         "4.0",
         "0.33333334",
         "5.0",
         "0.41666666",
         "5.0",
         "0.41666666",
         "7.0",
         "0.58333331",
         "8.0",
         "0.66666669",
         "6.0",
         "0.5",
         "1.0",
         "0.083333336",
         "4.0",
         "0.33333334",
         "3.0",
         "0.25",
         "2.0",
         "0.16666667",
         "0.0",
         "0.0",
         null,
         null,
         null,
         null,
         null,
         null,
         null,
         null,
         null,
         null,
         null,
         null,
         null,
         null,
         null,
         null,
         null,
         null,
         null,
         null,
         "12.0",
         "1.0",
         "0.083333336",
         "0.0",
         "0.0",
         "1.0",
         "0.083333336",
         "0.0",
         "0.0",
         "1.0",
         "0.083333336",
         "2.0",
         "0.16666667",
         "1.0",
         "0.083333336",
         "1.0",
         "0.083333336",
         "1.0",
         "0.083333336",
         "2.0",
         "0.16666667",
         "0.0",
         "0.0",
         "2.0",
         "0.16666667",
         "0.0",
         "0.0",
         "0.0",
         "0.0",
         "0.0",
         "0.0",
         "5.0",
         "0.41666666",
         "3.0",
         "0.25",
         "3.0",
         "0.25",
         "1.0",
         "0.083333336",
         "4.0",
         "0.33333334",
         "2.0",
         "0.16666667",
         "1.0",
         "0.083333336",
         "9.0",
         "0.75",
         "3.0",
         "0.25",
         "3.0",
         "0.25",
         "5.0",
         "0.41666666",
         "2.0",
         "0.16666667",
         "4.0",
         "0.33333334",
         "3.0",
         "0.25",
         "2.0",
         "0.16666667",
         "2.0",
         "0.16666667",
         null,
         null,
         null,
         null,
         null,
         null,
         null,
         null,
         null,
         null,
         null,
         null,
         null,
         null,
         null,
         null,
         null,
         null,
         null,
         null,
         "12",
         "0",
         "0.0",
         "0",
         "0.0",
         "0",
         "0.0",
         "0",
         "0.0",
         "0",
         "0.0",
         "1",
         "0.083333336",
         "0",
         "0.0",
         "1",
         "0.083333336",
         "0",
         "0.0",
         "1",
         "0.083333336",
         "0",
         "0.0",
         "0",
         "0.0",
         "0",
         "0.0",
         "0",
         "0.0",
         "0",
         "0.0",
         "1",
         "0.083333336",
         "1",
         "0.083333336",
         "1",
         "0.083333336",
         "1",
         "0.083333336",
         "1",
         "0.083333336",
         "0",
         "0.0",
         "0",
         "0.0",
         "3",
         "0.25",
         "1",
         "0.083333336",
         "1",
         "0.083333336",
         "4",
         "0.33333334",
         "2",
         "0.16666667",
         "3",
         "0.25",
         "1",
         "0.083333336",
         "1",
         "0.083333336",
         "1",
         "0.083333336",
         null,
         null,
         null,
         null,
         null,
         null,
         null,
         null,
         null,
         null,
         null,
         null,
         null,
         null,
         null,
         null,
         null,
         null,
         null,
         null,
         "12.0",
         "0.0",
         "0.0",
         "0.0",
         "0.0",
         "0.0",
         "0.0",
         "0.0",
         "0.0",
         "0.0",
         "0.0",
         "1.0",
         "0.083333336",
         "0.0",
         "0.0",
         "0.0",
         "0.0",
         "0.0",
         "0.0",
         "1.0",
         "0.083333336",
         "0.0",
         "0.0",
         "0.0",
         "0.0",
         "0.0",
         "0.0",
         "0.0",
         "0.0",
         "0.0",
         "0.0",
         "3.0",
         "0.25",
         "1.0",
         "0.083333336",
         "2.0",
         "0.16666667",
         "1.0",
         "0.083333336",
         "4.0",
         "0.33333334",
         "2.0",
         "0.16666667",
         "1.0",
         "0.083333336",
         "4.0",
         "0.33333334",
         "0.0",
         "0.0",
         "0.0",
         "0.0",
         "2.0",
         "0.16666667",
         "0.0",
         "0.0",
         "2.0",
         "0.16666667",
         "1.0",
         "0.083333336",
         "1.0",
         "0.083333336",
         "1.0",
         "0.083333336",
         null,
         null,
         null,
         null,
         null,
         null,
         null,
         null,
         null,
         null,
         null,
         null,
         null,
         null,
         null,
         null,
         null,
         null,
         null,
         null,
         "12.0",
         "0.0",
         "0.0",
         "0.0",
         "0.0",
         "0.0",
         "0.0",
         "0.0",
         "0.0",
         "1.0",
         "0.083333336",
         "4.0",
         "0.33333334",
         "3.0",
         "0.25",
         "4.0",
         "0.33333334",
         "2.0",
         "0.16666667",
         "1.0",
         "0.083333336",
         "1.0",
         "0.083333336",
         "2.0",
         "0.16666667",
         "1.0",
         "0.083333336",
         "2.0",
         "0.16666667",
         "1.0",
         "0.083333336",
         "9.0",
         "0.75",
         "9.0",
         "0.75",
         "8.0",
         "0.66666669",
         "6.0",
         "0.5",
         "9.0",
         "0.75",
         "1.0",
         "0.083333336",
         "0.0",
         "0.0",
         "6.0",
         "0.5",
         "5.0",
         "0.41666666",
         "4.0",
         "0.33333334",
         "6.0",
         "0.5",
         "3.0",
         "0.25",
         "3.0",
         "0.25",
         "3.0",
         "0.25",
         "5.0",
         "0.41666666",
         "0.0",
         "0.0",
         null,
         null,
         null,
         null,
         null,
         null,
         null,
         null,
         null,
         null,
         null,
         null,
         null,
         null,
         null,
         null,
         null,
         null,
         null,
         null,
         "12.0",
         "1.0",
         "0.083333336",
         "0.0",
         "0.0",
         "0.0",
         "0.0",
         "0.0",
         "0.0",
         "0.0",
         "0.0",
         "4.0",
         "0.33333334",
         "2.0",
         "0.16666667",
         "2.0",
         "0.16666667",
         "0.0",
         "0.0",
         "2.0",
         "0.16666667",
         "1.0",
         "0.083333336",
         "0.0",
         "0.0",
         "1.0",
         "0.083333336",
         "1.0",
         "0.083333336",
         "1.0",
         "0.083333336",
         "8.0",
         "0.66666669",
         "4.0",
         "0.33333334",
         "9.0",
         "0.75",
         "6.0",
         "0.5",
         "5.0",
         "0.41666666",
         "2.0",
         "0.16666667",
         "1.0",
         "0.083333336",
         "2.0",
         "0.16666667",
         "5.0",
         "0.41666666",
         "4.0",
         "0.33333334",
         "2.0",
         "0.16666667",
         "0.0",
         "0.0",
         "2.0",
         "0.16666667",
         "3.0",
         "0.25",
         "3.0",
         "0.25",
         "0.0",
         "0.0",
         null,
         null,
         null,
         null,
         null,
         null,
         null,
         null,
         null,
         null,
         null,
         null,
         null,
         null,
         null,
         null,
         null,
         null,
         null,
         null,
         "12.0",
         "1.0",
         "0.083333336",
         "2.0",
         "0.16666667",
         "2.0",
         "0.16666667",
         "0.0",
         "0.0",
         "3.0",
         "0.25",
         "2.0",
         "0.16666667",
         "2.0",
         "0.16666667",
         "4.0",
         "0.33333334",
         "2.0",
         "0.16666667",
         "2.0",
         "0.16666667",
         "1.0",
         "0.083333336",
         "1.0",
         "0.083333336",
         "3.0",
         "0.25",
         "2.0",
         "0.16666667",
         "1.0",
         "0.083333336",
         "6.0",
         "0.5",
         "4.0",
         "0.33333334",
         "5.0",
         "0.41666666",
         "2.0",
         "0.16666667",
         "5.0",
         "0.41666666",
         "1.0",
         "0.083333336",
         "1.0",
         "0.083333336",
         "1.0",
         "0.083333336",
         "2.0",
         "0.16666667",
         "2.0",
         "0.16666667",
         "3.0",
         "0.25",
         "1.0",
         "0.083333336",
         "1.0",
         "0.083333336",
         "4.0",
         "0.33333334",
         "2.0",
         "0.16666667",
         "2.0",
         "0.16666667",
         null,
         null,
         null,
         null,
         null,
         null,
         null,
         null,
         null,
         null,
         null,
         null,
         null,
         null,
         null,
         null,
         null,
         null,
         null,
         null,
         null,
         null,
         null,
         null,
         null,
         null,
         null,
         null,
         null,
         null,
         null,
         null,
         null,
         null,
         null,
         null,
         null,
         null,
         null,
         null,
         null,
         null,
         null,
         null,
         null,
         null,
         null,
         null,
         null,
         null,
         null,
         null,
         null,
         null,
         null,
         null,
         null,
         null,
         null,
         null,
         null,
         null,
         null,
         null,
         null,
         null,
         null,
         null,
         null,
         null,
         null,
         null,
         null,
         null,
         null,
         null,
         null,
         null,
         null,
         null,
         null,
         null,
         null,
         null,
         null,
         null,
         null,
         null,
         null,
         null,
         null,
         null,
         null,
         null,
         null,
         null,
         null,
         null,
         null,
         null,
         null,
         null,
         null,
         "11.0",
         "4.0",
         "0.36363637",
         "6.0",
         "0.54545456",
         "4.0",
         "0.36363637",
         "1.0",
         "0.090909094",
         "2.0",
         "0.18181819",
         "1.0",
         "0.090909094",
         "2.0",
         "0.18181819",
         "3.0",
         "0.27272728",
         "1.0",
         "0.090909094",
         "7.0",
         "0.63636363",
         "2.0",
         "0.18181819",
         "3.0",
         "0.27272728",
         "2.0",
         "0.18181819",
         "5.0",
         "0.45454547",
         "1.0",
         "0.090909094",
         "4.0",
         "0.36363637",
         "2.0",
         "0.18181819",
         "6.0",
         "0.54545456",
         "3.0",
         "0.27272728",
         "5.0",
         "0.45454547",
         "2.0",
         "0.18181819",
         "3.0",
         "0.27272728",
         "4.0",
         "0.36363637",
         "4.0",
         "0.36363637",
         "3.0",
         "0.27272728",
         "7.0",
         "0.63636363",
         "3.0",
         "0.27272728",
         "5.0",
         "0.45454547",
         "2.0",
         "0.18181819",
         "2.0",
         "0.18181819",
         "0.0",
         "0.0",
         "11.0",
         "5.0",
         "0.45454547",
         "2.0",
         "0.18181819",
         "1.0",
         "0.090909094",
         "1.0",
         "0.090909094",
         "1.0",
         "0.090909094",
         "1.0",
         "0.090909094",
         "1.0",
         "0.090909094",
         "1.0",
         "0.090909094",
         "1.0",
         "0.090909094",
         "5.0",
         "0.45454547",
         "1.0",
         "0.090909094",
         "2.0",
         "0.18181819",
         "2.0",
         "0.18181819",
         "2.0",
         "0.18181819",
         "2.0",
         "0.18181819",
         "3.0",
         "0.27272728",
         "3.0",
         "0.27272728",
         "5.0",
         "0.45454547",
         "1.0",
         "0.090909094",
         "4.0",
         "0.36363637",
         "2.0",
         "0.18181819",
         "2.0",
         "0.18181819",
         "4.0",
         "0.36363637",
         "3.0",
         "0.27272728",
         "3.0",
         "0.27272728",
         "5.0",
         "0.45454547",
         "3.0",
         "0.27272728",
         "5.0",
         "0.45454547",
         "4.0",
         "0.36363637",
         "3.0",
         "0.27272728",
         "1.0",
         "0.090909094",
         "11.0",
         "4.0",
         "0.36363637",
         "1.0",
         "0.090909094",
         "1.0",
         "0.090909094",
         "1.0",
         "0.090909094",
         "1.0",
         "0.090909094",
         "1.0",
         "0.090909094",
         "1.0",
         "0.090909094",
         "2.0",
         "0.18181819",
         "1.0",
         "0.090909094",
         "2.0",
         "0.18181819",
         "1.0",
         "0.090909094",
         "1.0",
         "0.090909094",
         "2.0",
         "0.18181819",
         "2.0",
         "0.18181819",
         "2.0",
         "0.18181819",
         "2.0",
         "0.18181819",
         "2.0",
         "0.18181819",
         "1.0",
         "0.090909094",
         "1.0",
         "0.090909094",
         "1.0",
         "0.090909094",
         "1.0",
         "0.090909094",
         "1.0",
         "0.090909094",
         "2.0",
         "0.18181819",
         "3.0",
         "0.27272728",
         "3.0",
         "0.27272728",
         "1.0",
         "0.090909094",
         "1.0",
         "0.090909094",
         "2.0",
         "0.18181819",
         "3.0",
         "0.27272728",
         "4.0",
         "0.36363637",
         "1.0",
         "0.090909094"
        ],
        [
         "1",
         "Angola",
         "2019",
         "AGO2019",
         "AGO",
         "24.0",
         "540.0",
         "1",
         "14",
         "3",
         "0.21428572",
         "8",
         "0.5714286",
         "3",
         "0.21428572",
         "1",
         "0.071428575",
         "4",
         "0.2857143",
         "2",
         "0.14285715",
         "1",
         "0.071428575",
         "4",
         "0.2857143",
         "1",
         "0.071428575",
         "1",
         "0.071428575",
         "0",
         "0.0",
         "5",
         "0.35714287",
         "7",
         "0.5",
         "5",
         "0.35714287",
         "3",
         "0.21428572",
         "1",
         "0.071428575",
         "1",
         "0.071428575",
         "2",
         "0.14285715",
         "1",
         "0.071428575",
         "2",
         "0.14285715",
         "1",
         "0.071428575",
         "1",
         "0.071428575",
         "3",
         "0.21428572",
         "3",
         "0.21428572",
         "4",
         "0.2857143",
         "9",
         "0.64285713",
         "6",
         "0.42857143",
         "3",
         "0.21428572",
         "1",
         "0.071428575",
         "1",
         "0.071428575",
         "1",
         "0.071428575",
         "2.0",
         "0.14285715",
         "6.0",
         "0.42857143",
         null,
         null,
         null,
         null,
         null,
         null,
         null,
         null,
         null,
         null,
         null,
         null,
         null,
         null,
         null,
         null,
         "14",
         "4",
         "0.2857143",
         "6",
         "0.42857143",
         "5",
         "0.35714287",
         "2",
         "0.14285715",
         "3",
         "0.21428572",
         "2",
         "0.14285715",
         "0",
         "0.0",
         "3",
         "0.21428572",
         "0",
         "0.0",
         "3",
         "0.21428572",
         "0",
         "0.0",
         "6",
         "0.42857143",
         "2",
         "0.14285715",
         "5",
         "0.35714287",
         "3",
         "0.21428572",
         "2",
         "0.14285715",
         "1",
         "0.071428575",
         "2",
         "0.14285715",
         "1",
         "0.071428575",
         "2",
         "0.14285715",
         "2",
         "0.14285715",
         "1",
         "0.071428575",
         "5",
         "0.35714287",
         "3",
         "0.21428572",
         "3",
         "0.21428572",
         "7",
         "0.5",
         "6",
         "0.42857143",
         "3",
         "0.21428572",
         "1",
         "0.071428575",
         "1",
         "0.071428575",
         "0",
         "0.0",
         "1.0",
         "0.071428575",
         "6.0",
         "0.42857143",
         null,
         null,
         null,
         null,
         null,
         null,
         null,
         null,
         null,
         null,
         null,
         null,
         null,
         null,
         null,
         null,
         "14",
         "8",
         "0.5714286",
         "6",
         "0.42857143",
         "2",
         "0.14285715",
         "2",
         "0.14285715",
         "3",
         "0.21428572",
         "3",
         "0.21428572",
         "2",
         "0.14285715",
         "5",
         "0.35714287",
         "0",
         "0.0",
         "5",
         "0.35714287",
         "2",
         "0.14285715",
         "10",
         "0.71428573",
         "5",
         "0.35714287",
         "6",
         "0.42857143",
         "4",
         "0.2857143",
         "1",
         "0.071428575",
         "3",
         "0.21428572",
         "3",
         "0.21428572",
         "2",
         "0.14285715",
         "3",
         "0.21428572",
         "3",
         "0.21428572",
         "2",
         "0.14285715",
         "3",
         "0.21428572",
         "3",
         "0.21428572",
         "3",
         "0.21428572",
         "7",
         "0.5",
         "6",
         "0.42857143",
         "4",
         "0.2857143",
         "2",
         "0.14285715",
         "2",
         "0.14285715",
         "0",
         "0.0",
         "3.0",
         "0.21428572",
         "7.0",
         "0.5",
         null,
         null,
         null,
         null,
         null,
         null,
         null,
         null,
         null,
         null,
         null,
         null,
         null,
         null,
         null,
         null,
         "14",
         "5",
         "0.35714287",
         "4",
         "0.2857143",
         "2",
         "0.14285715",
         "3",
         "0.21428572",
         "3",
         "0.21428572",
         "3",
         "0.21428572",
         "1",
         "0.071428575",
         "2",
         "0.14285715",
         "1",
         "0.071428575",
         "3",
         "0.21428572",
         "2",
         "0.14285715",
         "6",
         "0.42857143",
         "5",
         "0.35714287",
         "5",
         "0.35714287",
         "3",
         "0.21428572",
         "3",
         "0.21428572",
         "2",
         "0.14285715",
         "5",
         "0.35714287",
         "3",
         "0.21428572",
         "5",
         "0.35714287",
         "1",
         "0.071428575",
         "1",
         "0.071428575",
         "2",
         "0.14285715",
         "2",
         "0.14285715",
         "4",
         "0.2857143",
         "7",
         "0.5",
         "8",
         "0.5714286",
         "3",
         "0.21428572",
         "3",
         "0.21428572",
         "2",
         "0.14285715",
         "1",
         "0.071428575",
         "3.0",
         "0.21428572",
         "5.0",
         "0.35714287",
         null,
         null,
         null,
         null,
         null,
         null,
         null,
         null,
         null,
         null,
         null,
         null,
         null,
         null,
         null,
         null,
         "14.0",
         "8.0",
         "0.5714286",
         "3.0",
         "0.21428572",
         "3.0",
         "0.21428572",
         "3.0",
         "0.21428572",
         "4.0",
         "0.2857143",
         "3.0",
         "0.21428572",
         "3.0",
         "0.21428572",
         "3.0",
         "0.21428572",
         "2.0",
         "0.14285715",
         "6.0",
         "0.42857143",
         "1.0",
         "0.071428575",
         "3.0",
         "0.21428572",
         "5.0",
         "0.35714287",
         "7.0",
         "0.5",
         "3.0",
         "0.21428572",
         "6.0",
         "0.42857143",
         "5.0",
         "0.35714287",
         "6.0",
         "0.42857143",
         "5.0",
         "0.35714287",
         "8.0",
         "0.5714286",
         "3.0",
         "0.21428572",
         "1.0",
         "0.071428575",
         "3.0",
         "0.21428572",
         "2.0",
         "0.14285715",
         "2.0",
         "0.14285715",
         "8.0",
         "0.5714286",
         "4.0",
         "0.2857143",
         "5.0",
         "0.35714287",
         "2.0",
         "0.14285715",
         "3.0",
         "0.21428572",
         "2.0",
         "0.14285715",
         "4.0",
         "0.2857143",
         "2.0",
         "0.14285715",
         null,
         null,
         null,
         null,
         null,
         null,
         null,
         null,
         null,
         null,
         null,
         null,
         null,
         null,
         null,
         null,
         "16.0",
         "2.0",
         "0.125",
         "1.0",
         "0.0625",
         "1.0",
         "0.0625",
         "0.0",
         "0.0",
         "1.0",
         "0.0625",
         "1.0",
         "0.0625",
         "1.0",
         "0.0625",
         "4.0",
         "0.25",
         "1.0",
         "0.0625",
         "7.0",
         "0.4375",
         "5.0",
         "0.3125",
         "2.0",
         "0.125",
         "2.0",
         "0.125",
         "2.0",
         "0.125",
         "1.0",
         "0.0625",
         "1.0",
         "0.0625",
         "5.0",
         "0.3125",
         "6.0",
         "0.375",
         "9.0",
         "0.5625",
         "3.0",
         "0.1875",
         "7.0",
         "0.4375",
         "5.0",
         "0.3125",
         "3.0",
         "0.1875",
         "9.0",
         "0.5625",
         "4.0",
         "0.25",
         "4.0",
         "0.25",
         "8.0",
         "0.5",
         "2.0",
         "0.125",
         "4.0",
         "0.25",
         "5.0",
         "0.3125",
         "3.0",
         "0.1875",
         "1.0",
         "0.0625",
         "0.0",
         "0.0",
         null,
         null,
         null,
         null,
         null,
         null,
         null,
         null,
         null,
         null,
         null,
         null,
         null,
         null,
         null,
         null,
         "16.0",
         "2.0",
         "0.125",
         "1.0",
         "0.0625",
         "1.0",
         "0.0625",
         "0.0",
         "0.0",
         "1.0",
         "0.0625",
         "2.0",
         "0.125",
         "0.0",
         "0.0",
         "4.0",
         "0.25",
         "2.0",
         "0.125",
         "5.0",
         "0.3125",
         "5.0",
         "0.3125",
         "0.0",
         "0.0",
         "1.0",
         "0.0625",
         "1.0",
         "0.0625",
         "1.0",
         "0.0625",
         "1.0",
         "0.0625",
         "5.0",
         "0.3125",
         "8.0",
         "0.5",
         "9.0",
         "0.5625",
         "5.0",
         "0.3125",
         "7.0",
         "0.4375",
         "5.0",
         "0.3125",
         "3.0",
         "0.1875",
         "6.0",
         "0.375",
         "3.0",
         "0.1875",
         "2.0",
         "0.125",
         "6.0",
         "0.375",
         "1.0",
         "0.0625",
         "1.0",
         "0.0625",
         "5.0",
         "0.3125",
         "3.0",
         "0.1875",
         "2.0",
         "0.125",
         "0.0",
         "0.0",
         null,
         null,
         null,
         null,
         null,
         null,
         null,
         null,
         null,
         null,
         null,
         null,
         null,
         null,
         null,
         null,
         "16.0",
         "1.0",
         "0.0625",
         "0.0",
         "0.0",
         "1.0",
         "0.0625",
         "0.0",
         "0.0",
         "1.0",
         "0.0625",
         "0.0",
         "0.0",
         "0.0",
         "0.0",
         "3.0",
         "0.1875",
         "0.0",
         "0.0",
         "2.0",
         "0.125",
         "3.0",
         "0.1875",
         "0.0",
         "0.0",
         "0.0",
         "0.0",
         "0.0",
         "0.0",
         "0.0",
         "0.0",
         "0.0",
         "0.0",
         "0.0",
         "0.0",
         "1.0",
         "0.0625",
         "2.0",
         "0.125",
         "1.0",
         "0.0625",
         "2.0",
         "0.125",
         "2.0",
         "0.125",
         "3.0",
         "0.1875",
         "4.0",
         "0.25",
         "1.0",
         "0.0625",
         "1.0",
         "0.0625",
         "3.0",
         "0.1875",
         "0.0",
         "0.0",
         "0.0",
         "0.0",
         "0.0",
         "0.0",
         "1.0",
         "0.0625",
         "0.0",
         "0.0",
         "0.0",
         "0.0",
         null,
         null,
         null,
         null,
         null,
         null,
         null,
         null,
         null,
         null,
         null,
         null,
         null,
         null,
         null,
         null,
         "16",
         "0",
         "0.0",
         "0",
         "0.0",
         "0",
         "0.0",
         "0",
         "0.0",
         "0",
         "0.0",
         "0",
         "0.0",
         "0",
         "0.0",
         "0",
         "0.0",
         "0",
         "0.0",
         "0",
         "0.0",
         "0",
         "0.0",
         "0",
         "0.0",
         "0",
         "0.0",
         "0",
         "0.0",
         "0",
         "0.0",
         "0",
         "0.0",
         "0",
         "0.0",
         "0",
         "0.0",
         "0",
         "0.0",
         "0",
         "0.0",
         "0",
         "0.0",
         "0",
         "0.0",
         "0",
         "0.0",
         "0",
         "0.0",
         "0",
         "0.0",
         "0",
         "0.0",
         "0",
         "0.0",
         "0",
         "0.0",
         "0",
         "0.0",
         "0",
         "0.0",
         "0",
         "0.0",
         "0.0",
         "0.0",
         "0.0",
         "0.0",
         null,
         null,
         null,
         null,
         null,
         null,
         null,
         null,
         null,
         null,
         null,
         null,
         null,
         null,
         null,
         null,
         "16.0",
         "2.0",
         "0.125",
         "0.0",
         "0.0",
         "1.0",
         "0.0625",
         "0.0",
         "0.0",
         "1.0",
         "0.0625",
         "1.0",
         "0.0625",
         "0.0",
         "0.0",
         "2.0",
         "0.125",
         "0.0",
         "0.0",
         "1.0",
         "0.0625",
         "2.0",
         "0.125",
         "0.0",
         "0.0",
         "0.0",
         "0.0",
         "0.0",
         "0.0",
         "0.0",
         "0.0",
         "0.0",
         "0.0",
         "3.0",
         "0.1875",
         "1.0",
         "0.0625",
         "2.0",
         "0.125",
         "1.0",
         "0.0625",
         "3.0",
         "0.1875",
         "3.0",
         "0.1875",
         "2.0",
         "0.125",
         "2.0",
         "0.125",
         "2.0",
         "0.125",
         "1.0",
         "0.0625",
         "3.0",
         "0.1875",
         "1.0",
         "0.0625",
         "1.0",
         "0.0625",
         "2.0",
         "0.125",
         "2.0",
         "0.125",
         "0.0",
         "0.0",
         "0.0",
         "0.0",
         null,
         null,
         null,
         null,
         null,
         null,
         null,
         null,
         null,
         null,
         null,
         null,
         null,
         null,
         null,
         null,
         "16.0",
         "1.0",
         "0.0625",
         "3.0",
         "0.1875",
         "0.0",
         "0.0",
         "1.0",
         "0.0625",
         "2.0",
         "0.125",
         "1.0",
         "0.0625",
         "1.0",
         "0.0625",
         "3.0",
         "0.1875",
         "0.0",
         "0.0",
         "2.0",
         "0.125",
         "1.0",
         "0.0625",
         "0.0",
         "0.0",
         "3.0",
         "0.1875",
         "4.0",
         "0.25",
         "0.0",
         "0.0",
         "0.0",
         "0.0",
         "8.0",
         "0.5",
         "8.0",
         "0.5",
         "7.0",
         "0.4375",
         "4.0",
         "0.25",
         "7.0",
         "0.4375",
         "3.0",
         "0.1875",
         "1.0",
         "0.0625",
         "6.0",
         "0.375",
         "1.0",
         "0.0625",
         "1.0",
         "0.0625",
         "6.0",
         "0.375",
         "2.0",
         "0.125",
         "2.0",
         "0.125",
         "4.0",
         "0.25",
         "2.0",
         "0.125",
         "1.0",
         "0.0625",
         "1.0",
         "0.0625",
         null,
         null,
         null,
         null,
         null,
         null,
         null,
         null,
         null,
         null,
         null,
         null,
         null,
         null,
         null,
         null,
         "16.0",
         "1.0",
         "0.0625",
         "2.0",
         "0.125",
         "1.0",
         "0.0625",
         "1.0",
         "0.0625",
         "2.0",
         "0.125",
         "3.0",
         "0.1875",
         "0.0",
         "0.0",
         "3.0",
         "0.1875",
         "0.0",
         "0.0",
         "3.0",
         "0.1875",
         "1.0",
         "0.0625",
         "1.0",
         "0.0625",
         "1.0",
         "0.0625",
         "1.0",
         "0.0625",
         "1.0",
         "0.0625",
         "0.0",
         "0.0",
         "6.0",
         "0.375",
         "5.0",
         "0.3125",
         "8.0",
         "0.5",
         "4.0",
         "0.25",
         "9.0",
         "0.5625",
         "4.0",
         "0.25",
         "1.0",
         "0.0625",
         "4.0",
         "0.25",
         "1.0",
         "0.0625",
         "0.0",
         "0.0",
         "4.0",
         "0.25",
         "0.0",
         "0.0",
         "1.0",
         "0.0625",
         "3.0",
         "0.1875",
         "3.0",
         "0.1875",
         "1.0",
         "0.0625",
         "0.0",
         "0.0",
         null,
         null,
         null,
         null,
         null,
         null,
         null,
         null,
         null,
         null,
         null,
         null,
         null,
         null,
         null,
         null,
         "16.0",
         "1.0",
         "0.0625",
         "2.0",
         "0.125",
         "0.0",
         "0.0",
         "1.0",
         "0.0625",
         "3.0",
         "0.1875",
         "2.0",
         "0.125",
         "1.0",
         "0.0625",
         "3.0",
         "0.1875",
         "0.0",
         "0.0",
         "5.0",
         "0.3125",
         "1.0",
         "0.0625",
         "1.0",
         "0.0625",
         "1.0",
         "0.0625",
         "2.0",
         "0.125",
         "3.0",
         "0.1875",
         "1.0",
         "0.0625",
         "7.0",
         "0.4375",
         "4.0",
         "0.25",
         "5.0",
         "0.3125",
         "3.0",
         "0.1875",
         "6.0",
         "0.375",
         "2.0",
         "0.125",
         "1.0",
         "0.0625",
         "5.0",
         "0.3125",
         "2.0",
         "0.125",
         "3.0",
         "0.1875",
         "5.0",
         "0.3125",
         "1.0",
         "0.0625",
         "1.0",
         "0.0625",
         "2.0",
         "0.125",
         "2.0",
         "0.125",
         "1.0",
         "0.0625",
         "0.0",
         "0.0",
         null,
         null,
         null,
         null,
         null,
         null,
         null,
         null,
         null,
         null,
         null,
         null,
         null,
         null,
         null,
         null,
         null,
         null,
         null,
         null,
         null,
         null,
         null,
         null,
         null,
         null,
         null,
         null,
         null,
         null,
         null,
         null,
         null,
         null,
         null,
         null,
         null,
         null,
         null,
         null,
         null,
         null,
         null,
         null,
         null,
         null,
         null,
         null,
         null,
         null,
         null,
         null,
         null,
         null,
         null,
         null,
         null,
         null,
         null,
         null,
         null,
         null,
         null,
         null,
         null,
         null,
         null,
         null,
         null,
         null,
         null,
         null,
         null,
         null,
         null,
         null,
         null,
         null,
         null,
         null,
         null,
         null,
         null,
         null,
         null,
         null,
         null,
         null,
         null,
         null,
         null,
         null,
         null,
         null,
         null,
         null,
         null,
         null,
         null,
         null,
         null,
         null,
         null,
         null,
         null,
         null,
         null,
         null,
         null,
         null,
         null,
         null,
         null,
         null,
         null,
         null,
         null,
         null,
         null,
         null,
         null,
         null,
         null,
         null,
         null,
         null,
         null,
         null,
         null,
         null,
         null,
         null,
         null,
         null,
         null,
         null,
         null,
         null,
         null,
         null,
         null,
         null,
         null,
         null,
         null,
         null,
         null,
         null,
         null,
         null,
         null,
         null,
         null,
         null,
         null,
         null,
         null,
         null,
         null,
         null,
         null,
         null,
         null,
         null,
         null,
         null,
         null,
         null,
         null,
         null,
         null,
         null,
         null,
         null,
         null,
         null,
         null,
         null,
         null,
         null,
         null,
         null,
         null,
         null,
         null,
         null,
         null,
         null,
         null,
         null,
         null,
         null,
         null,
         null,
         null,
         null,
         null,
         null,
         null,
         null,
         null,
         null,
         null,
         null,
         null,
         null,
         null,
         null,
         null,
         null,
         null,
         null,
         null,
         null,
         null,
         null,
         null,
         null,
         null,
         null,
         null,
         null,
         null,
         null,
         null,
         null,
         null,
         null,
         null,
         null,
         null,
         null,
         null,
         null,
         null,
         null,
         null,
         null,
         null,
         null,
         null,
         null,
         null,
         null,
         null,
         null,
         null,
         null,
         null,
         null,
         null,
         null,
         null,
         null,
         null,
         null,
         null,
         null,
         null,
         null,
         null,
         null,
         null,
         null,
         null,
         null,
         null,
         null,
         null,
         null,
         null,
         null,
         null,
         null,
         null,
         null,
         null,
         null,
         null,
         null,
         null,
         null,
         null,
         null,
         null,
         null,
         null,
         null
        ],
        [
         "2",
         "Angola",
         "2020",
         "AGO2020",
         "AGO",
         "24.0",
         "540.0",
         "1",
         "13",
         "3",
         "0.23076923",
         "5",
         "0.38461539",
         "3",
         "0.23076923",
         "2",
         "0.15384616",
         "1",
         "0.07692308",
         "0",
         "0.0",
         "0",
         "0.0",
         "5",
         "0.38461539",
         "0",
         "0.0",
         "4",
         "0.30769232",
         "1",
         "0.07692308",
         "4",
         "0.30769232",
         "5",
         "0.38461539",
         "6",
         "0.46153846",
         "4",
         "0.30769232",
         "2",
         "0.15384616",
         "1",
         "0.07692308",
         "4",
         "0.30769232",
         "2",
         "0.15384616",
         "3",
         "0.23076923",
         "1",
         "0.07692308",
         "0",
         "0.0",
         "4",
         "0.30769232",
         "5",
         "0.38461539",
         "3",
         "0.23076923",
         "9",
         "0.69230771",
         "8",
         "0.61538464",
         "4",
         "0.30769232",
         "2",
         "0.15384616",
         "3",
         "0.23076923",
         "0",
         "0.0",
         "3.0",
         "0.23076923",
         "7.0",
         "0.53846157",
         "3.0",
         "0.23076923",
         "2.0",
         "0.15384616",
         "1.0",
         "0.07692308",
         "5.0",
         "0.38461539",
         "1.0",
         "0.07692308",
         "4.0",
         "0.30769232",
         null,
         null,
         null,
         null,
         "13",
         "0",
         "0.0",
         "3",
         "0.23076923",
         "0",
         "0.0",
         "0",
         "0.0",
         "2",
         "0.15384616",
         "0",
         "0.0",
         "0",
         "0.0",
         "4",
         "0.30769232",
         "0",
         "0.0",
         "7",
         "0.53846157",
         "0",
         "0.0",
         "5",
         "0.38461539",
         "1",
         "0.07692308",
         "3",
         "0.23076923",
         "1",
         "0.07692308",
         "2",
         "0.15384616",
         "1",
         "0.07692308",
         "3",
         "0.23076923",
         "2",
         "0.15384616",
         "3",
         "0.23076923",
         "0",
         "0.0",
         "0",
         "0.0",
         "1",
         "0.07692308",
         "2",
         "0.15384616",
         "2",
         "0.15384616",
         "8",
         "0.61538464",
         "2",
         "0.15384616",
         "5",
         "0.38461539",
         "2",
         "0.15384616",
         "1",
         "0.07692308",
         "1",
         "0.07692308",
         "4.0",
         "0.30769232",
         "5.0",
         "0.38461539",
         "2.0",
         "0.15384616",
         "1.0",
         "0.07692308",
         "1.0",
         "0.07692308",
         "1.0",
         "0.07692308",
         "0.0",
         "0.0",
         "4.0",
         "0.30769232",
         null,
         null,
         null,
         null,
         "13",
         "4",
         "0.30769232",
         "3",
         "0.23076923",
         "1",
         "0.07692308",
         "0",
         "0.0",
         "1",
         "0.07692308",
         "0",
         "0.0",
         "0",
         "0.0",
         "3",
         "0.23076923",
         "0",
         "0.0",
         "5",
         "0.38461539",
         "2",
         "0.15384616",
         "6",
         "0.46153846",
         "6",
         "0.46153846",
         "4",
         "0.30769232",
         "2",
         "0.15384616",
         "3",
         "0.23076923",
         "1",
         "0.07692308",
         "5",
         "0.38461539",
         "1",
         "0.07692308",
         "3",
         "0.23076923",
         "0",
         "0.0",
         "0",
         "0.0",
         "2",
         "0.15384616",
         "5",
         "0.38461539",
         "4",
         "0.30769232",
         "5",
         "0.38461539",
         "5",
         "0.38461539",
         "4",
         "0.30769232",
         "2",
         "0.15384616",
         "2",
         "0.15384616",
         "1",
         "0.07692308",
         "3.0",
         "0.23076923",
         "4.0",
         "0.30769232",
         "1.0",
         "0.07692308",
         "1.0",
         "0.07692308",
         "2.0",
         "0.15384616",
         "2.0",
         "0.15384616",
         "0.0",
         "0.0",
         "2.0",
         "0.15384616",
         null,
         null,
         null,
         null,
         "13",
         "3",
         "0.23076923",
         "3",
         "0.23076923",
         "2",
         "0.15384616",
         "1",
         "0.07692308",
         "2",
         "0.15384616",
         "0",
         "0.0",
         "0",
         "0.0",
         "3",
         "0.23076923",
         "0",
         "0.0",
         "6",
         "0.46153846",
         "1",
         "0.07692308",
         "3",
         "0.23076923",
         "3",
         "0.23076923",
         "3",
         "0.23076923",
         "0",
         "0.0",
         "2",
         "0.15384616",
         "0",
         "0.0",
         "6",
         "0.46153846",
         "2",
         "0.15384616",
         "3",
         "0.23076923",
         "2",
         "0.15384616",
         "0",
         "0.0",
         "0",
         "0.0",
         "3",
         "0.23076923",
         "2",
         "0.15384616",
         "9",
         "0.69230771",
         "5",
         "0.38461539",
         "2",
         "0.15384616",
         "1",
         "0.07692308",
         "1",
         "0.07692308",
         "1",
         "0.07692308",
         "3.0",
         "0.23076923",
         "5.0",
         "0.38461539",
         "3.0",
         "0.23076923",
         "2.0",
         "0.15384616",
         "1.0",
         "0.07692308",
         "2.0",
         "0.15384616",
         "0.0",
         "0.0",
         "2.0",
         "0.15384616",
         null,
         null,
         null,
         null,
         "13.0",
         "5.0",
         "0.38461539",
         "2.0",
         "0.15384616",
         "1.0",
         "0.07692308",
         "0.0",
         "0.0",
         "1.0",
         "0.07692308",
         "1.0",
         "0.07692308",
         "0.0",
         "0.0",
         "3.0",
         "0.23076923",
         "0.0",
         "0.0",
         "2.0",
         "0.15384616",
         "2.0",
         "0.15384616",
         "2.0",
         "0.15384616",
         "4.0",
         "0.30769232",
         "4.0",
         "0.30769232",
         "4.0",
         "0.30769232",
         "4.0",
         "0.30769232",
         "2.0",
         "0.15384616",
         "6.0",
         "0.46153846",
         "3.0",
         "0.23076923",
         "4.0",
         "0.30769232",
         "1.0",
         "0.07692308",
         "1.0",
         "0.07692308",
         "3.0",
         "0.23076923",
         "3.0",
         "0.23076923",
         "3.0",
         "0.23076923",
         "7.0",
         "0.53846157",
         "4.0",
         "0.30769232",
         "4.0",
         "0.30769232",
         "1.0",
         "0.07692308",
         "2.0",
         "0.15384616",
         "1.0",
         "0.07692308",
         "2.0",
         "0.15384616",
         "4.0",
         "0.30769232",
         "1.0",
         "0.07692308",
         "1.0",
         "0.07692308",
         "2.0",
         "0.15384616",
         "1.0",
         "0.07692308",
         "0.0",
         "0.0",
         "2.0",
         "0.15384616",
         null,
         null,
         null,
         null,
         "14.0",
         "4.0",
         "0.2857143",
         "1.0",
         "0.071428575",
         "3.0",
         "0.21428572",
         "1.0",
         "0.071428575",
         "1.0",
         "0.071428575",
         "1.0",
         "0.071428575",
         "1.0",
         "0.071428575",
         "1.0",
         "0.071428575",
         "0.0",
         "0.0",
         "0.0",
         "0.0",
         "4.0",
         "0.2857143",
         "1.0",
         "0.071428575",
         "1.0",
         "0.071428575",
         "1.0",
         "0.071428575",
         "0.0",
         "0.0",
         "1.0",
         "0.071428575",
         "1.0",
         "0.071428575",
         "1.0",
         "0.071428575",
         "6.0",
         "0.42857143",
         "2.0",
         "0.14285715",
         "7.0",
         "0.5",
         "3.0",
         "0.21428572",
         "5.0",
         "0.35714287",
         "1.0",
         "0.071428575",
         "1.0",
         "0.071428575",
         "3.0",
         "0.21428572",
         "5.0",
         "0.35714287",
         "4.0",
         "0.2857143",
         "0.0",
         "0.0",
         "0.0",
         "0.0",
         "3.0",
         "0.21428572",
         "2.0",
         "0.14285715",
         "3.0",
         "0.21428572",
         "2.0",
         "0.14285715",
         "1.0",
         "0.071428575",
         "4.0",
         "0.2857143",
         "4.0",
         "0.2857143",
         "0.0",
         "0.0",
         "1.0",
         "0.071428575",
         null,
         null,
         null,
         null,
         "14.0",
         "3.0",
         "0.21428572",
         "1.0",
         "0.071428575",
         "3.0",
         "0.21428572",
         "1.0",
         "0.071428575",
         "1.0",
         "0.071428575",
         "1.0",
         "0.071428575",
         "1.0",
         "0.071428575",
         "1.0",
         "0.071428575",
         "0.0",
         "0.0",
         "0.0",
         "0.0",
         "1.0",
         "0.071428575",
         "1.0",
         "0.071428575",
         "0.0",
         "0.0",
         "0.0",
         "0.0",
         "0.0",
         "0.0",
         "0.0",
         "0.0",
         "0.0",
         "0.0",
         "0.0",
         "0.0",
         "6.0",
         "0.42857143",
         "3.0",
         "0.21428572",
         "8.0",
         "0.5714286",
         "1.0",
         "0.071428575",
         "6.0",
         "0.42857143",
         "1.0",
         "0.071428575",
         "1.0",
         "0.071428575",
         "2.0",
         "0.14285715",
         "3.0",
         "0.21428572",
         "1.0",
         "0.071428575",
         "0.0",
         "0.0",
         "0.0",
         "0.0",
         "1.0",
         "0.071428575",
         "0.0",
         "0.0",
         "1.0",
         "0.071428575",
         "0.0",
         "0.0",
         "1.0",
         "0.071428575",
         "3.0",
         "0.21428572",
         "2.0",
         "0.14285715",
         "0.0",
         "0.0",
         "2.0",
         "0.14285715",
         null,
         null,
         null,
         null,
         "14.0",
         "3.0",
         "0.21428572",
         "1.0",
         "0.071428575",
         "3.0",
         "0.21428572",
         "1.0",
         "0.071428575",
         "0.0",
         "0.0",
         "0.0",
         "0.0",
         "1.0",
         "0.071428575",
         "1.0",
         "0.071428575",
         "0.0",
         "0.0",
         "0.0",
         "0.0",
         "0.0",
         "0.0",
         "0.0",
         "0.0",
         "0.0",
         "0.0",
         "0.0",
         "0.0",
         "0.0",
         "0.0",
         "0.0",
         "0.0",
         "0.0",
         "0.0",
         "0.0",
         "0.0",
         "3.0",
         "0.21428572",
         "0.0",
         "0.0",
         "2.0",
         "0.14285715",
         "1.0",
         "0.071428575",
         "3.0",
         "0.21428572",
         "1.0",
         "0.071428575",
         "1.0",
         "0.071428575",
         "2.0",
         "0.14285715",
         "1.0",
         "0.071428575",
         "0.0",
         "0.0",
         "0.0",
         "0.0",
         "0.0",
         "0.0",
         "0.0",
         "0.0",
         "0.0",
         "0.0",
         "0.0",
         "0.0",
         "0.0",
         "0.0",
         "1.0",
         "0.071428575",
         "1.0",
         "0.071428575",
         "1.0",
         "0.071428575",
         "0.0",
         "0.0",
         "1.0",
         "0.071428575",
         null,
         null,
         null,
         null,
         "14",
         "0",
         "0.0",
         "0",
         "0.0",
         "0",
         "0.0",
         "0",
         "0.0",
         "0",
         "0.0",
         "0",
         "0.0",
         "0",
         "0.0",
         "0",
         "0.0",
         "0",
         "0.0",
         "0",
         "0.0",
         "0",
         "0.0",
         "0",
         "0.0",
         "0",
         "0.0",
         "0",
         "0.0",
         "0",
         "0.0",
         "0",
         "0.0",
         "0",
         "0.0",
         "0",
         "0.0",
         "0",
         "0.0",
         "0",
         "0.0",
         "0",
         "0.0",
         "0",
         "0.0",
         "0",
         "0.0",
         "0",
         "0.0",
         "0",
         "0.0",
         "0",
         "0.0",
         "0",
         "0.0",
         "0",
         "0.0",
         "0",
         "0.0",
         "0",
         "0.0",
         "0",
         "0.0",
         "0.0",
         "0.0",
         "0.0",
         "0.0",
         "0.0",
         "0.0",
         "0.0",
         "0.0",
         "0.0",
         "0.0",
         "0.0",
         "0.0",
         "0.0",
         "0.0",
         "0.0",
         "0.0",
         null,
         null,
         null,
         null,
         "14.0",
         "2.0",
         "0.14285715",
         "1.0",
         "0.071428575",
         "2.0",
         "0.14285715",
         "1.0",
         "0.071428575",
         "0.0",
         "0.0",
         "1.0",
         "0.071428575",
         "0.0",
         "0.0",
         "0.0",
         "0.0",
         "0.0",
         "0.0",
         "0.0",
         "0.0",
         "1.0",
         "0.071428575",
         "1.0",
         "0.071428575",
         "0.0",
         "0.0",
         "1.0",
         "0.071428575",
         "0.0",
         "0.0",
         "1.0",
         "0.071428575",
         "0.0",
         "0.0",
         "0.0",
         "0.0",
         "3.0",
         "0.21428572",
         "0.0",
         "0.0",
         "3.0",
         "0.21428572",
         "0.0",
         "0.0",
         "1.0",
         "0.071428575",
         "1.0",
         "0.071428575",
         "1.0",
         "0.071428575",
         "1.0",
         "0.071428575",
         "1.0",
         "0.071428575",
         "1.0",
         "0.071428575",
         "0.0",
         "0.0",
         "0.0",
         "0.0",
         "1.0",
         "0.071428575",
         "1.0",
         "0.071428575",
         "1.0",
         "0.071428575",
         "0.0",
         "0.0",
         "0.0",
         "0.0",
         "1.0",
         "0.071428575",
         "2.0",
         "0.14285715",
         "0.0",
         "0.0",
         "0.0",
         "0.0",
         null,
         null,
         null,
         null,
         "15.0",
         "3.0",
         "0.2",
         "1.0",
         "0.06666667",
         "1.0",
         "0.06666667",
         "0.0",
         "0.0",
         "0.0",
         "0.0",
         "1.0",
         "0.06666667",
         "1.0",
         "0.06666667",
         "0.0",
         "0.0",
         "2.0",
         "0.13333334",
         "2.0",
         "0.13333334",
         "3.0",
         "0.2",
         "1.0",
         "0.06666667",
         "0.0",
         "0.0",
         "0.0",
         "0.0",
         "0.0",
         "0.0",
         "1.0",
         "0.06666667",
         "1.0",
         "0.06666667",
         "1.0",
         "0.06666667",
         "8.0",
         "0.53333336",
         "5.0",
         "0.33333334",
         "9.0",
         "0.60000002",
         "3.0",
         "0.2",
         "7.0",
         "0.46666667",
         "2.0",
         "0.13333334",
         "1.0",
         "0.06666667",
         "2.0",
         "0.13333334",
         "2.0",
         "0.13333334",
         "3.0",
         "0.2",
         "0.0",
         "0.0",
         "2.0",
         "0.13333334",
         "2.0",
         "0.13333334",
         "2.0",
         "0.13333334",
         "1.0",
         "0.06666667",
         "1.0",
         "0.06666667",
         "2.0",
         "0.13333334",
         "1.0",
         "0.06666667",
         "2.0",
         "0.13333334",
         "1.0",
         "0.06666667",
         "1.0",
         "0.06666667",
         null,
         null,
         null,
         null,
         "15.0",
         "3.0",
         "0.2",
         "0.0",
         "0.0",
         "1.0",
         "0.06666667",
         "0.0",
         "0.0",
         "0.0",
         "0.0",
         "1.0",
         "0.06666667",
         "1.0",
         "0.06666667",
         "0.0",
         "0.0",
         "1.0",
         "0.06666667",
         "1.0",
         "0.06666667",
         "2.0",
         "0.13333334",
         "1.0",
         "0.06666667",
         "1.0",
         "0.06666667",
         "1.0",
         "0.06666667",
         "0.0",
         "0.0",
         "0.0",
         "0.0",
         "1.0",
         "0.06666667",
         "2.0",
         "0.13333334",
         "6.0",
         "0.40000001",
         "0.0",
         "0.0",
         "6.0",
         "0.40000001",
         "1.0",
         "0.06666667",
         "4.0",
         "0.26666668",
         "2.0",
         "0.13333334",
         "1.0",
         "0.06666667",
         "0.0",
         "0.0",
         "3.0",
         "0.2",
         "2.0",
         "0.13333334",
         "1.0",
         "0.06666667",
         "1.0",
         "0.06666667",
         "2.0",
         "0.13333334",
         "2.0",
         "0.13333334",
         "0.0",
         "0.0",
         "1.0",
         "0.06666667",
         "1.0",
         "0.06666667",
         "0.0",
         "0.0",
         "1.0",
         "0.06666667",
         "0.0",
         "0.0",
         "1.0",
         "0.06666667",
         null,
         null,
         null,
         null,
         "15.0",
         "3.0",
         "0.2",
         "0.0",
         "0.0",
         "1.0",
         "0.06666667",
         "0.0",
         "0.0",
         "0.0",
         "0.0",
         "0.0",
         "0.0",
         "2.0",
         "0.13333334",
         "2.0",
         "0.13333334",
         "3.0",
         "0.2",
         "0.0",
         "0.0",
         "2.0",
         "0.13333334",
         "1.0",
         "0.06666667",
         "1.0",
         "0.06666667",
         "1.0",
         "0.06666667",
         "0.0",
         "0.0",
         "1.0",
         "0.06666667",
         "1.0",
         "0.06666667",
         "2.0",
         "0.13333334",
         "7.0",
         "0.46666667",
         "2.0",
         "0.13333334",
         "5.0",
         "0.33333334",
         "1.0",
         "0.06666667",
         "5.0",
         "0.33333334",
         "2.0",
         "0.13333334",
         "1.0",
         "0.06666667",
         "2.0",
         "0.13333334",
         "3.0",
         "0.2",
         "3.0",
         "0.2",
         "0.0",
         "0.0",
         "2.0",
         "0.13333334",
         "2.0",
         "0.13333334",
         "1.0",
         "0.06666667",
         "2.0",
         "0.13333334",
         "1.0",
         "0.06666667",
         "2.0",
         "0.13333334",
         "0.0",
         "0.0",
         "1.0",
         "0.06666667",
         "0.0",
         "0.0",
         "1.0",
         "0.06666667",
         null,
         null,
         null,
         null,
         null,
         null,
         null,
         null,
         null,
         null,
         null,
         null,
         null,
         null,
         null,
         null,
         null,
         null,
         null,
         null,
         null,
         null,
         null,
         null,
         null,
         null,
         null,
         null,
         null,
         null,
         null,
         null,
         null,
         null,
         null,
         null,
         null,
         null,
         null,
         null,
         null,
         null,
         null,
         null,
         null,
         null,
         null,
         null,
         null,
         null,
         null,
         null,
         null,
         null,
         null,
         null,
         null,
         null,
         null,
         null,
         null,
         null,
         null,
         null,
         null,
         null,
         null,
         null,
         null,
         null,
         null,
         null,
         null,
         null,
         null,
         null,
         null,
         null,
         null,
         null,
         null,
         null,
         null,
         null,
         null,
         null,
         null,
         null,
         null,
         null,
         null,
         null,
         null,
         null,
         null,
         null,
         null,
         null,
         null,
         null,
         null,
         null,
         null,
         null,
         null,
         null,
         null,
         null,
         null,
         null,
         null,
         null,
         null,
         null,
         null,
         null,
         null,
         null,
         null,
         null,
         null,
         null,
         null,
         null,
         null,
         null,
         null,
         null,
         null,
         null,
         null,
         null,
         null,
         null,
         null,
         null,
         null,
         null,
         null,
         null,
         null,
         null,
         null,
         null,
         null,
         null,
         null,
         null,
         null,
         null,
         null,
         null,
         null,
         null,
         null,
         null,
         null,
         null,
         null,
         null,
         null,
         null,
         null,
         null,
         null,
         null,
         null,
         null,
         null,
         null,
         null,
         null,
         null,
         null,
         null,
         null,
         null,
         null,
         null,
         null,
         null,
         null,
         null,
         null,
         null,
         null,
         null,
         null,
         null,
         null,
         null,
         null,
         null,
         null,
         null,
         null,
         null,
         null,
         null,
         null,
         null,
         null,
         null,
         null,
         null,
         null,
         null,
         null,
         null,
         null,
         null,
         null,
         null,
         null,
         null,
         null,
         null,
         null,
         null,
         null,
         null,
         null,
         null,
         null,
         null,
         null,
         null,
         null,
         null,
         null,
         null,
         null,
         null,
         null,
         null,
         null,
         null,
         null,
         null,
         null,
         null,
         null,
         null,
         null,
         null,
         null,
         null,
         null,
         null,
         null,
         null,
         null,
         null,
         null,
         null,
         null,
         null,
         null,
         null,
         null,
         null,
         null,
         null,
         null,
         null,
         null,
         null,
         null,
         null,
         null,
         null,
         null,
         null,
         null,
         null,
         null
        ],
        [
         "3",
         "Angola",
         "2021",
         "AGO2021",
         "AGO",
         "24.0",
         "540.0",
         "1",
         "12",
         "6",
         "0.5",
         "5",
         "0.4166666567325592",
         "5",
         "0.4166666567325592",
         "1",
         "0.0833333358168602",
         "3",
         "0.25",
         "1",
         "0.0833333358168602",
         "1",
         "0.0833333358168602",
         "5",
         "0.4166666567325592",
         "0",
         "0.0",
         "3",
         "0.25",
         "0",
         "0.0",
         "5",
         "0.4166666567325592",
         "4",
         "0.3333333432674408",
         "2",
         "0.1666666716337204",
         "1",
         "0.0833333358168602",
         "1",
         "0.0833333358168602",
         "0",
         "0.0",
         "2",
         "0.1666666716337204",
         "2",
         "0.1666666716337204",
         "1",
         "0.0833333358168602",
         "1",
         "0.0833333358168602",
         "1",
         "0.0833333358168602",
         "4",
         "0.3333333432674408",
         "3",
         "0.25",
         "3",
         "0.25",
         "4",
         "0.3333333432674408",
         "3",
         "0.25",
         "1",
         "0.0833333358168602",
         "0",
         "0.0",
         "0",
         "0.0",
         "0",
         "0.0",
         "4.0",
         "0.3333333432674408",
         "4.0",
         "0.3333333432674408",
         "2.0",
         "0.1666666716337204",
         "2.0",
         "0.1666666716337204",
         "1.0",
         "0.0833333358168602",
         "4.0",
         "0.3333333432674408",
         "0.0",
         "0.0",
         "0.0",
         "0.0",
         null,
         null,
         null,
         null,
         "12",
         "5",
         "0.4166666567325592",
         "8",
         "0.6666666865348816",
         "5",
         "0.4166666567325592",
         "2",
         "0.1666666716337204",
         "3",
         "0.25",
         "3",
         "0.25",
         "2",
         "0.1666666716337204",
         "6",
         "0.5",
         "1",
         "0.0833333358168602",
         "5",
         "0.4166666567325592",
         "1",
         "0.0833333358168602",
         "6",
         "0.5",
         "2",
         "0.1666666716337204",
         "4",
         "0.3333333432674408",
         "3",
         "0.25",
         "2",
         "0.1666666716337204",
         "1",
         "0.0833333358168602",
         "2",
         "0.1666666716337204",
         "2",
         "0.1666666716337204",
         "2",
         "0.1666666716337204",
         "2",
         "0.1666666716337204",
         "2",
         "0.1666666716337204",
         "5",
         "0.4166666567325592",
         "2",
         "0.1666666716337204",
         "4",
         "0.3333333432674408",
         "5",
         "0.4166666567325592",
         "5",
         "0.4166666567325592",
         "2",
         "0.1666666716337204",
         "1",
         "0.0833333358168602",
         "1",
         "0.0833333358168602",
         "1",
         "0.0833333358168602",
         "3.0",
         "0.25",
         "7.0",
         "0.5833333134651184",
         "2.0",
         "0.1666666716337204",
         "4.0",
         "0.3333333432674408",
         "2.0",
         "0.1666666716337204",
         "3.0",
         "0.25",
         "1.0",
         "0.0833333358168602",
         "1.0",
         "0.0833333358168602",
         null,
         null,
         null,
         null,
         "12",
         "8",
         "0.6666666865348816",
         "4",
         "0.3333333432674408",
         "3",
         "0.25",
         "0",
         "0.0",
         "2",
         "0.1666666716337204",
         "1",
         "0.0833333358168602",
         "0",
         "0.0",
         "2",
         "0.1666666716337204",
         "0",
         "0.0",
         "1",
         "0.0833333358168602",
         "0",
         "0.0",
         "4",
         "0.3333333432674408",
         "3",
         "0.25",
         "3",
         "0.25",
         "3",
         "0.25",
         "1",
         "0.0833333358168602",
         "0",
         "0.0",
         "2",
         "0.1666666716337204",
         "1",
         "0.0833333358168602",
         "1",
         "0.0833333358168602",
         "1",
         "0.0833333358168602",
         "1",
         "0.0833333358168602",
         "3",
         "0.25",
         "1",
         "0.0833333358168602",
         "1",
         "0.0833333358168602",
         "4",
         "0.3333333432674408",
         "3",
         "0.25",
         "1",
         "0.0833333358168602",
         "0",
         "0.0",
         "0",
         "0.0",
         "0",
         "0.0",
         "1.0",
         "0.0833333358168602",
         "6.0",
         "0.5",
         "1.0",
         "0.0833333358168602",
         "2.0",
         "0.1666666716337204",
         "0.0",
         "0.0",
         "2.0",
         "0.1666666716337204",
         "0.0",
         "0.0",
         "0.0",
         "0.0",
         null,
         null,
         null,
         null,
         "12",
         "3",
         "0.25",
         "4",
         "0.3333333432674408",
         "1",
         "0.0833333358168602",
         "1",
         "0.0833333358168602",
         "2",
         "0.1666666716337204",
         "0",
         "0.0",
         "1",
         "0.0833333358168602",
         "1",
         "0.0833333358168602",
         "0",
         "0.0",
         "3",
         "0.25",
         "0",
         "0.0",
         "2",
         "0.1666666716337204",
         "2",
         "0.1666666716337204",
         "3",
         "0.25",
         "2",
         "0.1666666716337204",
         "4",
         "0.3333333432674408",
         "0",
         "0.0",
         "5",
         "0.4166666567325592",
         "3",
         "0.25",
         "3",
         "0.25",
         "2",
         "0.1666666716337204",
         "1",
         "0.0833333358168602",
         "2",
         "0.1666666716337204",
         "4",
         "0.3333333432674408",
         "4",
         "0.3333333432674408",
         "5",
         "0.4166666567325592",
         "6",
         "0.5",
         "1",
         "0.0833333358168602",
         "1",
         "0.0833333358168602",
         "0",
         "0.0",
         "0",
         "0.0",
         "2.0",
         "0.1666666716337204",
         "5.0",
         "0.4166666567325592",
         "0.0",
         "0.0",
         "1.0",
         "0.0833333358168602",
         "0.0",
         "0.0",
         "2.0",
         "0.1666666716337204",
         "0.0",
         "0.0",
         "0.0",
         "0.0",
         null,
         null,
         null,
         null,
         "12.0",
         "5.0",
         "0.4166666567325592",
         "6.0",
         "0.5",
         "2.0",
         "0.1666666716337204",
         "1.0",
         "0.0833333358168602",
         "2.0",
         "0.1666666716337204",
         "2.0",
         "0.1666666716337204",
         "1.0",
         "0.0833333358168602",
         "2.0",
         "0.1666666716337204",
         "0.0",
         "0.0",
         "3.0",
         "0.25",
         "1.0",
         "0.0833333358168602",
         "2.0",
         "0.1666666716337204",
         "1.0",
         "0.0833333358168602",
         "4.0",
         "0.3333333432674408",
         "2.0",
         "0.1666666716337204",
         "6.0",
         "0.5",
         "1.0",
         "0.0833333358168602",
         "5.0",
         "0.4166666567325592",
         "2.0",
         "0.1666666716337204",
         "4.0",
         "0.3333333432674408",
         "2.0",
         "0.1666666716337204",
         "1.0",
         "0.0833333358168602",
         "5.0",
         "0.4166666567325592",
         "4.0",
         "0.3333333432674408",
         "2.0",
         "0.1666666716337204",
         "5.0",
         "0.4166666567325592",
         "6.0",
         "0.5",
         "4.0",
         "0.3333333432674408",
         "1.0",
         "0.0833333358168602",
         "0.0",
         "0.0",
         "0.0",
         "0.0",
         "2.0",
         "0.1666666716337204",
         "5.0",
         "0.4166666567325592",
         "0.0",
         "0.0",
         "0.0",
         "0.0",
         "1.0",
         "0.0833333358168602",
         "1.0",
         "0.0833333358168602",
         "0.0",
         "0.0",
         "2.0",
         "0.1666666716337204",
         null,
         null,
         null,
         null,
         "12.0",
         "2.0",
         "0.1666666716337204",
         "1.0",
         "0.0833333358168602",
         "3.0",
         "0.25",
         "1.0",
         "0.0833333358168602",
         "2.0",
         "0.1666666716337204",
         "2.0",
         "0.1666666716337204",
         "1.0",
         "0.0833333358168602",
         "2.0",
         "0.1666666716337204",
         "1.0",
         "0.0833333358168602",
         "2.0",
         "0.1666666716337204",
         "2.0",
         "0.1666666716337204",
         "3.0",
         "0.25",
         "1.0",
         "0.0833333358168602",
         "1.0",
         "0.0833333358168602",
         "2.0",
         "0.1666666716337204",
         "7.0",
         "0.5833333134651184",
         "4.0",
         "0.3333333432674408",
         "8.0",
         "0.6666666865348816",
         "4.0",
         "0.3333333432674408",
         "6.0",
         "0.5",
         "4.0",
         "0.3333333432674408",
         "3.0",
         "0.25",
         "5.0",
         "0.4166666567325592",
         "4.0",
         "0.3333333432674408",
         "3.0",
         "0.25",
         "3.0",
         "0.25",
         "1.0",
         "0.0833333358168602",
         "2.0",
         "0.1666666716337204",
         "1.0",
         "0.0833333358168602",
         "3.0",
         "0.25",
         "3.0",
         "0.25",
         "2.0",
         "0.1666666716337204",
         "2.0",
         "0.1666666716337204",
         "1.0",
         "0.0833333358168602",
         "1.0",
         "0.0833333358168602",
         "1.0",
         "0.0833333358168602",
         "2.0",
         "0.1666666716337204",
         "1.0",
         "0.0833333358168602",
         "1.0",
         "0.0833333358168602",
         null,
         null,
         null,
         null,
         "12.0",
         "3.0",
         "0.25",
         "1.0",
         "0.0833333358168602",
         "2.0",
         "0.1666666716337204",
         "1.0",
         "0.0833333358168602",
         "2.0",
         "0.1666666716337204",
         "1.0",
         "0.0833333358168602",
         "2.0",
         "0.1666666716337204",
         "2.0",
         "0.1666666716337204",
         "1.0",
         "0.0833333358168602",
         "2.0",
         "0.1666666716337204",
         "0.0",
         "0.0",
         "3.0",
         "0.25",
         "1.0",
         "0.0833333358168602",
         "1.0",
         "0.0833333358168602",
         "1.0",
         "0.0833333358168602",
         "7.0",
         "0.5833333134651184",
         "4.0",
         "0.3333333432674408",
         "8.0",
         "0.6666666865348816",
         "6.0",
         "0.5",
         "6.0",
         "0.5",
         "3.0",
         "0.25",
         "3.0",
         "0.25",
         "3.0",
         "0.25",
         "3.0",
         "0.25",
         "3.0",
         "0.25",
         "3.0",
         "0.25",
         "2.0",
         "0.1666666716337204",
         "1.0",
         "0.0833333358168602",
         "3.0",
         "0.25",
         "2.0",
         "0.1666666716337204",
         "1.0",
         "0.0833333358168602",
         "1.0",
         "0.0833333358168602",
         "2.0",
         "0.1666666716337204",
         "0.0",
         "0.0",
         "2.0",
         "0.1666666716337204",
         "1.0",
         "0.0833333358168602",
         "1.0",
         "0.0833333358168602",
         "0.0",
         "0.0",
         "4.0",
         "0.3333333432674408",
         null,
         null,
         null,
         null,
         "13.0",
         "3.0",
         "0.2307692319154739",
         "1.0",
         "0.0769230797886848",
         "3.0",
         "0.2307692319154739",
         "1.0",
         "0.0769230797886848",
         "2.0",
         "0.1538461595773697",
         "1.0",
         "0.0769230797886848",
         "1.0",
         "0.0769230797886848",
         "1.0",
         "0.0769230797886848",
         "0.0",
         "0.0",
         "2.0",
         "0.1538461595773697",
         "0.0",
         "0.0",
         "2.0",
         "0.1538461595773697",
         "2.0",
         "0.1538461595773697",
         "1.0",
         "0.0769230797886848",
         "1.0",
         "0.0769230797886848",
         "6.0",
         "0.4615384638309479",
         "3.0",
         "0.2307692319154739",
         "8.0",
         "0.6153846383094788",
         "4.0",
         "0.3076923191547394",
         "6.0",
         "0.4615384638309479",
         "2.0",
         "0.1538461595773697",
         "2.0",
         "0.1538461595773697",
         "2.0",
         "0.1538461595773697",
         "3.0",
         "0.2307692319154739",
         "3.0",
         "0.2307692319154739",
         "4.0",
         "0.3076923191547394",
         "1.0",
         "0.0769230797886848",
         "1.0",
         "0.0769230797886848",
         "2.0",
         "0.1538461595773697",
         "2.0",
         "0.1538461595773697",
         "3.0",
         "0.2307692319154739",
         "1.0",
         "0.0769230797886848",
         "2.0",
         "0.1538461595773697",
         "0.0",
         "0.0",
         "2.0",
         "0.1538461595773697",
         "1.0",
         "0.0769230797886848",
         "2.0",
         "0.1538461595773697",
         "0.0",
         "0.0",
         "2.0",
         "0.1538461595773697",
         null,
         null,
         null,
         null,
         "0",
         "0",
         null,
         "0",
         null,
         "0",
         null,
         "0",
         null,
         "0",
         null,
         "0",
         null,
         "0",
         null,
         "0",
         null,
         "0",
         null,
         "0",
         null,
         "0",
         null,
         "0",
         null,
         "0",
         null,
         "0",
         null,
         "0",
         null,
         "0",
         null,
         "0",
         null,
         "0",
         null,
         "0",
         null,
         "0",
         null,
         "0",
         null,
         "0",
         null,
         "0",
         null,
         "0",
         null,
         "0",
         null,
         "0",
         null,
         "0",
         null,
         "0",
         null,
         "0",
         null,
         "0",
         null,
         "0",
         null,
         "0.0",
         null,
         "0.0",
         null,
         "0.0",
         null,
         "0.0",
         null,
         "0.0",
         null,
         "0.0",
         null,
         "0.0",
         null,
         "0.0",
         null,
         null,
         null,
         null,
         null,
         "12.0",
         "3.0",
         "0.25",
         "2.0",
         "0.1666666716337204",
         "4.0",
         "0.3333333432674408",
         "1.0",
         "0.0833333358168602",
         "2.0",
         "0.1666666716337204",
         "1.0",
         "0.0833333358168602",
         "1.0",
         "0.0833333358168602",
         "2.0",
         "0.1666666716337204",
         "2.0",
         "0.1666666716337204",
         "1.0",
         "0.0833333358168602",
         "0.0",
         "0.0",
         "2.0",
         "0.1666666716337204",
         "1.0",
         "0.0833333358168602",
         "2.0",
         "0.1666666716337204",
         "1.0",
         "0.0833333358168602",
         "3.0",
         "0.25",
         "1.0",
         "0.0833333358168602",
         "5.0",
         "0.4166666567325592",
         "1.0",
         "0.0833333358168602",
         "5.0",
         "0.4166666567325592",
         "2.0",
         "0.1666666716337204",
         "1.0",
         "0.0833333358168602",
         "2.0",
         "0.1666666716337204",
         "2.0",
         "0.1666666716337204",
         "2.0",
         "0.1666666716337204",
         "2.0",
         "0.1666666716337204",
         "1.0",
         "0.0833333358168602",
         "3.0",
         "0.25",
         "1.0",
         "0.0833333358168602",
         "1.0",
         "0.0833333358168602",
         "0.0",
         "0.0",
         "1.0",
         "0.0833333358168602",
         "1.0",
         "0.0833333358168602",
         "1.0",
         "0.0833333358168602",
         "1.0",
         "0.0833333358168602",
         "1.0",
         "0.0833333358168602",
         "1.0",
         "0.0833333358168602",
         "0.0",
         "0.0",
         "1.0",
         "0.0833333358168602",
         null,
         null,
         null,
         null,
         "14.0",
         "4.0",
         "0.2857142984867096",
         "2.0",
         "0.1428571492433548",
         "2.0",
         "0.1428571492433548",
         "1.0",
         "0.0714285746216774",
         "1.0",
         "0.0714285746216774",
         "4.0",
         "0.2857142984867096",
         "1.0",
         "0.0714285746216774",
         "2.0",
         "0.1428571492433548",
         "1.0",
         "0.0714285746216774",
         "1.0",
         "0.0714285746216774",
         "0.0",
         "0.0",
         "1.0",
         "0.0714285746216774",
         "1.0",
         "0.0714285746216774",
         "3.0",
         "0.2142857164144516",
         "2.0",
         "0.1428571492433548",
         "7.0",
         "0.5",
         "6.0",
         "0.4285714328289032",
         "9.0",
         "0.6428571343421936",
         "6.0",
         "0.4285714328289032",
         "7.0",
         "0.5",
         "2.0",
         "0.1428571492433548",
         "2.0",
         "0.1428571492433548",
         "2.0",
         "0.1428571492433548",
         "2.0",
         "0.1428571492433548",
         "2.0",
         "0.1428571492433548",
         "1.0",
         "0.0714285746216774",
         "1.0",
         "0.0714285746216774",
         "3.0",
         "0.2142857164144516",
         "3.0",
         "0.2142857164144516",
         "5.0",
         "0.3571428656578064",
         "0.0",
         "0.0",
         "1.0",
         "0.0714285746216774",
         "1.0",
         "0.0714285746216774",
         "1.0",
         "0.0714285746216774",
         "1.0",
         "0.0714285746216774",
         "1.0",
         "0.0714285746216774",
         "1.0",
         "0.0714285746216774",
         "0.0",
         "0.0",
         "4.0",
         "0.2857142984867096",
         null,
         null,
         null,
         null,
         "15.0",
         "3.0",
         "0.2000000029802322",
         "2.0",
         "0.1333333402872086",
         "3.0",
         "0.2000000029802322",
         "1.0",
         "0.0666666701436043",
         "1.0",
         "0.0666666701436043",
         "4.0",
         "0.2666666805744171",
         "2.0",
         "0.1333333402872086",
         "3.0",
         "0.2000000029802322",
         "0.0",
         "0.0",
         "1.0",
         "0.0666666701436043",
         "1.0",
         "0.0666666701436043",
         "2.0",
         "0.1333333402872086",
         "1.0",
         "0.0666666701436043",
         "1.0",
         "0.0666666701436043",
         "0.0",
         "0.0",
         "9.0",
         "0.6000000238418579",
         "3.0",
         "0.2000000029802322",
         "10.0",
         "0.6666666865348816",
         "4.0",
         "0.2666666805744171",
         "4.0",
         "0.2666666805744171",
         "4.0",
         "0.2666666805744171",
         "1.0",
         "0.0666666701436043",
         "1.0",
         "0.0666666701436043",
         "1.0",
         "0.0666666701436043",
         "0.0",
         "0.0",
         "0.0",
         "0.0",
         "0.0",
         "0.0",
         "1.0",
         "0.0666666701436043",
         "1.0",
         "0.0666666701436043",
         "2.0",
         "0.1333333402872086",
         "0.0",
         "0.0",
         "1.0",
         "0.0666666701436043",
         "2.0",
         "0.1333333402872086",
         "0.0",
         "0.0",
         "0.0",
         "0.0",
         "1.0",
         "0.0666666701436043",
         "2.0",
         "0.1333333402872086",
         "0.0",
         "0.0",
         "3.0",
         "0.2000000029802322",
         null,
         null,
         null,
         null,
         "14.0",
         "3.0",
         "0.2142857164144516",
         "1.0",
         "0.0714285746216774",
         "2.0",
         "0.1428571492433548",
         "1.0",
         "0.0714285746216774",
         "1.0",
         "0.0714285746216774",
         "1.0",
         "0.0714285746216774",
         "1.0",
         "0.0714285746216774",
         "3.0",
         "0.2142857164144516",
         "0.0",
         "0.0",
         "1.0",
         "0.0714285746216774",
         "0.0",
         "0.0",
         "1.0",
         "0.0714285746216774",
         "1.0",
         "0.0714285746216774",
         "3.0",
         "0.2142857164144516",
         "1.0",
         "0.0714285746216774",
         "7.0",
         "0.5",
         "2.0",
         "0.1428571492433548",
         "9.0",
         "0.6428571343421936",
         "6.0",
         "0.4285714328289032",
         "6.0",
         "0.4285714328289032",
         "1.0",
         "0.0714285746216774",
         "2.0",
         "0.1428571492433548",
         "1.0",
         "0.0714285746216774",
         "2.0",
         "0.1428571492433548",
         "2.0",
         "0.1428571492433548",
         "3.0",
         "0.2142857164144516",
         "1.0",
         "0.0714285746216774",
         "1.0",
         "0.0714285746216774",
         "1.0",
         "0.0714285746216774",
         "3.0",
         "0.2142857164144516",
         "1.0",
         "0.0714285746216774",
         "1.0",
         "0.0714285746216774",
         "1.0",
         "0.0714285746216774",
         "1.0",
         "0.0714285746216774",
         "1.0",
         "0.0714285746216774",
         "1.0",
         "0.0714285746216774",
         "1.0",
         "0.0714285746216774",
         "1.0",
         "0.0714285746216774",
         "2.0",
         "0.1428571492433548",
         null,
         null,
         null,
         null,
         null,
         null,
         null,
         null,
         null,
         null,
         null,
         null,
         null,
         null,
         null,
         null,
         null,
         null,
         null,
         null,
         null,
         null,
         null,
         null,
         null,
         null,
         null,
         null,
         null,
         null,
         null,
         null,
         null,
         null,
         null,
         null,
         null,
         null,
         null,
         null,
         null,
         null,
         null,
         null,
         null,
         null,
         null,
         null,
         null,
         null,
         null,
         null,
         null,
         null,
         null,
         null,
         null,
         null,
         null,
         null,
         null,
         null,
         null,
         null,
         null,
         null,
         null,
         null,
         null,
         null,
         null,
         null,
         null,
         null,
         null,
         null,
         null,
         null,
         null,
         null,
         null,
         null,
         null,
         null,
         null,
         null,
         null,
         null,
         null,
         null,
         null,
         null,
         null,
         null,
         null,
         null,
         null,
         null,
         null,
         null,
         null,
         null,
         null,
         null,
         null,
         null,
         null,
         null,
         null,
         null,
         null,
         null,
         null,
         null,
         null,
         null,
         null,
         null,
         null,
         null,
         null,
         null,
         null,
         null,
         null,
         null,
         null,
         null,
         null,
         null,
         null,
         null,
         null,
         null,
         null,
         null,
         null,
         null,
         null,
         null,
         null,
         null,
         null,
         null,
         null,
         null,
         null,
         null,
         null,
         null,
         null,
         null,
         null,
         null,
         null,
         null,
         null,
         null,
         null,
         null,
         null,
         null,
         null,
         null,
         null,
         null,
         null,
         null,
         null,
         null,
         null,
         null,
         null,
         null,
         null,
         null,
         null,
         null,
         null,
         null,
         null,
         null,
         null,
         null,
         null,
         null,
         null,
         null,
         null,
         null,
         null,
         null,
         null,
         null,
         null,
         null,
         null,
         null,
         null,
         null,
         null,
         null,
         null,
         null,
         null,
         null,
         null,
         null,
         null,
         null,
         null,
         null,
         null,
         null,
         null,
         null,
         null,
         null,
         null,
         null,
         null,
         null,
         null,
         null,
         null,
         null,
         null,
         null,
         null,
         null,
         null,
         null,
         null,
         null,
         null,
         null,
         null,
         null,
         null,
         null,
         null,
         null,
         null,
         null,
         null,
         null,
         null,
         null,
         null,
         null,
         null,
         null,
         null,
         null,
         null,
         null,
         null,
         null,
         null,
         null,
         null,
         null,
         null,
         null,
         null,
         null,
         null,
         null,
         null,
         null,
         null,
         null,
         null,
         null,
         null,
         null
        ],
        [
         "4",
         "Angola",
         "2022",
         "AGO2022",
         "AGO",
         "24.0",
         "540.0",
         "1",
         "10",
         "5",
         "0.5",
         "3",
         "0.300000011920929",
         "1",
         "0.1000000014901161",
         "1",
         "0.1000000014901161",
         "2",
         "0.2000000029802322",
         "1",
         "0.1000000014901161",
         "0",
         "0.0",
         "3",
         "0.300000011920929",
         "0",
         "0.0",
         "5",
         "0.5",
         "0",
         "0.0",
         "3",
         "0.300000011920929",
         "5",
         "0.5",
         "5",
         "0.5",
         "3",
         "0.300000011920929",
         "0",
         "0.0",
         "1",
         "0.1000000014901161",
         "3",
         "0.300000011920929",
         "1",
         "0.1000000014901161",
         "0",
         "0.0",
         "0",
         "0.0",
         "0",
         "0.0",
         "2",
         "0.2000000029802322",
         "4",
         "0.4000000059604645",
         "3",
         "0.300000011920929",
         "2",
         "0.2000000029802322",
         "3",
         "0.300000011920929",
         "4",
         "0.4000000059604645",
         "0",
         "0.0",
         "0",
         "0.0",
         "0",
         "0.0",
         "4.0",
         "0.4000000059604645",
         "3.0",
         "0.300000011920929",
         "1.0",
         "0.1000000014901161",
         "4.0",
         "0.4000000059604645",
         "2.0",
         "0.2000000029802322",
         "3.0",
         "0.300000011920929",
         "0.0",
         "0.0",
         "1.0",
         "0.1000000014901161",
         "4.0",
         "0.40000001",
         "1.0",
         "0.1",
         "10",
         "5",
         "0.5",
         "2",
         "0.2000000029802322",
         "2",
         "0.2000000029802322",
         "0",
         "0.0",
         "1",
         "0.1000000014901161",
         "1",
         "0.1000000014901161",
         "2",
         "0.2000000029802322",
         "2",
         "0.2000000029802322",
         "0",
         "0.0",
         "4",
         "0.4000000059604645",
         "1",
         "0.1000000014901161",
         "4",
         "0.4000000059604645",
         "1",
         "0.1000000014901161",
         "4",
         "0.4000000059604645",
         "2",
         "0.2000000029802322",
         "0",
         "0.0",
         "1",
         "0.1000000014901161",
         "2",
         "0.2000000029802322",
         "1",
         "0.1000000014901161",
         "1",
         "0.1000000014901161",
         "0",
         "0.0",
         "0",
         "0.0",
         "2",
         "0.2000000029802322",
         "3",
         "0.300000011920929",
         "3",
         "0.300000011920929",
         "2",
         "0.2000000029802322",
         "3",
         "0.300000011920929",
         "3",
         "0.300000011920929",
         "1",
         "0.1000000014901161",
         "1",
         "0.1000000014901161",
         "1",
         "0.1000000014901161",
         "2.0",
         "0.2000000029802322",
         "4.0",
         "0.4000000059604645",
         "2.0",
         "0.2000000029802322",
         "3.0",
         "0.300000011920929",
         "1.0",
         "0.1000000014901161",
         "2.0",
         "0.2000000029802322",
         "0.0",
         "0.0",
         "1.0",
         "0.1000000014901161",
         "0.0",
         "0.0",
         "0.0",
         "0.0",
         "10",
         "5",
         "0.5",
         "2",
         "0.2000000029802322",
         "1",
         "0.1000000014901161",
         "1",
         "0.1000000014901161",
         "3",
         "0.300000011920929",
         "1",
         "0.1000000014901161",
         "1",
         "0.1000000014901161",
         "1",
         "0.1000000014901161",
         "0",
         "0.0",
         "4",
         "0.4000000059604645",
         "0",
         "0.0",
         "3",
         "0.300000011920929",
         "3",
         "0.300000011920929",
         "3",
         "0.300000011920929",
         "2",
         "0.2000000029802322",
         "1",
         "0.1000000014901161",
         "1",
         "0.1000000014901161",
         "1",
         "0.1000000014901161",
         "1",
         "0.1000000014901161",
         "1",
         "0.1000000014901161",
         "0",
         "0.0",
         "0",
         "0.0",
         "1",
         "0.1000000014901161",
         "2",
         "0.2000000029802322",
         "1",
         "0.1000000014901161",
         "2",
         "0.2000000029802322",
         "3",
         "0.300000011920929",
         "3",
         "0.300000011920929",
         "1",
         "0.1000000014901161",
         "1",
         "0.1000000014901161",
         "1",
         "0.1000000014901161",
         "2.0",
         "0.2000000029802322",
         "5.0",
         "0.5",
         "2.0",
         "0.2000000029802322",
         "2.0",
         "0.2000000029802322",
         "1.0",
         "0.1000000014901161",
         "2.0",
         "0.2000000029802322",
         "0.0",
         "0.0",
         "1.0",
         "0.1000000014901161",
         "1.0",
         "0.1",
         "1.0",
         "0.1",
         "10",
         "4",
         "0.4000000059604645",
         "4",
         "0.4000000059604645",
         "1",
         "0.1000000014901161",
         "1",
         "0.1000000014901161",
         "0",
         "0.0",
         "0",
         "0.0",
         "0",
         "0.0",
         "1",
         "0.1000000014901161",
         "0",
         "0.0",
         "4",
         "0.4000000059604645",
         "1",
         "0.1000000014901161",
         "2",
         "0.2000000029802322",
         "2",
         "0.2000000029802322",
         "6",
         "0.6000000238418579",
         "3",
         "0.300000011920929",
         "2",
         "0.2000000029802322",
         "2",
         "0.2000000029802322",
         "4",
         "0.4000000059604645",
         "3",
         "0.300000011920929",
         "4",
         "0.4000000059604645",
         "0",
         "0.0",
         "0",
         "0.0",
         "1",
         "0.1000000014901161",
         "2",
         "0.2000000029802322",
         "2",
         "0.2000000029802322",
         "5",
         "0.5",
         "2",
         "0.2000000029802322",
         "3",
         "0.300000011920929",
         "0",
         "0.0",
         "1",
         "0.1000000014901161",
         "1",
         "0.1000000014901161",
         "2.0",
         "0.2000000029802322",
         "3.0",
         "0.300000011920929",
         "2.0",
         "0.2000000029802322",
         "4.0",
         "0.4000000059604645",
         "3.0",
         "0.300000011920929",
         "3.0",
         "0.300000011920929",
         "0.0",
         "0.0",
         "1.0",
         "0.1000000014901161",
         "0.0",
         "0.0",
         "2.0",
         "0.2",
         "10.0",
         "5.0",
         "0.5",
         "3.0",
         "0.300000011920929",
         "1.0",
         "0.1000000014901161",
         "0.0",
         "0.0",
         "0.0",
         "0.0",
         "1.0",
         "0.1000000014901161",
         "0.0",
         "0.0",
         "2.0",
         "0.2000000029802322",
         "0.0",
         "0.0",
         "4.0",
         "0.4000000059604645",
         "0.0",
         "0.0",
         "1.0",
         "0.1000000014901161",
         "2.0",
         "0.2000000029802322",
         "6.0",
         "0.6000000238418579",
         "3.0",
         "0.300000011920929",
         "5.0",
         "0.5",
         "2.0",
         "0.2000000029802322",
         "5.0",
         "0.5",
         "4.0",
         "0.4000000059604645",
         "5.0",
         "0.5",
         "1.0",
         "0.1000000014901161",
         "1.0",
         "0.1000000014901161",
         "2.0",
         "0.2000000029802322",
         "4.0",
         "0.4000000059604645",
         "3.0",
         "0.300000011920929",
         "6.0",
         "0.6000000238418579",
         "3.0",
         "0.300000011920929",
         "3.0",
         "0.300000011920929",
         "2.0",
         "0.2000000029802322",
         "1.0",
         "0.1000000014901161",
         "1.0",
         "0.1000000014901161",
         "2.0",
         "0.2000000029802322",
         "2.0",
         "0.2000000029802322",
         "2.0",
         "0.2000000029802322",
         "3.0",
         "0.300000011920929",
         "3.0",
         "0.300000011920929",
         "3.0",
         "0.300000011920929",
         "0.0",
         "0.0",
         "1.0",
         "0.1000000014901161",
         "1.0",
         "0.1",
         "3.0",
         "0.30000001",
         "11.0",
         "0.0",
         "0.0",
         "1.0",
         "0.0909090936183929",
         "1.0",
         "0.0909090936183929",
         "0.0",
         "0.0",
         "1.0",
         "0.0909090936183929",
         "1.0",
         "0.0909090936183929",
         "0.0",
         "0.0",
         "1.0",
         "0.0909090936183929",
         "1.0",
         "0.0909090936183929",
         "5.0",
         "0.4545454680919647",
         "1.0",
         "0.0909090936183929",
         "4.0",
         "0.3636363744735718",
         "2.0",
         "0.1818181872367859",
         "2.0",
         "0.1818181872367859",
         "2.0",
         "0.1818181872367859",
         "6.0",
         "0.5454545617103577",
         "5.0",
         "0.4545454680919647",
         "10.0",
         "0.9090909361839294",
         "7.0",
         "0.6363636255264282",
         "8.0",
         "0.7272727489471436",
         "5.0",
         "0.4545454680919647",
         "3.0",
         "0.2727272808551788",
         "5.0",
         "0.4545454680919647",
         "1.0",
         "0.0909090936183929",
         "1.0",
         "0.0909090936183929",
         "5.0",
         "0.4545454680919647",
         "4.0",
         "0.3636363744735718",
         "4.0",
         "0.3636363744735718",
         "3.0",
         "0.2727272808551788",
         "2.0",
         "0.1818181872367859",
         "0.0",
         "0.0",
         "2.0",
         "0.1818181872367859",
         "2.0",
         "0.1818181872367859",
         "0.0",
         "0.0",
         "2.0",
         "0.1818181872367859",
         "0.0",
         "0.0",
         "2.0",
         "0.1818181872367859",
         "0.0",
         "0.0",
         "3.0",
         "0.2727272808551788",
         "0.0",
         "0.0",
         "3.0",
         "0.27272728",
         "10.0",
         "0.0",
         "0.0",
         "0.0",
         "0.0",
         "1.0",
         "0.1000000014901161",
         "0.0",
         "0.0",
         "0.0",
         "0.0",
         "0.0",
         "0.0",
         "0.0",
         "0.0",
         "0.0",
         "0.0",
         "1.0",
         "0.1000000014901161",
         "0.0",
         "0.0",
         "0.0",
         "0.0",
         "0.0",
         "0.0",
         "0.0",
         "0.0",
         "1.0",
         "0.1000000014901161",
         "0.0",
         "0.0",
         "7.0",
         "0.699999988079071",
         "3.0",
         "0.300000011920929",
         "9.0",
         "0.8999999761581421",
         "5.0",
         "0.5",
         "7.0",
         "0.699999988079071",
         "4.0",
         "0.4000000059604645",
         "3.0",
         "0.300000011920929",
         "2.0",
         "0.2000000029802322",
         "2.0",
         "0.2000000029802322",
         "1.0",
         "0.1000000014901161",
         "3.0",
         "0.300000011920929",
         "2.0",
         "0.2000000029802322",
         "2.0",
         "0.2000000029802322",
         "3.0",
         "0.300000011920929",
         "4.0",
         "0.4000000059604645",
         "0.0",
         "0.0",
         "1.0",
         "0.1000000014901161",
         "3.0",
         "0.300000011920929",
         "0.0",
         "0.0",
         "1.0",
         "0.1000000014901161",
         "1.0",
         "0.1000000014901161",
         "0.0",
         "0.0",
         "0.0",
         "0.0",
         "3.0",
         "0.300000011920929",
         "0.0",
         "0.0",
         "0.0",
         "0.0",
         "10.0",
         "1.0",
         "0.1000000014901161",
         "0.0",
         "0.0",
         "2.0",
         "0.2000000029802322",
         "0.0",
         "0.0",
         "0.0",
         "0.0",
         "0.0",
         "0.0",
         "0.0",
         "0.0",
         "1.0",
         "0.1000000014901161",
         "0.0",
         "0.0",
         "0.0",
         "0.0",
         "0.0",
         "0.0",
         "0.0",
         "0.0",
         "0.0",
         "0.0",
         "0.0",
         "0.0",
         "0.0",
         "0.0",
         "5.0",
         "0.5",
         "2.0",
         "0.2000000029802322",
         "6.0",
         "0.6000000238418579",
         "3.0",
         "0.300000011920929",
         "5.0",
         "0.5",
         "3.0",
         "0.300000011920929",
         "1.0",
         "0.1000000014901161",
         "4.0",
         "0.4000000059604645",
         "0.0",
         "0.0",
         "0.0",
         "0.0",
         "2.0",
         "0.2000000029802322",
         "1.0",
         "0.1000000014901161",
         "1.0",
         "0.1000000014901161",
         "1.0",
         "0.1000000014901161",
         "1.0",
         "0.1000000014901161",
         "0.0",
         "0.0",
         "0.0",
         "0.0",
         "0.0",
         "0.0",
         "0.0",
         "0.0",
         "0.0",
         "0.0",
         "0.0",
         "0.0",
         "0.0",
         "0.0",
         "0.0",
         "0.0",
         "0.0",
         "0.0",
         "0.0",
         "0.0",
         "0.0",
         "0.0",
         "0",
         "0",
         null,
         "0",
         null,
         "0",
         null,
         "0",
         null,
         "0",
         null,
         "0",
         null,
         "0",
         null,
         "0",
         null,
         "0",
         null,
         "0",
         null,
         "0",
         null,
         "0",
         null,
         "0",
         null,
         "0",
         null,
         "0",
         null,
         "0",
         null,
         "0",
         null,
         "0",
         null,
         "0",
         null,
         "0",
         null,
         "0",
         null,
         "0",
         null,
         "0",
         null,
         "0",
         null,
         "0",
         null,
         "0",
         null,
         "0",
         null,
         "0",
         null,
         "0",
         null,
         "0",
         null,
         "0",
         null,
         "0.0",
         null,
         "0.0",
         null,
         "0.0",
         null,
         "0.0",
         null,
         "0.0",
         null,
         "0.0",
         null,
         "0.0",
         null,
         "0.0",
         null,
         "0.0",
         null,
         "0.0",
         null,
         "10.0",
         "1.0",
         "0.1000000014901161",
         "0.0",
         "0.0",
         "0.0",
         "0.0",
         "0.0",
         "0.0",
         "0.0",
         "0.0",
         "0.0",
         "0.0",
         "0.0",
         "0.0",
         "0.0",
         "0.0",
         "0.0",
         "0.0",
         "1.0",
         "0.1000000014901161",
         "0.0",
         "0.0",
         "1.0",
         "0.1000000014901161",
         "0.0",
         "0.0",
         "0.0",
         "0.0",
         "0.0",
         "0.0",
         "3.0",
         "0.300000011920929",
         "1.0",
         "0.1000000014901161",
         "7.0",
         "0.699999988079071",
         "5.0",
         "0.5",
         "5.0",
         "0.5",
         "3.0",
         "0.300000011920929",
         "1.0",
         "0.1000000014901161",
         "2.0",
         "0.2000000029802322",
         "1.0",
         "0.1000000014901161",
         "0.0",
         "0.0",
         "2.0",
         "0.2000000029802322",
         "0.0",
         "0.0",
         "1.0",
         "0.1000000014901161",
         "1.0",
         "0.1000000014901161",
         "2.0",
         "0.2000000029802322",
         "1.0",
         "0.1000000014901161",
         "1.0",
         "0.1000000014901161",
         "0.0",
         "0.0",
         "0.0",
         "0.0",
         "0.0",
         "0.0",
         "0.0",
         "0.0",
         "0.0",
         "0.0",
         "0.0",
         "0.0",
         "1.0",
         "0.1000000014901161",
         "0.0",
         "0.0",
         "0.0",
         "0.0",
         "10.0",
         "4.0",
         "0.4000000059604645",
         "1.0",
         "0.1000000014901161",
         "0.0",
         "0.0",
         "1.0",
         "0.1000000014901161",
         "1.0",
         "0.1000000014901161",
         "2.0",
         "0.2000000029802322",
         "1.0",
         "0.1000000014901161",
         "1.0",
         "0.1000000014901161",
         "1.0",
         "0.1000000014901161",
         "3.0",
         "0.300000011920929",
         "0.0",
         "0.0",
         "2.0",
         "0.2000000029802322",
         "1.0",
         "0.1000000014901161",
         "2.0",
         "0.2000000029802322",
         "1.0",
         "0.1000000014901161",
         "5.0",
         "0.5",
         "4.0",
         "0.4000000059604645",
         "5.0",
         "0.5",
         "4.0",
         "0.4000000059604645",
         "5.0",
         "0.5",
         "3.0",
         "0.300000011920929",
         "1.0",
         "0.1000000014901161",
         "1.0",
         "0.1000000014901161",
         "2.0",
         "0.2000000029802322",
         "2.0",
         "0.2000000029802322",
         "2.0",
         "0.2000000029802322",
         "2.0",
         "0.2000000029802322",
         "2.0",
         "0.2000000029802322",
         "3.0",
         "0.300000011920929",
         "3.0",
         "0.300000011920929",
         "0.0",
         "0.0",
         "1.0",
         "0.1000000014901161",
         "1.0",
         "0.1000000014901161",
         "1.0",
         "0.1000000014901161",
         "2.0",
         "0.2000000029802322",
         "1.0",
         "0.1000000014901161",
         "1.0",
         "0.1000000014901161",
         "1.0",
         "0.1000000014901161",
         "2.0",
         "0.2000000029802322",
         "0.0",
         "0.0",
         "2.0",
         "0.2",
         "13.0",
         "2.0",
         "0.1538461595773697",
         "1.0",
         "0.0769230797886848",
         "1.0",
         "0.0769230797886848",
         "1.0",
         "0.0769230797886848",
         "1.0",
         "0.0769230797886848",
         "1.0",
         "0.0769230797886848",
         "1.0",
         "0.0769230797886848",
         "2.0",
         "0.1538461595773697",
         "1.0",
         "0.0769230797886848",
         "2.0",
         "0.1538461595773697",
         "0.0",
         "0.0",
         "1.0",
         "0.0769230797886848",
         "1.0",
         "0.0769230797886848",
         "1.0",
         "0.0769230797886848",
         "1.0",
         "0.0769230797886848",
         "9.0",
         "0.692307710647583",
         "4.0",
         "0.3076923191547394",
         "10.0",
         "0.7692307829856873",
         "9.0",
         "0.692307710647583",
         "7.0",
         "0.5384615659713745",
         "3.0",
         "0.2307692319154739",
         "1.0",
         "0.0769230797886848",
         "2.0",
         "0.1538461595773697",
         "2.0",
         "0.1538461595773697",
         "2.0",
         "0.1538461595773697",
         "2.0",
         "0.1538461595773697",
         "1.0",
         "0.0769230797886848",
         "1.0",
         "0.0769230797886848",
         "3.0",
         "0.2307692319154739",
         "2.0",
         "0.1538461595773697",
         "0.0",
         "0.0",
         "0.0",
         "0.0",
         "1.0",
         "0.0769230797886848",
         "1.0",
         "0.0769230797886848",
         "1.0",
         "0.0769230797886848",
         "1.0",
         "0.0769230797886848",
         "1.0",
         "0.0769230797886848",
         "0.0",
         "0.0",
         "1.0",
         "0.0769230797886848",
         "1.0",
         "0.07692308",
         "1.0",
         "0.07692308",
         "12.0",
         "6.0",
         "0.5",
         "1.0",
         "0.0833333358168602",
         "2.0",
         "0.1666666716337204",
         "0.0",
         "0.0",
         "1.0",
         "0.0833333358168602",
         "1.0",
         "0.0833333358168602",
         "1.0",
         "0.0833333358168602",
         "0.0",
         "0.0",
         "2.0",
         "0.1666666716337204",
         "1.0",
         "0.0833333358168602",
         "0.0",
         "0.0",
         "1.0",
         "0.0833333358168602",
         "1.0",
         "0.0833333358168602",
         "1.0",
         "0.0833333358168602",
         "1.0",
         "0.0833333358168602",
         "6.0",
         "0.5",
         "1.0",
         "0.0833333358168602",
         "7.0",
         "0.5833333134651184",
         "4.0",
         "0.3333333432674408",
         "4.0",
         "0.3333333432674408",
         "1.0",
         "0.0833333358168602",
         "1.0",
         "0.0833333358168602",
         "0.0",
         "0.0",
         "1.0",
         "0.0833333358168602",
         "1.0",
         "0.0833333358168602",
         "1.0",
         "0.0833333358168602",
         "0.0",
         "0.0",
         "0.0",
         "0.0",
         "2.0",
         "0.1666666716337204",
         "1.0",
         "0.0833333358168602",
         "0.0",
         "0.0",
         "1.0",
         "0.0833333358168602",
         "2.0",
         "0.1666666716337204",
         "0.0",
         "0.0",
         "1.0",
         "0.0833333358168602",
         "0.0",
         "0.0",
         "0.0",
         "0.0",
         "1.0",
         "0.0833333358168602",
         "0.0",
         "0.0",
         "1.0",
         "0.083333336",
         "0.0",
         "0.0",
         "0.0",
         "0.0",
         null,
         "0.0",
         null,
         "0.0",
         null,
         "0.0",
         null,
         "0.0",
         null,
         "0.0",
         null,
         "0.0",
         null,
         "0.0",
         null,
         "0.0",
         null,
         "0.0",
         null,
         "0.0",
         null,
         "0.0",
         null,
         "0.0",
         null,
         "0.0",
         null,
         "0.0",
         null,
         "0.0",
         null,
         "0.0",
         null,
         "0.0",
         null,
         "0.0",
         null,
         "0.0",
         null,
         "0.0",
         null,
         "0.0",
         null,
         "0.0",
         null,
         "0.0",
         null,
         "0.0",
         null,
         "0.0",
         null,
         "0.0",
         null,
         "0.0",
         null,
         "0.0",
         null,
         "0.0",
         null,
         "0.0",
         null,
         "0.0",
         null,
         "0.0",
         null,
         "0.0",
         null,
         "0.0",
         null,
         "0.0",
         null,
         "0.0",
         null,
         "0.0",
         null,
         "0.0",
         null,
         "0.0",
         null,
         "0.0",
         null,
         null,
         null,
         null,
         null,
         null,
         null,
         null,
         null,
         null,
         null,
         null,
         null,
         null,
         null,
         null,
         null,
         null,
         null,
         null,
         null,
         null,
         null,
         null,
         null,
         null,
         null,
         null,
         null,
         null,
         null,
         null,
         null,
         null,
         null,
         null,
         null,
         null,
         null,
         null,
         null,
         null,
         null,
         null,
         null,
         null,
         null,
         null,
         null,
         null,
         null,
         null,
         null,
         null,
         null,
         null,
         null,
         null,
         null,
         null,
         null,
         null,
         null,
         null,
         null,
         null,
         null,
         null,
         null,
         null,
         null,
         null,
         null,
         null,
         null,
         null,
         null,
         null,
         null,
         null,
         null,
         null,
         null,
         null,
         null,
         null,
         null,
         null,
         null,
         null,
         null,
         null,
         null,
         null,
         null,
         null,
         null,
         null,
         null,
         null,
         null,
         null,
         null,
         null,
         null,
         null,
         null,
         null,
         null,
         null,
         null,
         null,
         null,
         null,
         null,
         null,
         null,
         null,
         null,
         null,
         null,
         null,
         null,
         null,
         null,
         null,
         null,
         null,
         null,
         null,
         null,
         null,
         null,
         null,
         null,
         null,
         null,
         null,
         null,
         null,
         null,
         null,
         null,
         null,
         null,
         null,
         null,
         null,
         null,
         null,
         null,
         null,
         null,
         null,
         null,
         null,
         null,
         null,
         null,
         null,
         null,
         null,
         null,
         null,
         null,
         null,
         null,
         null,
         null,
         null,
         null,
         null,
         null,
         null,
         null,
         null,
         null,
         null,
         null,
         null,
         null,
         null,
         null,
         null,
         null,
         null,
         null,
         null,
         null,
         null
        ]
       ],
       "shape": {
        "columns": 1358,
        "rows": 5
       }
      },
      "text/html": [
       "<div>\n",
       "<style scoped>\n",
       "    .dataframe tbody tr th:only-of-type {\n",
       "        vertical-align: middle;\n",
       "    }\n",
       "\n",
       "    .dataframe tbody tr th {\n",
       "        vertical-align: top;\n",
       "    }\n",
       "\n",
       "    .dataframe thead th {\n",
       "        text-align: right;\n",
       "    }\n",
       "</style>\n",
       "<table border=\"1\" class=\"dataframe\">\n",
       "  <thead>\n",
       "    <tr style=\"text-align: right;\">\n",
       "      <th></th>\n",
       "      <th>country</th>\n",
       "      <th>year</th>\n",
       "      <th>countryyear</th>\n",
       "      <th>iso3c</th>\n",
       "      <th>iso3n</th>\n",
       "      <th>cowcode</th>\n",
       "      <th>hrmicode</th>\n",
       "      <th>food_total_atrisk_resp</th>\n",
       "      <th>food_atrisk_count1</th>\n",
       "      <th>food_atrisk_prop1</th>\n",
       "      <th>...</th>\n",
       "      <th>union_atrisk_count27</th>\n",
       "      <th>union_atrisk_prop27</th>\n",
       "      <th>union_atrisk_count28</th>\n",
       "      <th>union_atrisk_prop28</th>\n",
       "      <th>union_atrisk_count29</th>\n",
       "      <th>union_atrisk_prop29</th>\n",
       "      <th>union_atrisk_count30</th>\n",
       "      <th>union_atrisk_prop30</th>\n",
       "      <th>union_atrisk_count31</th>\n",
       "      <th>union_atrisk_prop31</th>\n",
       "    </tr>\n",
       "  </thead>\n",
       "  <tbody>\n",
       "    <tr>\n",
       "      <th>0</th>\n",
       "      <td>Angola</td>\n",
       "      <td>2018</td>\n",
       "      <td>AGO2018</td>\n",
       "      <td>AGO</td>\n",
       "      <td>24.0</td>\n",
       "      <td>540.0</td>\n",
       "      <td>1</td>\n",
       "      <td>11</td>\n",
       "      <td>3</td>\n",
       "      <td>0.272727</td>\n",
       "      <td>...</td>\n",
       "      <td>1.0</td>\n",
       "      <td>0.090909</td>\n",
       "      <td>2.0</td>\n",
       "      <td>0.181818</td>\n",
       "      <td>3.0</td>\n",
       "      <td>0.272727</td>\n",
       "      <td>4.0</td>\n",
       "      <td>0.363636</td>\n",
       "      <td>1.0</td>\n",
       "      <td>0.090909</td>\n",
       "    </tr>\n",
       "    <tr>\n",
       "      <th>1</th>\n",
       "      <td>Angola</td>\n",
       "      <td>2019</td>\n",
       "      <td>AGO2019</td>\n",
       "      <td>AGO</td>\n",
       "      <td>24.0</td>\n",
       "      <td>540.0</td>\n",
       "      <td>1</td>\n",
       "      <td>14</td>\n",
       "      <td>3</td>\n",
       "      <td>0.214286</td>\n",
       "      <td>...</td>\n",
       "      <td>NaN</td>\n",
       "      <td>NaN</td>\n",
       "      <td>NaN</td>\n",
       "      <td>NaN</td>\n",
       "      <td>NaN</td>\n",
       "      <td>NaN</td>\n",
       "      <td>NaN</td>\n",
       "      <td>NaN</td>\n",
       "      <td>NaN</td>\n",
       "      <td>NaN</td>\n",
       "    </tr>\n",
       "    <tr>\n",
       "      <th>2</th>\n",
       "      <td>Angola</td>\n",
       "      <td>2020</td>\n",
       "      <td>AGO2020</td>\n",
       "      <td>AGO</td>\n",
       "      <td>24.0</td>\n",
       "      <td>540.0</td>\n",
       "      <td>1</td>\n",
       "      <td>13</td>\n",
       "      <td>3</td>\n",
       "      <td>0.230769</td>\n",
       "      <td>...</td>\n",
       "      <td>NaN</td>\n",
       "      <td>NaN</td>\n",
       "      <td>NaN</td>\n",
       "      <td>NaN</td>\n",
       "      <td>NaN</td>\n",
       "      <td>NaN</td>\n",
       "      <td>NaN</td>\n",
       "      <td>NaN</td>\n",
       "      <td>NaN</td>\n",
       "      <td>NaN</td>\n",
       "    </tr>\n",
       "    <tr>\n",
       "      <th>3</th>\n",
       "      <td>Angola</td>\n",
       "      <td>2021</td>\n",
       "      <td>AGO2021</td>\n",
       "      <td>AGO</td>\n",
       "      <td>24.0</td>\n",
       "      <td>540.0</td>\n",
       "      <td>1</td>\n",
       "      <td>12</td>\n",
       "      <td>6</td>\n",
       "      <td>0.500000</td>\n",
       "      <td>...</td>\n",
       "      <td>NaN</td>\n",
       "      <td>NaN</td>\n",
       "      <td>NaN</td>\n",
       "      <td>NaN</td>\n",
       "      <td>NaN</td>\n",
       "      <td>NaN</td>\n",
       "      <td>NaN</td>\n",
       "      <td>NaN</td>\n",
       "      <td>NaN</td>\n",
       "      <td>NaN</td>\n",
       "    </tr>\n",
       "    <tr>\n",
       "      <th>4</th>\n",
       "      <td>Angola</td>\n",
       "      <td>2022</td>\n",
       "      <td>AGO2022</td>\n",
       "      <td>AGO</td>\n",
       "      <td>24.0</td>\n",
       "      <td>540.0</td>\n",
       "      <td>1</td>\n",
       "      <td>10</td>\n",
       "      <td>5</td>\n",
       "      <td>0.500000</td>\n",
       "      <td>...</td>\n",
       "      <td>NaN</td>\n",
       "      <td>NaN</td>\n",
       "      <td>NaN</td>\n",
       "      <td>NaN</td>\n",
       "      <td>NaN</td>\n",
       "      <td>NaN</td>\n",
       "      <td>NaN</td>\n",
       "      <td>NaN</td>\n",
       "      <td>NaN</td>\n",
       "      <td>NaN</td>\n",
       "    </tr>\n",
       "  </tbody>\n",
       "</table>\n",
       "<p>5 rows × 1358 columns</p>\n",
       "</div>"
      ],
      "text/plain": [
       "  country  year countryyear iso3c  iso3n  cowcode  hrmicode  \\\n",
       "0  Angola  2018     AGO2018   AGO   24.0    540.0         1   \n",
       "1  Angola  2019     AGO2019   AGO   24.0    540.0         1   \n",
       "2  Angola  2020     AGO2020   AGO   24.0    540.0         1   \n",
       "3  Angola  2021     AGO2021   AGO   24.0    540.0         1   \n",
       "4  Angola  2022     AGO2022   AGO   24.0    540.0         1   \n",
       "\n",
       "   food_total_atrisk_resp  food_atrisk_count1  food_atrisk_prop1  ...  \\\n",
       "0                      11                   3           0.272727  ...   \n",
       "1                      14                   3           0.214286  ...   \n",
       "2                      13                   3           0.230769  ...   \n",
       "3                      12                   6           0.500000  ...   \n",
       "4                      10                   5           0.500000  ...   \n",
       "\n",
       "   union_atrisk_count27  union_atrisk_prop27  union_atrisk_count28  \\\n",
       "0                   1.0             0.090909                   2.0   \n",
       "1                   NaN                  NaN                   NaN   \n",
       "2                   NaN                  NaN                   NaN   \n",
       "3                   NaN                  NaN                   NaN   \n",
       "4                   NaN                  NaN                   NaN   \n",
       "\n",
       "   union_atrisk_prop28  union_atrisk_count29  union_atrisk_prop29  \\\n",
       "0             0.181818                   3.0             0.272727   \n",
       "1                  NaN                   NaN                  NaN   \n",
       "2                  NaN                   NaN                  NaN   \n",
       "3                  NaN                   NaN                  NaN   \n",
       "4                  NaN                   NaN                  NaN   \n",
       "\n",
       "   union_atrisk_count30  union_atrisk_prop30  union_atrisk_count31  \\\n",
       "0                   4.0             0.363636                   1.0   \n",
       "1                   NaN                  NaN                   NaN   \n",
       "2                   NaN                  NaN                   NaN   \n",
       "3                   NaN                  NaN                   NaN   \n",
       "4                   NaN                  NaN                   NaN   \n",
       "\n",
       "   union_atrisk_prop31  \n",
       "0             0.090909  \n",
       "1                  NaN  \n",
       "2                  NaN  \n",
       "3                  NaN  \n",
       "4                  NaN  \n",
       "\n",
       "[5 rows x 1358 columns]"
      ]
     },
     "execution_count": 8,
     "metadata": {},
     "output_type": "execute_result"
    }
   ],
   "source": [
    "people_at_risk = pd.read_csv('./people_at_risk.csv')\n",
    "people_at_risk.head()"
   ]
  },
  {
   "cell_type": "code",
   "execution_count": 9,
   "id": "5aa77fea",
   "metadata": {},
   "outputs": [
    {
     "data": {
      "application/vnd.microsoft.datawrangler.viewer.v0+json": {
       "columns": [
        {
         "name": "index",
         "rawType": "int64",
         "type": "integer"
        },
        {
         "name": "country",
         "rawType": "object",
         "type": "string"
        },
        {
         "name": "year",
         "rawType": "int64",
         "type": "integer"
        },
        {
         "name": "arrest_total_atrisk_resp",
         "rawType": "float64",
         "type": "float"
        },
        {
         "name": "arrest_atrisk_count1",
         "rawType": "float64",
         "type": "float"
        },
        {
         "name": "arrest_atrisk_prop1",
         "rawType": "float64",
         "type": "float"
        },
        {
         "name": "arrest_atrisk_count2",
         "rawType": "float64",
         "type": "float"
        },
        {
         "name": "arrest_atrisk_prop2",
         "rawType": "float64",
         "type": "float"
        },
        {
         "name": "arrest_atrisk_count3",
         "rawType": "float64",
         "type": "float"
        },
        {
         "name": "arrest_atrisk_prop3",
         "rawType": "float64",
         "type": "float"
        },
        {
         "name": "arrest_atrisk_count4",
         "rawType": "float64",
         "type": "float"
        },
        {
         "name": "arrest_atrisk_prop4",
         "rawType": "float64",
         "type": "float"
        },
        {
         "name": "arrest_atrisk_count5",
         "rawType": "float64",
         "type": "float"
        },
        {
         "name": "arrest_atrisk_prop5",
         "rawType": "float64",
         "type": "float"
        },
        {
         "name": "arrest_atrisk_count6",
         "rawType": "float64",
         "type": "float"
        },
        {
         "name": "arrest_atrisk_prop6",
         "rawType": "float64",
         "type": "float"
        },
        {
         "name": "arrest_atrisk_count7",
         "rawType": "float64",
         "type": "float"
        },
        {
         "name": "arrest_atrisk_prop7",
         "rawType": "float64",
         "type": "float"
        },
        {
         "name": "arrest_atrisk_count8",
         "rawType": "float64",
         "type": "float"
        },
        {
         "name": "arrest_atrisk_prop8",
         "rawType": "float64",
         "type": "float"
        },
        {
         "name": "arrest_atrisk_count9",
         "rawType": "float64",
         "type": "float"
        },
        {
         "name": "arrest_atrisk_prop9",
         "rawType": "float64",
         "type": "float"
        },
        {
         "name": "arrest_atrisk_count10",
         "rawType": "float64",
         "type": "float"
        },
        {
         "name": "arrest_atrisk_prop10",
         "rawType": "float64",
         "type": "float"
        },
        {
         "name": "arrest_atrisk_count11",
         "rawType": "float64",
         "type": "float"
        },
        {
         "name": "arrest_atrisk_prop11",
         "rawType": "float64",
         "type": "float"
        },
        {
         "name": "arrest_atrisk_count12",
         "rawType": "float64",
         "type": "float"
        },
        {
         "name": "arrest_atrisk_prop12",
         "rawType": "float64",
         "type": "float"
        },
        {
         "name": "arrest_atrisk_count13",
         "rawType": "float64",
         "type": "float"
        },
        {
         "name": "arrest_atrisk_prop13",
         "rawType": "float64",
         "type": "float"
        },
        {
         "name": "arrest_atrisk_count14",
         "rawType": "float64",
         "type": "float"
        },
        {
         "name": "arrest_atrisk_prop14",
         "rawType": "float64",
         "type": "float"
        },
        {
         "name": "arrest_atrisk_count15",
         "rawType": "float64",
         "type": "float"
        },
        {
         "name": "arrest_atrisk_prop15",
         "rawType": "float64",
         "type": "float"
        },
        {
         "name": "arrest_atrisk_count16",
         "rawType": "float64",
         "type": "float"
        },
        {
         "name": "arrest_atrisk_prop16",
         "rawType": "float64",
         "type": "float"
        },
        {
         "name": "arrest_atrisk_count17",
         "rawType": "float64",
         "type": "float"
        },
        {
         "name": "arrest_atrisk_prop17",
         "rawType": "float64",
         "type": "float"
        },
        {
         "name": "arrest_atrisk_count18",
         "rawType": "float64",
         "type": "float"
        },
        {
         "name": "arrest_atrisk_prop18",
         "rawType": "float64",
         "type": "float"
        },
        {
         "name": "arrest_atrisk_count19",
         "rawType": "float64",
         "type": "float"
        },
        {
         "name": "arrest_atrisk_prop19",
         "rawType": "float64",
         "type": "float"
        },
        {
         "name": "arrest_atrisk_count20",
         "rawType": "float64",
         "type": "float"
        },
        {
         "name": "arrest_atrisk_prop20",
         "rawType": "float64",
         "type": "float"
        },
        {
         "name": "arrest_atrisk_count21",
         "rawType": "float64",
         "type": "float"
        },
        {
         "name": "arrest_atrisk_prop21",
         "rawType": "float64",
         "type": "float"
        },
        {
         "name": "arrest_atrisk_count22",
         "rawType": "float64",
         "type": "float"
        },
        {
         "name": "arrest_atrisk_prop22",
         "rawType": "float64",
         "type": "float"
        },
        {
         "name": "arrest_atrisk_count23",
         "rawType": "float64",
         "type": "float"
        },
        {
         "name": "arrest_atrisk_prop23",
         "rawType": "float64",
         "type": "float"
        },
        {
         "name": "arrest_atrisk_count24",
         "rawType": "float64",
         "type": "float"
        },
        {
         "name": "arrest_atrisk_prop24",
         "rawType": "float64",
         "type": "float"
        },
        {
         "name": "arrest_atrisk_count25",
         "rawType": "float64",
         "type": "float"
        },
        {
         "name": "arrest_atrisk_prop25",
         "rawType": "float64",
         "type": "float"
        },
        {
         "name": "arrest_atrisk_count26",
         "rawType": "float64",
         "type": "float"
        },
        {
         "name": "arrest_atrisk_prop26",
         "rawType": "float64",
         "type": "float"
        },
        {
         "name": "arrest_atrisk_count27",
         "rawType": "float64",
         "type": "float"
        },
        {
         "name": "arrest_atrisk_prop27",
         "rawType": "float64",
         "type": "float"
        },
        {
         "name": "arrest_atrisk_count28",
         "rawType": "float64",
         "type": "float"
        },
        {
         "name": "arrest_atrisk_prop28",
         "rawType": "float64",
         "type": "float"
        },
        {
         "name": "arrest_atrisk_count29",
         "rawType": "float64",
         "type": "float"
        },
        {
         "name": "arrest_atrisk_prop29",
         "rawType": "float64",
         "type": "float"
        },
        {
         "name": "arrest_atrisk_count30",
         "rawType": "float64",
         "type": "float"
        },
        {
         "name": "arrest_atrisk_prop30",
         "rawType": "float64",
         "type": "float"
        },
        {
         "name": "arrest_atrisk_count31",
         "rawType": "float64",
         "type": "float"
        },
        {
         "name": "arrest_atrisk_prop31",
         "rawType": "float64",
         "type": "float"
        },
        {
         "name": "arrest_atrisk_count32",
         "rawType": "float64",
         "type": "float"
        },
        {
         "name": "arrest_atrisk_prop32",
         "rawType": "float64",
         "type": "float"
        },
        {
         "name": "arrest_atrisk_count33",
         "rawType": "float64",
         "type": "float"
        },
        {
         "name": "arrest_atrisk_prop33",
         "rawType": "float64",
         "type": "float"
        },
        {
         "name": "arrest_atrisk_count34",
         "rawType": "float64",
         "type": "float"
        },
        {
         "name": "arrest_atrisk_prop34",
         "rawType": "float64",
         "type": "float"
        },
        {
         "name": "arrest_atrisk_count35",
         "rawType": "float64",
         "type": "float"
        },
        {
         "name": "arrest_atrisk_prop35",
         "rawType": "float64",
         "type": "float"
        },
        {
         "name": "arrest_atrisk_count36",
         "rawType": "float64",
         "type": "float"
        },
        {
         "name": "arrest_atrisk_prop36",
         "rawType": "float64",
         "type": "float"
        },
        {
         "name": "arrest_atrisk_count37",
         "rawType": "float64",
         "type": "float"
        },
        {
         "name": "arrest_atrisk_prop37",
         "rawType": "float64",
         "type": "float"
        },
        {
         "name": "arrest_atrisk_count38",
         "rawType": "float64",
         "type": "float"
        },
        {
         "name": "arrest_atrisk_prop38",
         "rawType": "float64",
         "type": "float"
        },
        {
         "name": "arrest_atrisk_count39",
         "rawType": "float64",
         "type": "float"
        },
        {
         "name": "arrest_atrisk_prop39",
         "rawType": "float64",
         "type": "float"
        },
        {
         "name": "arrest_atrisk_count40",
         "rawType": "float64",
         "type": "float"
        },
        {
         "name": "arrest_atrisk_prop40",
         "rawType": "float64",
         "type": "float"
        },
        {
         "name": "arrest_atrisk_count41",
         "rawType": "float64",
         "type": "float"
        },
        {
         "name": "arrest_atrisk_prop41",
         "rawType": "float64",
         "type": "float"
        },
        {
         "name": "assem_total_atrisk_resp",
         "rawType": "float64",
         "type": "float"
        },
        {
         "name": "assem_atrisk_count1",
         "rawType": "float64",
         "type": "float"
        },
        {
         "name": "assem_atrisk_prop1",
         "rawType": "float64",
         "type": "float"
        },
        {
         "name": "assem_atrisk_count2",
         "rawType": "float64",
         "type": "float"
        },
        {
         "name": "assem_atrisk_prop2",
         "rawType": "float64",
         "type": "float"
        },
        {
         "name": "assem_atrisk_count3",
         "rawType": "float64",
         "type": "float"
        },
        {
         "name": "assem_atrisk_prop3",
         "rawType": "float64",
         "type": "float"
        },
        {
         "name": "assem_atrisk_count4",
         "rawType": "float64",
         "type": "float"
        },
        {
         "name": "assem_atrisk_prop4",
         "rawType": "float64",
         "type": "float"
        },
        {
         "name": "assem_atrisk_count5",
         "rawType": "float64",
         "type": "float"
        },
        {
         "name": "assem_atrisk_prop5",
         "rawType": "float64",
         "type": "float"
        },
        {
         "name": "assem_atrisk_count6",
         "rawType": "float64",
         "type": "float"
        },
        {
         "name": "assem_atrisk_prop6",
         "rawType": "float64",
         "type": "float"
        },
        {
         "name": "assem_atrisk_count7",
         "rawType": "float64",
         "type": "float"
        },
        {
         "name": "assem_atrisk_prop7",
         "rawType": "float64",
         "type": "float"
        },
        {
         "name": "assem_atrisk_count8",
         "rawType": "float64",
         "type": "float"
        },
        {
         "name": "assem_atrisk_prop8",
         "rawType": "float64",
         "type": "float"
        },
        {
         "name": "assem_atrisk_count9",
         "rawType": "float64",
         "type": "float"
        },
        {
         "name": "assem_atrisk_prop9",
         "rawType": "float64",
         "type": "float"
        },
        {
         "name": "assem_atrisk_count10",
         "rawType": "float64",
         "type": "float"
        },
        {
         "name": "assem_atrisk_prop10",
         "rawType": "float64",
         "type": "float"
        },
        {
         "name": "assem_atrisk_count11",
         "rawType": "float64",
         "type": "float"
        },
        {
         "name": "assem_atrisk_prop11",
         "rawType": "float64",
         "type": "float"
        },
        {
         "name": "assem_atrisk_count12",
         "rawType": "float64",
         "type": "float"
        },
        {
         "name": "assem_atrisk_prop12",
         "rawType": "float64",
         "type": "float"
        },
        {
         "name": "assem_atrisk_count13",
         "rawType": "float64",
         "type": "float"
        },
        {
         "name": "assem_atrisk_prop13",
         "rawType": "float64",
         "type": "float"
        },
        {
         "name": "assem_atrisk_count14",
         "rawType": "float64",
         "type": "float"
        },
        {
         "name": "assem_atrisk_prop14",
         "rawType": "float64",
         "type": "float"
        },
        {
         "name": "assem_atrisk_count15",
         "rawType": "float64",
         "type": "float"
        },
        {
         "name": "assem_atrisk_prop15",
         "rawType": "float64",
         "type": "float"
        },
        {
         "name": "assem_atrisk_count16",
         "rawType": "float64",
         "type": "float"
        },
        {
         "name": "assem_atrisk_prop16",
         "rawType": "float64",
         "type": "float"
        },
        {
         "name": "assem_atrisk_count17",
         "rawType": "float64",
         "type": "float"
        },
        {
         "name": "assem_atrisk_prop17",
         "rawType": "float64",
         "type": "float"
        },
        {
         "name": "assem_atrisk_count18",
         "rawType": "float64",
         "type": "float"
        },
        {
         "name": "assem_atrisk_prop18",
         "rawType": "float64",
         "type": "float"
        },
        {
         "name": "assem_atrisk_count19",
         "rawType": "float64",
         "type": "float"
        },
        {
         "name": "assem_atrisk_prop19",
         "rawType": "float64",
         "type": "float"
        },
        {
         "name": "assem_atrisk_count20",
         "rawType": "float64",
         "type": "float"
        },
        {
         "name": "assem_atrisk_prop20",
         "rawType": "float64",
         "type": "float"
        },
        {
         "name": "assem_atrisk_count21",
         "rawType": "float64",
         "type": "float"
        },
        {
         "name": "assem_atrisk_prop21",
         "rawType": "float64",
         "type": "float"
        },
        {
         "name": "assem_atrisk_count22",
         "rawType": "float64",
         "type": "float"
        },
        {
         "name": "assem_atrisk_prop22",
         "rawType": "float64",
         "type": "float"
        },
        {
         "name": "assem_atrisk_count23",
         "rawType": "float64",
         "type": "float"
        },
        {
         "name": "assem_atrisk_prop23",
         "rawType": "float64",
         "type": "float"
        },
        {
         "name": "assem_atrisk_count24",
         "rawType": "float64",
         "type": "float"
        },
        {
         "name": "assem_atrisk_prop24",
         "rawType": "float64",
         "type": "float"
        },
        {
         "name": "assem_atrisk_count25",
         "rawType": "float64",
         "type": "float"
        },
        {
         "name": "assem_atrisk_prop25",
         "rawType": "float64",
         "type": "float"
        },
        {
         "name": "assem_atrisk_count26",
         "rawType": "float64",
         "type": "float"
        },
        {
         "name": "assem_atrisk_prop26",
         "rawType": "float64",
         "type": "float"
        },
        {
         "name": "assem_atrisk_count27",
         "rawType": "float64",
         "type": "float"
        },
        {
         "name": "assem_atrisk_prop27",
         "rawType": "float64",
         "type": "float"
        },
        {
         "name": "assem_atrisk_count28",
         "rawType": "float64",
         "type": "float"
        },
        {
         "name": "assem_atrisk_prop28",
         "rawType": "float64",
         "type": "float"
        },
        {
         "name": "assem_atrisk_count29",
         "rawType": "float64",
         "type": "float"
        },
        {
         "name": "assem_atrisk_prop29",
         "rawType": "float64",
         "type": "float"
        },
        {
         "name": "assem_atrisk_count30",
         "rawType": "float64",
         "type": "float"
        },
        {
         "name": "assem_atrisk_prop30",
         "rawType": "float64",
         "type": "float"
        },
        {
         "name": "assem_atrisk_count31",
         "rawType": "float64",
         "type": "float"
        },
        {
         "name": "assem_atrisk_prop31",
         "rawType": "float64",
         "type": "float"
        },
        {
         "name": "assem_atrisk_count32",
         "rawType": "float64",
         "type": "float"
        },
        {
         "name": "assem_atrisk_prop32",
         "rawType": "float64",
         "type": "float"
        },
        {
         "name": "assem_atrisk_count33",
         "rawType": "float64",
         "type": "float"
        },
        {
         "name": "assem_atrisk_prop33",
         "rawType": "float64",
         "type": "float"
        },
        {
         "name": "assem_atrisk_count34",
         "rawType": "float64",
         "type": "float"
        },
        {
         "name": "assem_atrisk_prop34",
         "rawType": "float64",
         "type": "float"
        },
        {
         "name": "assem_atrisk_count35",
         "rawType": "float64",
         "type": "float"
        },
        {
         "name": "assem_atrisk_prop35",
         "rawType": "float64",
         "type": "float"
        },
        {
         "name": "assem_atrisk_count36",
         "rawType": "float64",
         "type": "float"
        },
        {
         "name": "assem_atrisk_prop36",
         "rawType": "float64",
         "type": "float"
        },
        {
         "name": "assem_atrisk_count37",
         "rawType": "float64",
         "type": "float"
        },
        {
         "name": "assem_atrisk_prop37",
         "rawType": "float64",
         "type": "float"
        },
        {
         "name": "assem_atrisk_count38",
         "rawType": "float64",
         "type": "float"
        },
        {
         "name": "assem_atrisk_prop38",
         "rawType": "float64",
         "type": "float"
        },
        {
         "name": "assem_atrisk_count39",
         "rawType": "float64",
         "type": "float"
        },
        {
         "name": "assem_atrisk_prop39",
         "rawType": "float64",
         "type": "float"
        },
        {
         "name": "assem_atrisk_count40",
         "rawType": "float64",
         "type": "float"
        },
        {
         "name": "assem_atrisk_prop40",
         "rawType": "float64",
         "type": "float"
        },
        {
         "name": "assem_atrisk_count41",
         "rawType": "float64",
         "type": "float"
        },
        {
         "name": "assem_atrisk_prop41",
         "rawType": "float64",
         "type": "float"
        },
        {
         "name": "polpart_total_atrisk_resp",
         "rawType": "float64",
         "type": "float"
        },
        {
         "name": "polpart_atrisk_count1",
         "rawType": "float64",
         "type": "float"
        },
        {
         "name": "polpart_atrisk_prop1",
         "rawType": "float64",
         "type": "float"
        },
        {
         "name": "polpart_atrisk_count2",
         "rawType": "float64",
         "type": "float"
        },
        {
         "name": "polpart_atrisk_prop2",
         "rawType": "float64",
         "type": "float"
        },
        {
         "name": "polpart_atrisk_count3",
         "rawType": "float64",
         "type": "float"
        },
        {
         "name": "polpart_atrisk_prop3",
         "rawType": "float64",
         "type": "float"
        },
        {
         "name": "polpart_atrisk_count4",
         "rawType": "float64",
         "type": "float"
        },
        {
         "name": "polpart_atrisk_prop4",
         "rawType": "float64",
         "type": "float"
        },
        {
         "name": "polpart_atrisk_count5",
         "rawType": "float64",
         "type": "float"
        },
        {
         "name": "polpart_atrisk_prop5",
         "rawType": "float64",
         "type": "float"
        },
        {
         "name": "polpart_atrisk_count6",
         "rawType": "float64",
         "type": "float"
        },
        {
         "name": "polpart_atrisk_prop6",
         "rawType": "float64",
         "type": "float"
        },
        {
         "name": "polpart_atrisk_count7",
         "rawType": "float64",
         "type": "float"
        },
        {
         "name": "polpart_atrisk_prop7",
         "rawType": "float64",
         "type": "float"
        },
        {
         "name": "polpart_atrisk_count8",
         "rawType": "float64",
         "type": "float"
        },
        {
         "name": "polpart_atrisk_prop8",
         "rawType": "float64",
         "type": "float"
        },
        {
         "name": "polpart_atrisk_count9",
         "rawType": "float64",
         "type": "float"
        },
        {
         "name": "polpart_atrisk_prop9",
         "rawType": "float64",
         "type": "float"
        },
        {
         "name": "polpart_atrisk_count10",
         "rawType": "float64",
         "type": "float"
        },
        {
         "name": "polpart_atrisk_prop10",
         "rawType": "float64",
         "type": "float"
        },
        {
         "name": "polpart_atrisk_count11",
         "rawType": "float64",
         "type": "float"
        },
        {
         "name": "polpart_atrisk_prop11",
         "rawType": "float64",
         "type": "float"
        },
        {
         "name": "polpart_atrisk_count12",
         "rawType": "float64",
         "type": "float"
        },
        {
         "name": "polpart_atrisk_prop12",
         "rawType": "float64",
         "type": "float"
        },
        {
         "name": "polpart_atrisk_count13",
         "rawType": "float64",
         "type": "float"
        },
        {
         "name": "polpart_atrisk_prop13",
         "rawType": "float64",
         "type": "float"
        },
        {
         "name": "polpart_atrisk_count14",
         "rawType": "float64",
         "type": "float"
        },
        {
         "name": "polpart_atrisk_prop14",
         "rawType": "float64",
         "type": "float"
        },
        {
         "name": "polpart_atrisk_count15",
         "rawType": "float64",
         "type": "float"
        },
        {
         "name": "polpart_atrisk_prop15",
         "rawType": "float64",
         "type": "float"
        },
        {
         "name": "polpart_atrisk_count16",
         "rawType": "float64",
         "type": "float"
        },
        {
         "name": "polpart_atrisk_prop16",
         "rawType": "float64",
         "type": "float"
        },
        {
         "name": "polpart_atrisk_count17",
         "rawType": "float64",
         "type": "float"
        },
        {
         "name": "polpart_atrisk_prop17",
         "rawType": "float64",
         "type": "float"
        },
        {
         "name": "polpart_atrisk_count18",
         "rawType": "float64",
         "type": "float"
        },
        {
         "name": "polpart_atrisk_prop18",
         "rawType": "float64",
         "type": "float"
        },
        {
         "name": "polpart_atrisk_count19",
         "rawType": "float64",
         "type": "float"
        },
        {
         "name": "polpart_atrisk_prop19",
         "rawType": "float64",
         "type": "float"
        },
        {
         "name": "polpart_atrisk_count20",
         "rawType": "float64",
         "type": "float"
        },
        {
         "name": "polpart_atrisk_prop20",
         "rawType": "float64",
         "type": "float"
        },
        {
         "name": "polpart_atrisk_count21",
         "rawType": "float64",
         "type": "float"
        },
        {
         "name": "polpart_atrisk_prop21",
         "rawType": "float64",
         "type": "float"
        },
        {
         "name": "polpart_atrisk_count22",
         "rawType": "float64",
         "type": "float"
        },
        {
         "name": "polpart_atrisk_prop22",
         "rawType": "float64",
         "type": "float"
        },
        {
         "name": "polpart_atrisk_count23",
         "rawType": "float64",
         "type": "float"
        },
        {
         "name": "polpart_atrisk_prop23",
         "rawType": "float64",
         "type": "float"
        },
        {
         "name": "polpart_atrisk_count24",
         "rawType": "float64",
         "type": "float"
        },
        {
         "name": "polpart_atrisk_prop24",
         "rawType": "float64",
         "type": "float"
        },
        {
         "name": "polpart_atrisk_count25",
         "rawType": "float64",
         "type": "float"
        },
        {
         "name": "polpart_atrisk_prop25",
         "rawType": "float64",
         "type": "float"
        },
        {
         "name": "polpart_atrisk_count26",
         "rawType": "float64",
         "type": "float"
        },
        {
         "name": "polpart_atrisk_prop26",
         "rawType": "float64",
         "type": "float"
        },
        {
         "name": "polpart_atrisk_count27",
         "rawType": "float64",
         "type": "float"
        },
        {
         "name": "polpart_atrisk_prop27",
         "rawType": "float64",
         "type": "float"
        },
        {
         "name": "polpart_atrisk_count28",
         "rawType": "float64",
         "type": "float"
        },
        {
         "name": "polpart_atrisk_prop28",
         "rawType": "float64",
         "type": "float"
        },
        {
         "name": "polpart_atrisk_count29",
         "rawType": "float64",
         "type": "float"
        },
        {
         "name": "polpart_atrisk_prop29",
         "rawType": "float64",
         "type": "float"
        },
        {
         "name": "polpart_atrisk_count30",
         "rawType": "float64",
         "type": "float"
        },
        {
         "name": "polpart_atrisk_prop30",
         "rawType": "float64",
         "type": "float"
        },
        {
         "name": "polpart_atrisk_count31",
         "rawType": "float64",
         "type": "float"
        },
        {
         "name": "polpart_atrisk_prop31",
         "rawType": "float64",
         "type": "float"
        },
        {
         "name": "polpart_atrisk_count32",
         "rawType": "float64",
         "type": "float"
        },
        {
         "name": "polpart_atrisk_prop32",
         "rawType": "float64",
         "type": "float"
        },
        {
         "name": "polpart_atrisk_count33",
         "rawType": "float64",
         "type": "float"
        },
        {
         "name": "polpart_atrisk_prop33",
         "rawType": "float64",
         "type": "float"
        },
        {
         "name": "polpart_atrisk_count34",
         "rawType": "float64",
         "type": "float"
        },
        {
         "name": "polpart_atrisk_prop34",
         "rawType": "float64",
         "type": "float"
        },
        {
         "name": "polpart_atrisk_count35",
         "rawType": "float64",
         "type": "float"
        },
        {
         "name": "polpart_atrisk_prop35",
         "rawType": "float64",
         "type": "float"
        },
        {
         "name": "polpart_atrisk_count36",
         "rawType": "float64",
         "type": "float"
        },
        {
         "name": "polpart_atrisk_prop36",
         "rawType": "float64",
         "type": "float"
        },
        {
         "name": "polpart_atrisk_count37",
         "rawType": "float64",
         "type": "float"
        },
        {
         "name": "polpart_atrisk_prop37",
         "rawType": "float64",
         "type": "float"
        },
        {
         "name": "polpart_atrisk_count38",
         "rawType": "float64",
         "type": "float"
        },
        {
         "name": "polpart_atrisk_prop38",
         "rawType": "float64",
         "type": "float"
        },
        {
         "name": "polpart_atrisk_count39",
         "rawType": "float64",
         "type": "float"
        },
        {
         "name": "polpart_atrisk_prop39",
         "rawType": "float64",
         "type": "float"
        },
        {
         "name": "polpart_atrisk_count40",
         "rawType": "float64",
         "type": "float"
        },
        {
         "name": "polpart_atrisk_prop40",
         "rawType": "float64",
         "type": "float"
        },
        {
         "name": "polpart_atrisk_count41",
         "rawType": "float64",
         "type": "float"
        },
        {
         "name": "polpart_atrisk_prop41",
         "rawType": "float64",
         "type": "float"
        }
       ],
       "conversionMethod": "pd.DataFrame",
       "ref": "b066ce98-7294-4d54-8989-9bc135a20cb9",
       "rows": [
        [
         "0",
         "Angola",
         "2018",
         "12.0",
         "0.0",
         "0.0",
         "0.0",
         "0.0",
         "0.0",
         "0.0",
         "0.0",
         "0.0",
         "0.0",
         "0.0",
         "5.0",
         "0.41666666",
         "3.0",
         "0.25",
         "3.0",
         "0.25",
         "1.0",
         "0.083333336",
         "6.0",
         "0.5",
         "1.0",
         "0.083333336",
         "0.0",
         "0.0",
         "0.0",
         "0.0",
         "0.0",
         "0.0",
         "0.0",
         "0.0",
         "6.0",
         "0.5",
         "5.0",
         "0.41666666",
         "7.0",
         "0.58333331",
         "2.0",
         "0.16666667",
         "9.0",
         "0.75",
         "4.0",
         "0.33333334",
         "5.0",
         "0.41666666",
         "5.0",
         "0.41666666",
         "7.0",
         "0.58333331",
         "8.0",
         "0.66666669",
         "6.0",
         "0.5",
         "1.0",
         "0.083333336",
         "4.0",
         "0.33333334",
         "3.0",
         "0.25",
         "2.0",
         "0.16666667",
         "0.0",
         "0.0",
         null,
         null,
         null,
         null,
         null,
         null,
         null,
         null,
         null,
         null,
         null,
         null,
         null,
         null,
         null,
         null,
         null,
         null,
         null,
         null,
         "12.0",
         "1.0",
         "0.083333336",
         "0.0",
         "0.0",
         "0.0",
         "0.0",
         "0.0",
         "0.0",
         "0.0",
         "0.0",
         "4.0",
         "0.33333334",
         "2.0",
         "0.16666667",
         "2.0",
         "0.16666667",
         "0.0",
         "0.0",
         "2.0",
         "0.16666667",
         "1.0",
         "0.083333336",
         "0.0",
         "0.0",
         "1.0",
         "0.083333336",
         "1.0",
         "0.083333336",
         "1.0",
         "0.083333336",
         "8.0",
         "0.66666669",
         "4.0",
         "0.33333334",
         "9.0",
         "0.75",
         "6.0",
         "0.5",
         "5.0",
         "0.41666666",
         "2.0",
         "0.16666667",
         "1.0",
         "0.083333336",
         "2.0",
         "0.16666667",
         "5.0",
         "0.41666666",
         "4.0",
         "0.33333334",
         "2.0",
         "0.16666667",
         "0.0",
         "0.0",
         "2.0",
         "0.16666667",
         "3.0",
         "0.25",
         "3.0",
         "0.25",
         "0.0",
         "0.0",
         null,
         null,
         null,
         null,
         null,
         null,
         null,
         null,
         null,
         null,
         null,
         null,
         null,
         null,
         null,
         null,
         null,
         null,
         null,
         null,
         "12.0",
         "1.0",
         "0.083333336",
         "2.0",
         "0.16666667",
         "2.0",
         "0.16666667",
         "0.0",
         "0.0",
         "3.0",
         "0.25",
         "2.0",
         "0.16666667",
         "2.0",
         "0.16666667",
         "4.0",
         "0.33333334",
         "2.0",
         "0.16666667",
         "2.0",
         "0.16666667",
         "1.0",
         "0.083333336",
         "1.0",
         "0.083333336",
         "3.0",
         "0.25",
         "2.0",
         "0.16666667",
         "1.0",
         "0.083333336",
         "6.0",
         "0.5",
         "4.0",
         "0.33333334",
         "5.0",
         "0.41666666",
         "2.0",
         "0.16666667",
         "5.0",
         "0.41666666",
         "1.0",
         "0.083333336",
         "1.0",
         "0.083333336",
         "1.0",
         "0.083333336",
         "2.0",
         "0.16666667",
         "2.0",
         "0.16666667",
         "3.0",
         "0.25",
         "1.0",
         "0.083333336",
         "1.0",
         "0.083333336",
         "4.0",
         "0.33333334",
         "2.0",
         "0.16666667",
         "2.0",
         "0.16666667",
         null,
         null,
         null,
         null,
         null,
         null,
         null,
         null,
         null,
         null,
         null,
         null,
         null,
         null,
         null,
         null,
         null,
         null,
         null,
         null
        ],
        [
         "1",
         "Angola",
         "2019",
         "16.0",
         "2.0",
         "0.125",
         "1.0",
         "0.0625",
         "1.0",
         "0.0625",
         "0.0",
         "0.0",
         "1.0",
         "0.0625",
         "2.0",
         "0.125",
         "0.0",
         "0.0",
         "4.0",
         "0.25",
         "2.0",
         "0.125",
         "5.0",
         "0.3125",
         "5.0",
         "0.3125",
         "0.0",
         "0.0",
         "1.0",
         "0.0625",
         "1.0",
         "0.0625",
         "1.0",
         "0.0625",
         "1.0",
         "0.0625",
         "5.0",
         "0.3125",
         "8.0",
         "0.5",
         "9.0",
         "0.5625",
         "5.0",
         "0.3125",
         "7.0",
         "0.4375",
         "5.0",
         "0.3125",
         "3.0",
         "0.1875",
         "6.0",
         "0.375",
         "3.0",
         "0.1875",
         "2.0",
         "0.125",
         "6.0",
         "0.375",
         "1.0",
         "0.0625",
         "1.0",
         "0.0625",
         "5.0",
         "0.3125",
         "3.0",
         "0.1875",
         "2.0",
         "0.125",
         "0.0",
         "0.0",
         null,
         null,
         null,
         null,
         null,
         null,
         null,
         null,
         null,
         null,
         null,
         null,
         null,
         null,
         null,
         null,
         "16.0",
         "1.0",
         "0.0625",
         "2.0",
         "0.125",
         "1.0",
         "0.0625",
         "1.0",
         "0.0625",
         "2.0",
         "0.125",
         "3.0",
         "0.1875",
         "0.0",
         "0.0",
         "3.0",
         "0.1875",
         "0.0",
         "0.0",
         "3.0",
         "0.1875",
         "1.0",
         "0.0625",
         "1.0",
         "0.0625",
         "1.0",
         "0.0625",
         "1.0",
         "0.0625",
         "1.0",
         "0.0625",
         "0.0",
         "0.0",
         "6.0",
         "0.375",
         "5.0",
         "0.3125",
         "8.0",
         "0.5",
         "4.0",
         "0.25",
         "9.0",
         "0.5625",
         "4.0",
         "0.25",
         "1.0",
         "0.0625",
         "4.0",
         "0.25",
         "1.0",
         "0.0625",
         "0.0",
         "0.0",
         "4.0",
         "0.25",
         "0.0",
         "0.0",
         "1.0",
         "0.0625",
         "3.0",
         "0.1875",
         "3.0",
         "0.1875",
         "1.0",
         "0.0625",
         "0.0",
         "0.0",
         null,
         null,
         null,
         null,
         null,
         null,
         null,
         null,
         null,
         null,
         null,
         null,
         null,
         null,
         null,
         null,
         "16.0",
         "1.0",
         "0.0625",
         "2.0",
         "0.125",
         "0.0",
         "0.0",
         "1.0",
         "0.0625",
         "3.0",
         "0.1875",
         "2.0",
         "0.125",
         "1.0",
         "0.0625",
         "3.0",
         "0.1875",
         "0.0",
         "0.0",
         "5.0",
         "0.3125",
         "1.0",
         "0.0625",
         "1.0",
         "0.0625",
         "1.0",
         "0.0625",
         "2.0",
         "0.125",
         "3.0",
         "0.1875",
         "1.0",
         "0.0625",
         "7.0",
         "0.4375",
         "4.0",
         "0.25",
         "5.0",
         "0.3125",
         "3.0",
         "0.1875",
         "6.0",
         "0.375",
         "2.0",
         "0.125",
         "1.0",
         "0.0625",
         "5.0",
         "0.3125",
         "2.0",
         "0.125",
         "3.0",
         "0.1875",
         "5.0",
         "0.3125",
         "1.0",
         "0.0625",
         "1.0",
         "0.0625",
         "2.0",
         "0.125",
         "2.0",
         "0.125",
         "1.0",
         "0.0625",
         "0.0",
         "0.0",
         null,
         null,
         null,
         null,
         null,
         null,
         null,
         null,
         null,
         null,
         null,
         null,
         null,
         null,
         null,
         null
        ],
        [
         "2",
         "Angola",
         "2020",
         "14.0",
         "3.0",
         "0.21428572",
         "1.0",
         "0.071428575",
         "3.0",
         "0.21428572",
         "1.0",
         "0.071428575",
         "1.0",
         "0.071428575",
         "1.0",
         "0.071428575",
         "1.0",
         "0.071428575",
         "1.0",
         "0.071428575",
         "0.0",
         "0.0",
         "0.0",
         "0.0",
         "1.0",
         "0.071428575",
         "1.0",
         "0.071428575",
         "0.0",
         "0.0",
         "0.0",
         "0.0",
         "0.0",
         "0.0",
         "0.0",
         "0.0",
         "0.0",
         "0.0",
         "0.0",
         "0.0",
         "6.0",
         "0.42857143",
         "3.0",
         "0.21428572",
         "8.0",
         "0.5714286",
         "1.0",
         "0.071428575",
         "6.0",
         "0.42857143",
         "1.0",
         "0.071428575",
         "1.0",
         "0.071428575",
         "2.0",
         "0.14285715",
         "3.0",
         "0.21428572",
         "1.0",
         "0.071428575",
         "0.0",
         "0.0",
         "0.0",
         "0.0",
         "1.0",
         "0.071428575",
         "0.0",
         "0.0",
         "1.0",
         "0.071428575",
         "0.0",
         "0.0",
         "1.0",
         "0.071428575",
         "3.0",
         "0.21428572",
         "2.0",
         "0.14285715",
         "0.0",
         "0.0",
         "2.0",
         "0.14285715",
         null,
         null,
         null,
         null,
         "15.0",
         "3.0",
         "0.2",
         "0.0",
         "0.0",
         "1.0",
         "0.06666667",
         "0.0",
         "0.0",
         "0.0",
         "0.0",
         "1.0",
         "0.06666667",
         "1.0",
         "0.06666667",
         "0.0",
         "0.0",
         "1.0",
         "0.06666667",
         "1.0",
         "0.06666667",
         "2.0",
         "0.13333334",
         "1.0",
         "0.06666667",
         "1.0",
         "0.06666667",
         "1.0",
         "0.06666667",
         "0.0",
         "0.0",
         "0.0",
         "0.0",
         "1.0",
         "0.06666667",
         "2.0",
         "0.13333334",
         "6.0",
         "0.40000001",
         "0.0",
         "0.0",
         "6.0",
         "0.40000001",
         "1.0",
         "0.06666667",
         "4.0",
         "0.26666668",
         "2.0",
         "0.13333334",
         "1.0",
         "0.06666667",
         "0.0",
         "0.0",
         "3.0",
         "0.2",
         "2.0",
         "0.13333334",
         "1.0",
         "0.06666667",
         "1.0",
         "0.06666667",
         "2.0",
         "0.13333334",
         "2.0",
         "0.13333334",
         "0.0",
         "0.0",
         "1.0",
         "0.06666667",
         "1.0",
         "0.06666667",
         "0.0",
         "0.0",
         "1.0",
         "0.06666667",
         "0.0",
         "0.0",
         "1.0",
         "0.06666667",
         null,
         null,
         null,
         null,
         "15.0",
         "3.0",
         "0.2",
         "0.0",
         "0.0",
         "1.0",
         "0.06666667",
         "0.0",
         "0.0",
         "0.0",
         "0.0",
         "0.0",
         "0.0",
         "2.0",
         "0.13333334",
         "2.0",
         "0.13333334",
         "3.0",
         "0.2",
         "0.0",
         "0.0",
         "2.0",
         "0.13333334",
         "1.0",
         "0.06666667",
         "1.0",
         "0.06666667",
         "1.0",
         "0.06666667",
         "0.0",
         "0.0",
         "1.0",
         "0.06666667",
         "1.0",
         "0.06666667",
         "2.0",
         "0.13333334",
         "7.0",
         "0.46666667",
         "2.0",
         "0.13333334",
         "5.0",
         "0.33333334",
         "1.0",
         "0.06666667",
         "5.0",
         "0.33333334",
         "2.0",
         "0.13333334",
         "1.0",
         "0.06666667",
         "2.0",
         "0.13333334",
         "3.0",
         "0.2",
         "3.0",
         "0.2",
         "0.0",
         "0.0",
         "2.0",
         "0.13333334",
         "2.0",
         "0.13333334",
         "1.0",
         "0.06666667",
         "2.0",
         "0.13333334",
         "1.0",
         "0.06666667",
         "2.0",
         "0.13333334",
         "0.0",
         "0.0",
         "1.0",
         "0.06666667",
         "0.0",
         "0.0",
         "1.0",
         "0.06666667",
         null,
         null,
         null,
         null
        ],
        [
         "3",
         "Angola",
         "2021",
         "12.0",
         "3.0",
         "0.25",
         "1.0",
         "0.0833333358168602",
         "2.0",
         "0.1666666716337204",
         "1.0",
         "0.0833333358168602",
         "2.0",
         "0.1666666716337204",
         "1.0",
         "0.0833333358168602",
         "2.0",
         "0.1666666716337204",
         "2.0",
         "0.1666666716337204",
         "1.0",
         "0.0833333358168602",
         "2.0",
         "0.1666666716337204",
         "0.0",
         "0.0",
         "3.0",
         "0.25",
         "1.0",
         "0.0833333358168602",
         "1.0",
         "0.0833333358168602",
         "1.0",
         "0.0833333358168602",
         "7.0",
         "0.5833333134651184",
         "4.0",
         "0.3333333432674408",
         "8.0",
         "0.6666666865348816",
         "6.0",
         "0.5",
         "6.0",
         "0.5",
         "3.0",
         "0.25",
         "3.0",
         "0.25",
         "3.0",
         "0.25",
         "3.0",
         "0.25",
         "3.0",
         "0.25",
         "3.0",
         "0.25",
         "2.0",
         "0.1666666716337204",
         "1.0",
         "0.0833333358168602",
         "3.0",
         "0.25",
         "2.0",
         "0.1666666716337204",
         "1.0",
         "0.0833333358168602",
         "1.0",
         "0.0833333358168602",
         "2.0",
         "0.1666666716337204",
         "0.0",
         "0.0",
         "2.0",
         "0.1666666716337204",
         "1.0",
         "0.0833333358168602",
         "1.0",
         "0.0833333358168602",
         "0.0",
         "0.0",
         "4.0",
         "0.3333333432674408",
         null,
         null,
         null,
         null,
         "15.0",
         "3.0",
         "0.2000000029802322",
         "2.0",
         "0.1333333402872086",
         "3.0",
         "0.2000000029802322",
         "1.0",
         "0.0666666701436043",
         "1.0",
         "0.0666666701436043",
         "4.0",
         "0.2666666805744171",
         "2.0",
         "0.1333333402872086",
         "3.0",
         "0.2000000029802322",
         "0.0",
         "0.0",
         "1.0",
         "0.0666666701436043",
         "1.0",
         "0.0666666701436043",
         "2.0",
         "0.1333333402872086",
         "1.0",
         "0.0666666701436043",
         "1.0",
         "0.0666666701436043",
         "0.0",
         "0.0",
         "9.0",
         "0.6000000238418579",
         "3.0",
         "0.2000000029802322",
         "10.0",
         "0.6666666865348816",
         "4.0",
         "0.2666666805744171",
         "4.0",
         "0.2666666805744171",
         "4.0",
         "0.2666666805744171",
         "1.0",
         "0.0666666701436043",
         "1.0",
         "0.0666666701436043",
         "1.0",
         "0.0666666701436043",
         "0.0",
         "0.0",
         "0.0",
         "0.0",
         "0.0",
         "0.0",
         "1.0",
         "0.0666666701436043",
         "1.0",
         "0.0666666701436043",
         "2.0",
         "0.1333333402872086",
         "0.0",
         "0.0",
         "1.0",
         "0.0666666701436043",
         "2.0",
         "0.1333333402872086",
         "0.0",
         "0.0",
         "0.0",
         "0.0",
         "1.0",
         "0.0666666701436043",
         "2.0",
         "0.1333333402872086",
         "0.0",
         "0.0",
         "3.0",
         "0.2000000029802322",
         null,
         null,
         null,
         null,
         "14.0",
         "3.0",
         "0.2142857164144516",
         "1.0",
         "0.0714285746216774",
         "2.0",
         "0.1428571492433548",
         "1.0",
         "0.0714285746216774",
         "1.0",
         "0.0714285746216774",
         "1.0",
         "0.0714285746216774",
         "1.0",
         "0.0714285746216774",
         "3.0",
         "0.2142857164144516",
         "0.0",
         "0.0",
         "1.0",
         "0.0714285746216774",
         "0.0",
         "0.0",
         "1.0",
         "0.0714285746216774",
         "1.0",
         "0.0714285746216774",
         "3.0",
         "0.2142857164144516",
         "1.0",
         "0.0714285746216774",
         "7.0",
         "0.5",
         "2.0",
         "0.1428571492433548",
         "9.0",
         "0.6428571343421936",
         "6.0",
         "0.4285714328289032",
         "6.0",
         "0.4285714328289032",
         "1.0",
         "0.0714285746216774",
         "2.0",
         "0.1428571492433548",
         "1.0",
         "0.0714285746216774",
         "2.0",
         "0.1428571492433548",
         "2.0",
         "0.1428571492433548",
         "3.0",
         "0.2142857164144516",
         "1.0",
         "0.0714285746216774",
         "1.0",
         "0.0714285746216774",
         "1.0",
         "0.0714285746216774",
         "3.0",
         "0.2142857164144516",
         "1.0",
         "0.0714285746216774",
         "1.0",
         "0.0714285746216774",
         "1.0",
         "0.0714285746216774",
         "1.0",
         "0.0714285746216774",
         "1.0",
         "0.0714285746216774",
         "1.0",
         "0.0714285746216774",
         "1.0",
         "0.0714285746216774",
         "1.0",
         "0.0714285746216774",
         "2.0",
         "0.1428571492433548",
         null,
         null,
         null,
         null
        ],
        [
         "4",
         "Angola",
         "2022",
         "10.0",
         "0.0",
         "0.0",
         "0.0",
         "0.0",
         "1.0",
         "0.1000000014901161",
         "0.0",
         "0.0",
         "0.0",
         "0.0",
         "0.0",
         "0.0",
         "0.0",
         "0.0",
         "0.0",
         "0.0",
         "1.0",
         "0.1000000014901161",
         "0.0",
         "0.0",
         "0.0",
         "0.0",
         "0.0",
         "0.0",
         "0.0",
         "0.0",
         "1.0",
         "0.1000000014901161",
         "0.0",
         "0.0",
         "7.0",
         "0.699999988079071",
         "3.0",
         "0.300000011920929",
         "9.0",
         "0.8999999761581421",
         "5.0",
         "0.5",
         "7.0",
         "0.699999988079071",
         "4.0",
         "0.4000000059604645",
         "3.0",
         "0.300000011920929",
         "2.0",
         "0.2000000029802322",
         "2.0",
         "0.2000000029802322",
         "1.0",
         "0.1000000014901161",
         "3.0",
         "0.300000011920929",
         "2.0",
         "0.2000000029802322",
         "2.0",
         "0.2000000029802322",
         "3.0",
         "0.300000011920929",
         "4.0",
         "0.4000000059604645",
         "0.0",
         "0.0",
         "1.0",
         "0.1000000014901161",
         "3.0",
         "0.300000011920929",
         "0.0",
         "0.0",
         "1.0",
         "0.1000000014901161",
         "1.0",
         "0.1000000014901161",
         "0.0",
         "0.0",
         "0.0",
         "0.0",
         "3.0",
         "0.300000011920929",
         "0.0",
         "0.0",
         "0.0",
         "0.0",
         "13.0",
         "2.0",
         "0.1538461595773697",
         "1.0",
         "0.0769230797886848",
         "1.0",
         "0.0769230797886848",
         "1.0",
         "0.0769230797886848",
         "1.0",
         "0.0769230797886848",
         "1.0",
         "0.0769230797886848",
         "1.0",
         "0.0769230797886848",
         "2.0",
         "0.1538461595773697",
         "1.0",
         "0.0769230797886848",
         "2.0",
         "0.1538461595773697",
         "0.0",
         "0.0",
         "1.0",
         "0.0769230797886848",
         "1.0",
         "0.0769230797886848",
         "1.0",
         "0.0769230797886848",
         "1.0",
         "0.0769230797886848",
         "9.0",
         "0.692307710647583",
         "4.0",
         "0.3076923191547394",
         "10.0",
         "0.7692307829856873",
         "9.0",
         "0.692307710647583",
         "7.0",
         "0.5384615659713745",
         "3.0",
         "0.2307692319154739",
         "1.0",
         "0.0769230797886848",
         "2.0",
         "0.1538461595773697",
         "2.0",
         "0.1538461595773697",
         "2.0",
         "0.1538461595773697",
         "2.0",
         "0.1538461595773697",
         "1.0",
         "0.0769230797886848",
         "1.0",
         "0.0769230797886848",
         "3.0",
         "0.2307692319154739",
         "2.0",
         "0.1538461595773697",
         "0.0",
         "0.0",
         "0.0",
         "0.0",
         "1.0",
         "0.0769230797886848",
         "1.0",
         "0.0769230797886848",
         "1.0",
         "0.0769230797886848",
         "1.0",
         "0.0769230797886848",
         "1.0",
         "0.0769230797886848",
         "0.0",
         "0.0",
         "1.0",
         "0.0769230797886848",
         "1.0",
         "0.07692308",
         "1.0",
         "0.07692308",
         "12.0",
         "6.0",
         "0.5",
         "1.0",
         "0.0833333358168602",
         "2.0",
         "0.1666666716337204",
         "0.0",
         "0.0",
         "1.0",
         "0.0833333358168602",
         "1.0",
         "0.0833333358168602",
         "1.0",
         "0.0833333358168602",
         "0.0",
         "0.0",
         "2.0",
         "0.1666666716337204",
         "1.0",
         "0.0833333358168602",
         "0.0",
         "0.0",
         "1.0",
         "0.0833333358168602",
         "1.0",
         "0.0833333358168602",
         "1.0",
         "0.0833333358168602",
         "1.0",
         "0.0833333358168602",
         "6.0",
         "0.5",
         "1.0",
         "0.0833333358168602",
         "7.0",
         "0.5833333134651184",
         "4.0",
         "0.3333333432674408",
         "4.0",
         "0.3333333432674408",
         "1.0",
         "0.0833333358168602",
         "1.0",
         "0.0833333358168602",
         "0.0",
         "0.0",
         "1.0",
         "0.0833333358168602",
         "1.0",
         "0.0833333358168602",
         "1.0",
         "0.0833333358168602",
         "0.0",
         "0.0",
         "0.0",
         "0.0",
         "2.0",
         "0.1666666716337204",
         "1.0",
         "0.0833333358168602",
         "0.0",
         "0.0",
         "1.0",
         "0.0833333358168602",
         "2.0",
         "0.1666666716337204",
         "0.0",
         "0.0",
         "1.0",
         "0.0833333358168602",
         "0.0",
         "0.0",
         "0.0",
         "0.0",
         "1.0",
         "0.0833333358168602",
         "0.0",
         "0.0",
         "1.0",
         "0.083333336",
         "0.0",
         "0.0"
        ]
       ],
       "shape": {
        "columns": 251,
        "rows": 5
       }
      },
      "text/html": [
       "<div>\n",
       "<style scoped>\n",
       "    .dataframe tbody tr th:only-of-type {\n",
       "        vertical-align: middle;\n",
       "    }\n",
       "\n",
       "    .dataframe tbody tr th {\n",
       "        vertical-align: top;\n",
       "    }\n",
       "\n",
       "    .dataframe thead th {\n",
       "        text-align: right;\n",
       "    }\n",
       "</style>\n",
       "<table border=\"1\" class=\"dataframe\">\n",
       "  <thead>\n",
       "    <tr style=\"text-align: right;\">\n",
       "      <th></th>\n",
       "      <th>country</th>\n",
       "      <th>year</th>\n",
       "      <th>arrest_total_atrisk_resp</th>\n",
       "      <th>arrest_atrisk_count1</th>\n",
       "      <th>arrest_atrisk_prop1</th>\n",
       "      <th>arrest_atrisk_count2</th>\n",
       "      <th>arrest_atrisk_prop2</th>\n",
       "      <th>arrest_atrisk_count3</th>\n",
       "      <th>arrest_atrisk_prop3</th>\n",
       "      <th>arrest_atrisk_count4</th>\n",
       "      <th>...</th>\n",
       "      <th>polpart_atrisk_count37</th>\n",
       "      <th>polpart_atrisk_prop37</th>\n",
       "      <th>polpart_atrisk_count38</th>\n",
       "      <th>polpart_atrisk_prop38</th>\n",
       "      <th>polpart_atrisk_count39</th>\n",
       "      <th>polpart_atrisk_prop39</th>\n",
       "      <th>polpart_atrisk_count40</th>\n",
       "      <th>polpart_atrisk_prop40</th>\n",
       "      <th>polpart_atrisk_count41</th>\n",
       "      <th>polpart_atrisk_prop41</th>\n",
       "    </tr>\n",
       "  </thead>\n",
       "  <tbody>\n",
       "    <tr>\n",
       "      <th>0</th>\n",
       "      <td>Angola</td>\n",
       "      <td>2018</td>\n",
       "      <td>12.0</td>\n",
       "      <td>0.0</td>\n",
       "      <td>0.000000</td>\n",
       "      <td>0.0</td>\n",
       "      <td>0.000000</td>\n",
       "      <td>0.0</td>\n",
       "      <td>0.000000</td>\n",
       "      <td>0.0</td>\n",
       "      <td>...</td>\n",
       "      <td>NaN</td>\n",
       "      <td>NaN</td>\n",
       "      <td>NaN</td>\n",
       "      <td>NaN</td>\n",
       "      <td>NaN</td>\n",
       "      <td>NaN</td>\n",
       "      <td>NaN</td>\n",
       "      <td>NaN</td>\n",
       "      <td>NaN</td>\n",
       "      <td>NaN</td>\n",
       "    </tr>\n",
       "    <tr>\n",
       "      <th>1</th>\n",
       "      <td>Angola</td>\n",
       "      <td>2019</td>\n",
       "      <td>16.0</td>\n",
       "      <td>2.0</td>\n",
       "      <td>0.125000</td>\n",
       "      <td>1.0</td>\n",
       "      <td>0.062500</td>\n",
       "      <td>1.0</td>\n",
       "      <td>0.062500</td>\n",
       "      <td>0.0</td>\n",
       "      <td>...</td>\n",
       "      <td>NaN</td>\n",
       "      <td>NaN</td>\n",
       "      <td>NaN</td>\n",
       "      <td>NaN</td>\n",
       "      <td>NaN</td>\n",
       "      <td>NaN</td>\n",
       "      <td>NaN</td>\n",
       "      <td>NaN</td>\n",
       "      <td>NaN</td>\n",
       "      <td>NaN</td>\n",
       "    </tr>\n",
       "    <tr>\n",
       "      <th>2</th>\n",
       "      <td>Angola</td>\n",
       "      <td>2020</td>\n",
       "      <td>14.0</td>\n",
       "      <td>3.0</td>\n",
       "      <td>0.214286</td>\n",
       "      <td>1.0</td>\n",
       "      <td>0.071429</td>\n",
       "      <td>3.0</td>\n",
       "      <td>0.214286</td>\n",
       "      <td>1.0</td>\n",
       "      <td>...</td>\n",
       "      <td>1.0</td>\n",
       "      <td>0.066667</td>\n",
       "      <td>0.0</td>\n",
       "      <td>0.000000</td>\n",
       "      <td>1.0</td>\n",
       "      <td>0.066667</td>\n",
       "      <td>NaN</td>\n",
       "      <td>NaN</td>\n",
       "      <td>NaN</td>\n",
       "      <td>NaN</td>\n",
       "    </tr>\n",
       "    <tr>\n",
       "      <th>3</th>\n",
       "      <td>Angola</td>\n",
       "      <td>2021</td>\n",
       "      <td>12.0</td>\n",
       "      <td>3.0</td>\n",
       "      <td>0.250000</td>\n",
       "      <td>1.0</td>\n",
       "      <td>0.083333</td>\n",
       "      <td>2.0</td>\n",
       "      <td>0.166667</td>\n",
       "      <td>1.0</td>\n",
       "      <td>...</td>\n",
       "      <td>1.0</td>\n",
       "      <td>0.071429</td>\n",
       "      <td>1.0</td>\n",
       "      <td>0.071429</td>\n",
       "      <td>2.0</td>\n",
       "      <td>0.142857</td>\n",
       "      <td>NaN</td>\n",
       "      <td>NaN</td>\n",
       "      <td>NaN</td>\n",
       "      <td>NaN</td>\n",
       "    </tr>\n",
       "    <tr>\n",
       "      <th>4</th>\n",
       "      <td>Angola</td>\n",
       "      <td>2022</td>\n",
       "      <td>10.0</td>\n",
       "      <td>0.0</td>\n",
       "      <td>0.000000</td>\n",
       "      <td>0.0</td>\n",
       "      <td>0.000000</td>\n",
       "      <td>1.0</td>\n",
       "      <td>0.100000</td>\n",
       "      <td>0.0</td>\n",
       "      <td>...</td>\n",
       "      <td>0.0</td>\n",
       "      <td>0.000000</td>\n",
       "      <td>1.0</td>\n",
       "      <td>0.083333</td>\n",
       "      <td>0.0</td>\n",
       "      <td>0.000000</td>\n",
       "      <td>1.0</td>\n",
       "      <td>0.083333</td>\n",
       "      <td>0.0</td>\n",
       "      <td>0.0</td>\n",
       "    </tr>\n",
       "  </tbody>\n",
       "</table>\n",
       "<p>5 rows × 251 columns</p>\n",
       "</div>"
      ],
      "text/plain": [
       "  country  year  arrest_total_atrisk_resp  arrest_atrisk_count1  \\\n",
       "0  Angola  2018                      12.0                   0.0   \n",
       "1  Angola  2019                      16.0                   2.0   \n",
       "2  Angola  2020                      14.0                   3.0   \n",
       "3  Angola  2021                      12.0                   3.0   \n",
       "4  Angola  2022                      10.0                   0.0   \n",
       "\n",
       "   arrest_atrisk_prop1  arrest_atrisk_count2  arrest_atrisk_prop2  \\\n",
       "0             0.000000                   0.0             0.000000   \n",
       "1             0.125000                   1.0             0.062500   \n",
       "2             0.214286                   1.0             0.071429   \n",
       "3             0.250000                   1.0             0.083333   \n",
       "4             0.000000                   0.0             0.000000   \n",
       "\n",
       "   arrest_atrisk_count3  arrest_atrisk_prop3  arrest_atrisk_count4  ...  \\\n",
       "0                   0.0             0.000000                   0.0  ...   \n",
       "1                   1.0             0.062500                   0.0  ...   \n",
       "2                   3.0             0.214286                   1.0  ...   \n",
       "3                   2.0             0.166667                   1.0  ...   \n",
       "4                   1.0             0.100000                   0.0  ...   \n",
       "\n",
       "   polpart_atrisk_count37  polpart_atrisk_prop37  polpart_atrisk_count38  \\\n",
       "0                     NaN                    NaN                     NaN   \n",
       "1                     NaN                    NaN                     NaN   \n",
       "2                     1.0               0.066667                     0.0   \n",
       "3                     1.0               0.071429                     1.0   \n",
       "4                     0.0               0.000000                     1.0   \n",
       "\n",
       "   polpart_atrisk_prop38  polpart_atrisk_count39  polpart_atrisk_prop39  \\\n",
       "0                    NaN                     NaN                    NaN   \n",
       "1                    NaN                     NaN                    NaN   \n",
       "2               0.000000                     1.0               0.066667   \n",
       "3               0.071429                     2.0               0.142857   \n",
       "4               0.083333                     0.0               0.000000   \n",
       "\n",
       "   polpart_atrisk_count40  polpart_atrisk_prop40  polpart_atrisk_count41  \\\n",
       "0                     NaN                    NaN                     NaN   \n",
       "1                     NaN                    NaN                     NaN   \n",
       "2                     NaN                    NaN                     NaN   \n",
       "3                     NaN                    NaN                     NaN   \n",
       "4                     1.0               0.083333                     0.0   \n",
       "\n",
       "   polpart_atrisk_prop41  \n",
       "0                    NaN  \n",
       "1                    NaN  \n",
       "2                    NaN  \n",
       "3                    NaN  \n",
       "4                    0.0  \n",
       "\n",
       "[5 rows x 251 columns]"
      ]
     },
     "execution_count": 9,
     "metadata": {},
     "output_type": "execute_result"
    }
   ],
   "source": [
    "cols_to_keep = ['country', 'year'] + [col for col in people_at_risk.columns if col.startswith(('arrest', 'assem', 'polpart'))]\n",
    "people_at_risk = people_at_risk[cols_to_keep]\n",
    "people_at_risk.head()"
   ]
  },
  {
   "cell_type": "markdown",
   "id": "21de90bf",
   "metadata": {},
   "source": [
    "look at the changes in rights for people of certian races, sexual orenitations, and migrants over the final three years of the trump admin, and first three of the biden.\n",
    "<br>\n",
    "<small> 4 = races, 11 = lgbt, 24 = migrants\n"
   ]
  },
  {
   "cell_type": "code",
   "execution_count": 10,
   "id": "4f6f3086",
   "metadata": {},
   "outputs": [],
   "source": [
    "means_seperated = people_at_risk.groupby('year').mean(numeric_only=True)\n",
    "prop_cols = [col for col in means_seperated.columns if (\n",
    "\tcol.endswith('prop4') or col.endswith('prop11') or col.endswith('prop24')\n",
    ")]\n",
    "means_seperated = means_seperated[prop_cols]\n"
   ]
  },
  {
   "cell_type": "code",
   "execution_count": 11,
   "id": "3ae7f372",
   "metadata": {},
   "outputs": [],
   "source": [
    "means_seperated = means_seperated.rename(columns={\n",
    "    'arrest_atrisk_prop4': 'Arrest (Race/Ethnicity)',\n",
    "    'arrest_atrisk_prop11': 'Arrest (LGBTQ+)',\n",
    "    'arrest_atrisk_prop24': 'Arrest (Migrant)',\n",
    "    'assem_atrisk_prop4': 'Assembly (Race/Ethnicity)',\n",
    "    'assem_atrisk_prop11': 'Assembly (LGBTQ+)',\n",
    "    'assem_atrisk_prop24': 'Assembly (Migrant)',\n",
    "    'polpart_atrisk_prop4': 'Political Participation (Race/Ethnicity)',\n",
    "    'polpart_atrisk_prop11': 'Political Participation (LGBTQ+)',\n",
    "    'polpart_atrisk_prop24': 'Political Participation (Migrant)'\n",
    "})"
   ]
  },
  {
   "cell_type": "markdown",
   "id": "544799e9",
   "metadata": {},
   "source": [
    "##### Plot Two - Proportion Feeling Unsafe by Marginalized Group"
   ]
  },
  {
   "cell_type": "markdown",
   "id": "d1217b3a",
   "metadata": {},
   "source": [
    "Somewhat counterintuitvely we see the proportion of those feeling unhappy about the freedom from arrest, freedom of assembly, and freedom of political participation stays constant over a two year period of the trump admin, but increase exponentially during the final year of the biden admin. In praticular those who were part of the LGBTQ+ community, saw some of the greatest increases in dissatisfaction. This is intresting especially considering republican attacks on LGBTQ+ rights and the democrats relative support of such rights. Also intrestingly migrants felt a decrease in freedom of assembly over the first trump term, which makes sense considering his frequent attacks on migrants."
   ]
  },
  {
   "cell_type": "code",
   "execution_count": 12,
   "id": "d5ced016",
   "metadata": {},
   "outputs": [
    {
     "data": {
      "image/png": "[encoded data removed]",
      "text/plain": [
       "<Figure size 800x500 with 1 Axes>"
      ]
     },
     "metadata": {},
     "output_type": "display_data"
    },
    {
     "data": {
      "image/png": "[encoded data removed]",
      "text/plain": [
       "<Figure size 800x500 with 1 Axes>"
      ]
     },
     "metadata": {},
     "output_type": "display_data"
    },
    {
     "data": {
      "image/png": "[encoded data removed]",
      "text/plain": [
       "<Figure size 800x500 with 1 Axes>"
      ]
     },
     "metadata": {},
     "output_type": "display_data"
    }
   ],
   "source": [
    "# Arrest\n",
    "means_seperated[['Arrest (Race/Ethnicity)', 'Arrest (LGBTQ+)', 'Arrest (Migrant)']].plot(marker='o', figsize=(8, 5))\n",
    "plt.title('Arrest: Freedom for Sub Groups')\n",
    "plt.ylabel('Proportion Feeling Unsafe')\n",
    "plt.xlabel('Year')\n",
    "plt.legend(title='Indicator', bbox_to_anchor=(1.05, 1), loc='upper left')\n",
    "plt.axvspan(2018, 2020, color='orange', alpha=0.2, label='Trump Start')\n",
    "plt.axvspan(2021, 2023, color='blue', alpha=0.2, label='Biden Start')\n",
    "plt.tight_layout()\n",
    "plt.show()\n",
    "\n",
    "# Assembly\n",
    "means_seperated[['Assembly (Race/Ethnicity)', 'Assembly (LGBTQ+)', 'Assembly (Migrant)']].plot(marker='o', figsize=(8, 5))\n",
    "plt.title('Assembly: Freedom for Sub Groups')\n",
    "plt.ylabel('Proportion Feeling Unsafe')\n",
    "plt.xlabel('Year')\n",
    "plt.legend(title='Indicator', bbox_to_anchor=(1.05, 1), loc='upper left')\n",
    "plt.axvspan(2018, 2020, color='orange', alpha=0.2, label='Trump Start')\n",
    "plt.axvspan(2021, 2023, color='blue', alpha=0.2, label='Biden Start')\n",
    "plt.tight_layout()\n",
    "plt.show()\n",
    "\n",
    "# Political Participation\n",
    "means_seperated[['Political Participation (Race/Ethnicity)', 'Political Participation (LGBTQ+)', 'Political Participation (Migrant)']].plot(marker='o', figsize=(8, 5))\n",
    "plt.title('Political Participation: Freedom for Sub Groups')\n",
    "plt.ylabel('Proportion Feeling Unsafe')\n",
    "plt.xlabel('Year')\n",
    "plt.legend(title='Indicator', bbox_to_anchor=(1.05, 1), loc='upper left')\n",
    "plt.axvspan(2018, 2020, color='orange', alpha=0.2, label='Trump Start')\n",
    "plt.axvspan(2021, 2023, color='blue', alpha=0.2, label='Biden Start')\n",
    "plt.tight_layout()\n",
    "plt.show()"
   ]
  },
  {
   "cell_type": "code",
   "execution_count": 13,
   "id": "d5d7ff51",
   "metadata": {},
   "outputs": [
    {
     "data": {
      "application/vnd.microsoft.datawrangler.viewer.v0+json": {
       "columns": [
        {
         "name": "index",
         "rawType": "int64",
         "type": "integer"
        },
        {
         "name": "country",
         "rawType": "object",
         "type": "string"
        },
        {
         "name": "year",
         "rawType": "int64",
         "type": "integer"
        },
        {
         "name": "Right to opinion/expression",
         "rawType": "float64",
         "type": "float"
        },
        {
         "name": "Right to participate in government",
         "rawType": "float64",
         "type": "float"
        },
        {
         "name": "Right to assembly/association",
         "rawType": "float64",
         "type": "float"
        },
        {
         "name": "Overall empowerment rights",
         "rawType": "float64",
         "type": "float"
        }
       ],
       "conversionMethod": "pd.DataFrame",
       "ref": "f92a1401-8087-451d-a0a3-39fd76a45f2d",
       "rows": [
        [
         "111",
         "United States",
         "2017",
         "5.647172",
         "4.1439233",
         "5.882627",
         "5.2311525"
        ],
        [
         "112",
         "United States",
         "2018",
         "5.9082823",
         "4.9165034",
         "6.6888933",
         "5.8049974"
        ],
        [
         "113",
         "United States",
         "2019",
         "5.6836648",
         "5.126822",
         "6.5200963",
         "5.7611585"
        ],
        [
         "114",
         "United States",
         "2020",
         "5.3612118",
         "4.7167506",
         "5.173121",
         "4.8452997"
        ],
        [
         "115",
         "United States",
         "2021",
         "6.0722451",
         "5.1586475",
         "6.1313562",
         "5.5832629"
        ]
       ],
       "shape": {
        "columns": 6,
        "rows": 5
       }
      },
      "text/html": [
       "<div>\n",
       "<style scoped>\n",
       "    .dataframe tbody tr th:only-of-type {\n",
       "        vertical-align: middle;\n",
       "    }\n",
       "\n",
       "    .dataframe tbody tr th {\n",
       "        vertical-align: top;\n",
       "    }\n",
       "\n",
       "    .dataframe thead th {\n",
       "        text-align: right;\n",
       "    }\n",
       "</style>\n",
       "<table border=\"1\" class=\"dataframe\">\n",
       "  <thead>\n",
       "    <tr style=\"text-align: right;\">\n",
       "      <th></th>\n",
       "      <th>country</th>\n",
       "      <th>year</th>\n",
       "      <th>Right to opinion/expression</th>\n",
       "      <th>Right to participate in government</th>\n",
       "      <th>Right to assembly/association</th>\n",
       "      <th>Overall empowerment rights</th>\n",
       "    </tr>\n",
       "  </thead>\n",
       "  <tbody>\n",
       "    <tr>\n",
       "      <th>111</th>\n",
       "      <td>United States</td>\n",
       "      <td>2017</td>\n",
       "      <td>5.647172</td>\n",
       "      <td>4.143923</td>\n",
       "      <td>5.882627</td>\n",
       "      <td>5.231153</td>\n",
       "    </tr>\n",
       "    <tr>\n",
       "      <th>112</th>\n",
       "      <td>United States</td>\n",
       "      <td>2018</td>\n",
       "      <td>5.908282</td>\n",
       "      <td>4.916503</td>\n",
       "      <td>6.688893</td>\n",
       "      <td>5.804997</td>\n",
       "    </tr>\n",
       "    <tr>\n",
       "      <th>113</th>\n",
       "      <td>United States</td>\n",
       "      <td>2019</td>\n",
       "      <td>5.683665</td>\n",
       "      <td>5.126822</td>\n",
       "      <td>6.520096</td>\n",
       "      <td>5.761158</td>\n",
       "    </tr>\n",
       "    <tr>\n",
       "      <th>114</th>\n",
       "      <td>United States</td>\n",
       "      <td>2020</td>\n",
       "      <td>5.361212</td>\n",
       "      <td>4.716751</td>\n",
       "      <td>5.173121</td>\n",
       "      <td>4.845300</td>\n",
       "    </tr>\n",
       "    <tr>\n",
       "      <th>115</th>\n",
       "      <td>United States</td>\n",
       "      <td>2021</td>\n",
       "      <td>6.072245</td>\n",
       "      <td>5.158647</td>\n",
       "      <td>6.131356</td>\n",
       "      <td>5.583263</td>\n",
       "    </tr>\n",
       "  </tbody>\n",
       "</table>\n",
       "</div>"
      ],
      "text/plain": [
       "           country  year  Right to opinion/expression  \\\n",
       "111  United States  2017                     5.647172   \n",
       "112  United States  2018                     5.908282   \n",
       "113  United States  2019                     5.683665   \n",
       "114  United States  2020                     5.361212   \n",
       "115  United States  2021                     6.072245   \n",
       "\n",
       "     Right to participate in government  Right to assembly/association  \\\n",
       "111                            4.143923                       5.882627   \n",
       "112                            4.916503                       6.688893   \n",
       "113                            5.126822                       6.520096   \n",
       "114                            4.716751                       5.173121   \n",
       "115                            5.158647                       6.131356   \n",
       "\n",
       "     Overall empowerment rights  \n",
       "111                    5.231153  \n",
       "112                    5.804997  \n",
       "113                    5.761158  \n",
       "114                    4.845300  \n",
       "115                    5.583263  "
      ]
     },
     "execution_count": 13,
     "metadata": {},
     "output_type": "execute_result"
    }
   ],
   "source": [
    "civil_poli_rights_US = civil_poli_rights[civil_poli_rights['country'] == 'United States']\n",
    "civil_poli_rights_US = civil_poli_rights_US.rename(columns=column_mapping_summary)\n",
    "civil_poli_rights_US.head()"
   ]
  },
  {
   "cell_type": "markdown",
   "id": "256ed540",
   "metadata": {},
   "source": [
    "##### Plot Three - Changes in Markers for the United States"
   ]
  },
  {
   "cell_type": "markdown",
   "id": "3a659f70",
   "metadata": {},
   "source": [
    "When you seperate our key indicators down to just the scores from the united states you can see a much more intuitive and pronounced impact of the presidency. Over the final two years of the trump admin you see a significant decrease in all measures of freedom and political rights. Outside of freedom for execution you see a significant drop in respect for each of these rights at the end of the trump admin. These all make a significant comeback at the start of the biden admin. However, following the sharp comeback, they begin to slip slightly across the board as we progress through the biden admin. However, all indicators remain elevated compared to where they lie at the end of the trump presidency."
   ]
  },
  {
   "cell_type": "code",
   "execution_count": 14,
   "id": "63369cf9",
   "metadata": {},
   "outputs": [
    {
     "data": {
      "image/png": "[encoded data removed]",
      "text/plain": [
       "<Figure size 640x480 with 1 Axes>"
      ]
     },
     "metadata": {},
     "output_type": "display_data"
    }
   ],
   "source": [
    "from collections import OrderedDict\n",
    "\n",
    "ax = civil_poli_rights_US.plot(x='year', marker='o')\n",
    "plt.title('Political Freedom Indicators in the United States Over Time')\n",
    "plt.xlabel('Year')\n",
    "plt.ylabel('Respect for Right')\n",
    "plt.legend(title='Indicator', bbox_to_anchor=(1.05, 1), loc='upper left')\n",
    "\n",
    "# Shade 2017-2019 (Trump start) and 2021-2023 (Biden start)\n",
    "plt.axvspan(2017, 2021, color='orange', alpha=0.2, label='Trump Start')\n",
    "plt.axvspan(2021, 2023, color='blue', alpha=0.2, label='Biden Start')\n",
    "\n",
    "# Only show one label per shaded region in the legend\n",
    "handles, labels = ax.get_legend_handles_labels()\n",
    "by_label = OrderedDict(zip(labels, handles))\n",
    "plt.legend(by_label.values(), by_label.keys(), bbox_to_anchor=(1.05, 1), loc='upper left')\n",
    "plt.show()"
   ]
  },
  {
   "cell_type": "markdown",
   "id": "2d737a85",
   "metadata": {},
   "source": [
    "##### Conclusions"
   ]
  },
  {
   "cell_type": "markdown",
   "id": "554c2c4e",
   "metadata": {},
   "source": [
    "In terms of the world. The american presidency does not seem to have a super obvious impact on poltical freedom around the world. Where we saw a decline in american political freedoms in the first trump term, the rest of the world experinced a significant increase in poltical freedom. Furthermore, in the biden admin throughout the world we saw a decrease in politcal freedom but an increase in america. It is also important to note throughout the world marginalized groups where signifcantly impacted realting to the decrease in freedoms we saw in 2021-2023. We can conclude that likley, there is confounding vars that are resposible for the world wide trends we see in political freedoms. However, within america, we can concldue there was a signifcant drop in political freedom due to the trump admin, and then a realtive increase following the election of Joe Biden."
   ]
  },
  {
   "cell_type": "markdown",
   "id": "238095f4",
   "metadata": {},
   "source": [
    "#### Change in Civil Rights"
   ]
  },
  {
   "cell_type": "code",
   "execution_count": null,
   "id": "f2c8c751",
   "metadata": {},
   "outputs": [],
   "source": []
  },
  {
   "cell_type": "markdown",
   "id": "5bafe892",
   "metadata": {},
   "source": [
    "#### Economic Prosperity"
   ]
  },
  {
   "cell_type": "code",
   "execution_count": null,
   "id": "6fd22b91",
   "metadata": {},
   "outputs": [],
   "source": []
  }
 ],
 "metadata": {
  "kernelspec": {
   "display_name": "base",
   "language": "python",
   "name": "python3"
  },
  "language_info": {
   "codemirror_mode": {
    "name": "ipython",
    "version": 3
   },
   "file_extension": ".py",
   "mimetype": "text/x-python",
   "name": "python",
   "nbconvert_exporter": "python",
   "pygments_lexer": "ipython3",
   "version": "3.12.7"
  }
 },
 "nbformat": 4,
 "nbformat_minor": 5
}
